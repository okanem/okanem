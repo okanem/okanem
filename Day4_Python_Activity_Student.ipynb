{
  "cells": [
    {
      "cell_type": "markdown",
      "metadata": {
        "id": "view-in-github",
        "colab_type": "text"
      },
      "source": [
        "<a href=\"https://colab.research.google.com/github/okanem/okanem/blob/main/Day4_Python_Activity_Student.ipynb\" target=\"_parent\"><img src=\"https://colab.research.google.com/assets/colab-badge.svg\" alt=\"Open In Colab\"/></a>"
      ]
    },
    {
      "cell_type": "markdown",
      "id": "1d59ce7d",
      "metadata": {
        "id": "1d59ce7d"
      },
      "source": [
        "# Pandas, Matplotlib and Seaborn"
      ]
    },
    {
      "cell_type": "code",
      "execution_count": 1,
      "id": "a163483f",
      "metadata": {
        "id": "a163483f"
      },
      "outputs": [],
      "source": [
        "import pandas as pd"
      ]
    },
    {
      "cell_type": "markdown",
      "id": "3e9cb5a8",
      "metadata": {
        "id": "3e9cb5a8"
      },
      "source": [
        "[Dataset Soruce](https://www.kaggle.com/datasets/rajkumarpandey02/gdp-in-usd-per-capita-income-by-country)"
      ]
    },
    {
      "cell_type": "markdown",
      "id": "7d8ea84d",
      "metadata": {
        "id": "7d8ea84d"
      },
      "source": [
        "CONTENT\n",
        "<p>The figures presented here do not take into account differences in the cost of living in different countries, and the results vary greatly from one year to another based on fluctuations in the exchange rates of the country's currency. Such fluctuations change a country's ranking from one year to the next, even though they often make little or no difference to the standard of living of its population.\n",
        "\n",
        "GDP per capita is often considered an indicator of a country's standard of living; however, this is inaccurate because GDP per capita is not a measure of personal income.\n",
        "\n",
        "Comparisons of national income are also frequently made on the basis of purchasing power parity (PPP), to adjust for differences in the cost of living in different countries. (See List of countries by GDP (PPP) per capita.) PPP largely removes the exchange rate problem but not others; it does not reflect the value of economic output in international trade, and it also requires more estimation than GDP per capita. On the whole, PPP per capita figures are more narrowly spread than nominal GDP per capita figures.</p>"
      ]
    },
    {
      "cell_type": "markdown",
      "id": "439369dd",
      "metadata": {
        "id": "439369dd"
      },
      "source": [
        "Here are some resources to learn about GDP:\n",
        "#### [World Bank](https://data.worldbank.org/indicator/ny.gdp.pcap.cd?most_recent_value_desc=false)\n",
        "#### [Our World in Data](https://ourworldindata.org/grapher/gdp-per-capita-worldbank)\n",
        "#### [IMF](https://www.imf.org/external/datamapper/NGDPD@WEO/OEMDC/ADVEC/WEOWORLD)\n",
        "#### [UN Data](https://data.un.org/Data.aspx?d=SNAAMA&f=grID%3A101%3BcurrID%3AUSD%3BpcFlag%3A1)\n",
        "\n"
      ]
    },
    {
      "cell_type": "code",
      "source": [
        "from google.colab import drive\n",
        "drive.mount('/content/drive')"
      ],
      "metadata": {
        "colab": {
          "base_uri": "https://localhost:8080/"
        },
        "id": "z4vj5AL9yUmm",
        "outputId": "ce4e0c8a-2b75-44b0-e202-3685a736c737"
      },
      "id": "z4vj5AL9yUmm",
      "execution_count": 2,
      "outputs": [
        {
          "output_type": "stream",
          "name": "stdout",
          "text": [
            "Mounted at /content/drive\n"
          ]
        }
      ]
    },
    {
      "cell_type": "code",
      "execution_count": 3,
      "id": "d007012d",
      "metadata": {
        "id": "d007012d"
      },
      "outputs": [],
      "source": [
        "df = pd.read_csv(\"/content/drive/MyDrive/My Bootcamp/Pandas/Resources/GDP (nominal) per Capita.csv\",encoding= 'unicode_escape',  index_col=0)"
      ]
    },
    {
      "cell_type": "markdown",
      "id": "96a8f1f7",
      "metadata": {
        "id": "96a8f1f7"
      },
      "source": [
        "## EDA (Exploratory Data Analysis)"
      ]
    },
    {
      "cell_type": "markdown",
      "id": "5110f855-43ca-4e07-bab6-0339c0cfb3a0",
      "metadata": {
        "id": "5110f855-43ca-4e07-bab6-0339c0cfb3a0"
      },
      "source": [
        "### Use this section to explore and inspect dataset."
      ]
    },
    {
      "cell_type": "code",
      "execution_count": 4,
      "id": "2936370b",
      "metadata": {
        "colab": {
          "base_uri": "https://localhost:8080/",
          "height": 206
        },
        "id": "2936370b",
        "outputId": "fc31e4a7-6926-4db0-d020-988ecb93582f"
      },
      "outputs": [
        {
          "output_type": "execute_result",
          "data": {
            "text/plain": [
              "  Country/Territory UN_Region  IMF_Estimate  IMF_Year  WorldBank_Estimate  \\\n",
              "1            Monaco    Europe             0         0              234316   \n",
              "2     Liechtenstein    Europe             0         0              157755   \n",
              "3        Luxembourg    Europe        132372      2023              133590   \n",
              "4           Ireland    Europe        114581      2023              100172   \n",
              "5           Bermuda  Americas             0         0              114090   \n",
              "\n",
              "   WorldBank_Year  UN_Estimate UN_Year  \n",
              "1            2021       234317    2021  \n",
              "2            2020       169260    2021  \n",
              "3            2021       133745    2021  \n",
              "4            2021       101109    2021  \n",
              "5            2021       112653    2021  "
            ],
            "text/html": [
              "\n",
              "  <div id=\"df-97a972b1-0102-449f-a200-4e41470141d9\" class=\"colab-df-container\">\n",
              "    <div>\n",
              "<style scoped>\n",
              "    .dataframe tbody tr th:only-of-type {\n",
              "        vertical-align: middle;\n",
              "    }\n",
              "\n",
              "    .dataframe tbody tr th {\n",
              "        vertical-align: top;\n",
              "    }\n",
              "\n",
              "    .dataframe thead th {\n",
              "        text-align: right;\n",
              "    }\n",
              "</style>\n",
              "<table border=\"1\" class=\"dataframe\">\n",
              "  <thead>\n",
              "    <tr style=\"text-align: right;\">\n",
              "      <th></th>\n",
              "      <th>Country/Territory</th>\n",
              "      <th>UN_Region</th>\n",
              "      <th>IMF_Estimate</th>\n",
              "      <th>IMF_Year</th>\n",
              "      <th>WorldBank_Estimate</th>\n",
              "      <th>WorldBank_Year</th>\n",
              "      <th>UN_Estimate</th>\n",
              "      <th>UN_Year</th>\n",
              "    </tr>\n",
              "  </thead>\n",
              "  <tbody>\n",
              "    <tr>\n",
              "      <th>1</th>\n",
              "      <td>Monaco</td>\n",
              "      <td>Europe</td>\n",
              "      <td>0</td>\n",
              "      <td>0</td>\n",
              "      <td>234316</td>\n",
              "      <td>2021</td>\n",
              "      <td>234317</td>\n",
              "      <td>2021</td>\n",
              "    </tr>\n",
              "    <tr>\n",
              "      <th>2</th>\n",
              "      <td>Liechtenstein</td>\n",
              "      <td>Europe</td>\n",
              "      <td>0</td>\n",
              "      <td>0</td>\n",
              "      <td>157755</td>\n",
              "      <td>2020</td>\n",
              "      <td>169260</td>\n",
              "      <td>2021</td>\n",
              "    </tr>\n",
              "    <tr>\n",
              "      <th>3</th>\n",
              "      <td>Luxembourg</td>\n",
              "      <td>Europe</td>\n",
              "      <td>132372</td>\n",
              "      <td>2023</td>\n",
              "      <td>133590</td>\n",
              "      <td>2021</td>\n",
              "      <td>133745</td>\n",
              "      <td>2021</td>\n",
              "    </tr>\n",
              "    <tr>\n",
              "      <th>4</th>\n",
              "      <td>Ireland</td>\n",
              "      <td>Europe</td>\n",
              "      <td>114581</td>\n",
              "      <td>2023</td>\n",
              "      <td>100172</td>\n",
              "      <td>2021</td>\n",
              "      <td>101109</td>\n",
              "      <td>2021</td>\n",
              "    </tr>\n",
              "    <tr>\n",
              "      <th>5</th>\n",
              "      <td>Bermuda</td>\n",
              "      <td>Americas</td>\n",
              "      <td>0</td>\n",
              "      <td>0</td>\n",
              "      <td>114090</td>\n",
              "      <td>2021</td>\n",
              "      <td>112653</td>\n",
              "      <td>2021</td>\n",
              "    </tr>\n",
              "  </tbody>\n",
              "</table>\n",
              "</div>\n",
              "    <div class=\"colab-df-buttons\">\n",
              "\n",
              "  <div class=\"colab-df-container\">\n",
              "    <button class=\"colab-df-convert\" onclick=\"convertToInteractive('df-97a972b1-0102-449f-a200-4e41470141d9')\"\n",
              "            title=\"Convert this dataframe to an interactive table.\"\n",
              "            style=\"display:none;\">\n",
              "\n",
              "  <svg xmlns=\"http://www.w3.org/2000/svg\" height=\"24px\" viewBox=\"0 -960 960 960\">\n",
              "    <path d=\"M120-120v-720h720v720H120Zm60-500h600v-160H180v160Zm220 220h160v-160H400v160Zm0 220h160v-160H400v160ZM180-400h160v-160H180v160Zm440 0h160v-160H620v160ZM180-180h160v-160H180v160Zm440 0h160v-160H620v160Z\"/>\n",
              "  </svg>\n",
              "    </button>\n",
              "\n",
              "  <style>\n",
              "    .colab-df-container {\n",
              "      display:flex;\n",
              "      gap: 12px;\n",
              "    }\n",
              "\n",
              "    .colab-df-convert {\n",
              "      background-color: #E8F0FE;\n",
              "      border: none;\n",
              "      border-radius: 50%;\n",
              "      cursor: pointer;\n",
              "      display: none;\n",
              "      fill: #1967D2;\n",
              "      height: 32px;\n",
              "      padding: 0 0 0 0;\n",
              "      width: 32px;\n",
              "    }\n",
              "\n",
              "    .colab-df-convert:hover {\n",
              "      background-color: #E2EBFA;\n",
              "      box-shadow: 0px 1px 2px rgba(60, 64, 67, 0.3), 0px 1px 3px 1px rgba(60, 64, 67, 0.15);\n",
              "      fill: #174EA6;\n",
              "    }\n",
              "\n",
              "    .colab-df-buttons div {\n",
              "      margin-bottom: 4px;\n",
              "    }\n",
              "\n",
              "    [theme=dark] .colab-df-convert {\n",
              "      background-color: #3B4455;\n",
              "      fill: #D2E3FC;\n",
              "    }\n",
              "\n",
              "    [theme=dark] .colab-df-convert:hover {\n",
              "      background-color: #434B5C;\n",
              "      box-shadow: 0px 1px 3px 1px rgba(0, 0, 0, 0.15);\n",
              "      filter: drop-shadow(0px 1px 2px rgba(0, 0, 0, 0.3));\n",
              "      fill: #FFFFFF;\n",
              "    }\n",
              "  </style>\n",
              "\n",
              "    <script>\n",
              "      const buttonEl =\n",
              "        document.querySelector('#df-97a972b1-0102-449f-a200-4e41470141d9 button.colab-df-convert');\n",
              "      buttonEl.style.display =\n",
              "        google.colab.kernel.accessAllowed ? 'block' : 'none';\n",
              "\n",
              "      async function convertToInteractive(key) {\n",
              "        const element = document.querySelector('#df-97a972b1-0102-449f-a200-4e41470141d9');\n",
              "        const dataTable =\n",
              "          await google.colab.kernel.invokeFunction('convertToInteractive',\n",
              "                                                    [key], {});\n",
              "        if (!dataTable) return;\n",
              "\n",
              "        const docLinkHtml = 'Like what you see? Visit the ' +\n",
              "          '<a target=\"_blank\" href=https://colab.research.google.com/notebooks/data_table.ipynb>data table notebook</a>'\n",
              "          + ' to learn more about interactive tables.';\n",
              "        element.innerHTML = '';\n",
              "        dataTable['output_type'] = 'display_data';\n",
              "        await google.colab.output.renderOutput(dataTable, element);\n",
              "        const docLink = document.createElement('div');\n",
              "        docLink.innerHTML = docLinkHtml;\n",
              "        element.appendChild(docLink);\n",
              "      }\n",
              "    </script>\n",
              "  </div>\n",
              "\n",
              "\n",
              "    <div id=\"df-85931130-dc73-41e0-bd41-21b54ddc5243\">\n",
              "      <button class=\"colab-df-quickchart\" onclick=\"quickchart('df-85931130-dc73-41e0-bd41-21b54ddc5243')\"\n",
              "                title=\"Suggest charts\"\n",
              "                style=\"display:none;\">\n",
              "\n",
              "<svg xmlns=\"http://www.w3.org/2000/svg\" height=\"24px\"viewBox=\"0 0 24 24\"\n",
              "     width=\"24px\">\n",
              "    <g>\n",
              "        <path d=\"M19 3H5c-1.1 0-2 .9-2 2v14c0 1.1.9 2 2 2h14c1.1 0 2-.9 2-2V5c0-1.1-.9-2-2-2zM9 17H7v-7h2v7zm4 0h-2V7h2v10zm4 0h-2v-4h2v4z\"/>\n",
              "    </g>\n",
              "</svg>\n",
              "      </button>\n",
              "\n",
              "<style>\n",
              "  .colab-df-quickchart {\n",
              "      --bg-color: #E8F0FE;\n",
              "      --fill-color: #1967D2;\n",
              "      --hover-bg-color: #E2EBFA;\n",
              "      --hover-fill-color: #174EA6;\n",
              "      --disabled-fill-color: #AAA;\n",
              "      --disabled-bg-color: #DDD;\n",
              "  }\n",
              "\n",
              "  [theme=dark] .colab-df-quickchart {\n",
              "      --bg-color: #3B4455;\n",
              "      --fill-color: #D2E3FC;\n",
              "      --hover-bg-color: #434B5C;\n",
              "      --hover-fill-color: #FFFFFF;\n",
              "      --disabled-bg-color: #3B4455;\n",
              "      --disabled-fill-color: #666;\n",
              "  }\n",
              "\n",
              "  .colab-df-quickchart {\n",
              "    background-color: var(--bg-color);\n",
              "    border: none;\n",
              "    border-radius: 50%;\n",
              "    cursor: pointer;\n",
              "    display: none;\n",
              "    fill: var(--fill-color);\n",
              "    height: 32px;\n",
              "    padding: 0;\n",
              "    width: 32px;\n",
              "  }\n",
              "\n",
              "  .colab-df-quickchart:hover {\n",
              "    background-color: var(--hover-bg-color);\n",
              "    box-shadow: 0 1px 2px rgba(60, 64, 67, 0.3), 0 1px 3px 1px rgba(60, 64, 67, 0.15);\n",
              "    fill: var(--button-hover-fill-color);\n",
              "  }\n",
              "\n",
              "  .colab-df-quickchart-complete:disabled,\n",
              "  .colab-df-quickchart-complete:disabled:hover {\n",
              "    background-color: var(--disabled-bg-color);\n",
              "    fill: var(--disabled-fill-color);\n",
              "    box-shadow: none;\n",
              "  }\n",
              "\n",
              "  .colab-df-spinner {\n",
              "    border: 2px solid var(--fill-color);\n",
              "    border-color: transparent;\n",
              "    border-bottom-color: var(--fill-color);\n",
              "    animation:\n",
              "      spin 1s steps(1) infinite;\n",
              "  }\n",
              "\n",
              "  @keyframes spin {\n",
              "    0% {\n",
              "      border-color: transparent;\n",
              "      border-bottom-color: var(--fill-color);\n",
              "      border-left-color: var(--fill-color);\n",
              "    }\n",
              "    20% {\n",
              "      border-color: transparent;\n",
              "      border-left-color: var(--fill-color);\n",
              "      border-top-color: var(--fill-color);\n",
              "    }\n",
              "    30% {\n",
              "      border-color: transparent;\n",
              "      border-left-color: var(--fill-color);\n",
              "      border-top-color: var(--fill-color);\n",
              "      border-right-color: var(--fill-color);\n",
              "    }\n",
              "    40% {\n",
              "      border-color: transparent;\n",
              "      border-right-color: var(--fill-color);\n",
              "      border-top-color: var(--fill-color);\n",
              "    }\n",
              "    60% {\n",
              "      border-color: transparent;\n",
              "      border-right-color: var(--fill-color);\n",
              "    }\n",
              "    80% {\n",
              "      border-color: transparent;\n",
              "      border-right-color: var(--fill-color);\n",
              "      border-bottom-color: var(--fill-color);\n",
              "    }\n",
              "    90% {\n",
              "      border-color: transparent;\n",
              "      border-bottom-color: var(--fill-color);\n",
              "    }\n",
              "  }\n",
              "</style>\n",
              "\n",
              "      <script>\n",
              "        async function quickchart(key) {\n",
              "          const quickchartButtonEl =\n",
              "            document.querySelector('#' + key + ' button');\n",
              "          quickchartButtonEl.disabled = true;  // To prevent multiple clicks.\n",
              "          quickchartButtonEl.classList.add('colab-df-spinner');\n",
              "          try {\n",
              "            const charts = await google.colab.kernel.invokeFunction(\n",
              "                'suggestCharts', [key], {});\n",
              "          } catch (error) {\n",
              "            console.error('Error during call to suggestCharts:', error);\n",
              "          }\n",
              "          quickchartButtonEl.classList.remove('colab-df-spinner');\n",
              "          quickchartButtonEl.classList.add('colab-df-quickchart-complete');\n",
              "        }\n",
              "        (() => {\n",
              "          let quickchartButtonEl =\n",
              "            document.querySelector('#df-85931130-dc73-41e0-bd41-21b54ddc5243 button');\n",
              "          quickchartButtonEl.style.display =\n",
              "            google.colab.kernel.accessAllowed ? 'block' : 'none';\n",
              "        })();\n",
              "      </script>\n",
              "    </div>\n",
              "\n",
              "    </div>\n",
              "  </div>\n"
            ],
            "application/vnd.google.colaboratory.intrinsic+json": {
              "type": "dataframe",
              "variable_name": "df",
              "summary": "{\n  \"name\": \"df\",\n  \"rows\": 223,\n  \"fields\": [\n    {\n      \"column\": \"Country/Territory\",\n      \"properties\": {\n        \"dtype\": \"string\",\n        \"num_unique_values\": 223,\n        \"samples\": [\n          \"Cayman Islands\",\n          \"Montserrat\",\n          \"North Macedonia\"\n        ],\n        \"semantic_type\": \"\",\n        \"description\": \"\"\n      }\n    },\n    {\n      \"column\": \"UN_Region\",\n      \"properties\": {\n        \"dtype\": \"category\",\n        \"num_unique_values\": 6,\n        \"samples\": [\n          \"Europe\",\n          \"Americas\",\n          \"World\"\n        ],\n        \"semantic_type\": \"\",\n        \"description\": \"\"\n      }\n    },\n    {\n      \"column\": \"IMF_Estimate\",\n      \"properties\": {\n        \"dtype\": \"number\",\n        \"std\": 22550,\n        \"min\": 0,\n        \"max\": 132372,\n        \"num_unique_values\": 198,\n        \"samples\": [\n          14893,\n          5308,\n          53377\n        ],\n        \"semantic_type\": \"\",\n        \"description\": \"\"\n      }\n    },\n    {\n      \"column\": \"IMF_Year\",\n      \"properties\": {\n        \"dtype\": \"number\",\n        \"std\": 650,\n        \"min\": 0,\n        \"max\": 2023,\n        \"num_unique_values\": 4,\n        \"samples\": [\n          2023,\n          2022,\n          0\n        ],\n        \"semantic_type\": \"\",\n        \"description\": \"\"\n      }\n    },\n    {\n      \"column\": \"WorldBank_Estimate\",\n      \"properties\": {\n        \"dtype\": \"number\",\n        \"std\": 29103,\n        \"min\": 0,\n        \"max\": 234316,\n        \"num_unique_values\": 216,\n        \"samples\": [\n          676,\n          480,\n          3691\n        ],\n        \"semantic_type\": \"\",\n        \"description\": \"\"\n      }\n    },\n    {\n      \"column\": \"WorldBank_Year\",\n      \"properties\": {\n        \"dtype\": \"number\",\n        \"std\": 353,\n        \"min\": 0,\n        \"max\": 2021,\n        \"num_unique_values\": 9,\n        \"samples\": [\n          2011,\n          2020,\n          2018\n        ],\n        \"semantic_type\": \"\",\n        \"description\": \"\"\n      }\n    },\n    {\n      \"column\": \"UN_Estimate\",\n      \"properties\": {\n        \"dtype\": \"number\",\n        \"std\": 28698,\n        \"min\": 0,\n        \"max\": 234317,\n        \"num_unique_values\": 215,\n        \"samples\": [\n          623,\n          505,\n          3573\n        ],\n        \"semantic_type\": \"\",\n        \"description\": \"\"\n      }\n    },\n    {\n      \"column\": \"UN_Year\",\n      \"properties\": {\n        \"dtype\": \"category\",\n        \"num_unique_values\": 3,\n        \"samples\": [\n          \"2021\",\n          \"0\",\n          \"[n 10]2021\"\n        ],\n        \"semantic_type\": \"\",\n        \"description\": \"\"\n      }\n    }\n  ]\n}"
            }
          },
          "metadata": {},
          "execution_count": 4
        }
      ],
      "source": [
        "df.head()"
      ]
    },
    {
      "cell_type": "code",
      "execution_count": 5,
      "id": "a7037c1f",
      "metadata": {
        "colab": {
          "base_uri": "https://localhost:8080/",
          "height": 363
        },
        "id": "a7037c1f",
        "outputId": "b768b497-2a63-4b9b-cc2a-c3758bc6a14d"
      },
      "outputs": [
        {
          "output_type": "execute_result",
          "data": {
            "text/plain": [
              "   Country/Territory UN_Region  IMF_Estimate  IMF_Year  WorldBank_Estimate  \\\n",
              "1             Monaco    Europe             0         0              234316   \n",
              "2      Liechtenstein    Europe             0         0              157755   \n",
              "3         Luxembourg    Europe        132372      2023              133590   \n",
              "4            Ireland    Europe        114581      2023              100172   \n",
              "5            Bermuda  Americas             0         0              114090   \n",
              "6             Norway    Europe        101103      2023               89154   \n",
              "7        Switzerland    Europe         98767      2023               91992   \n",
              "8          Singapore      Asia         91100      2023               72794   \n",
              "9        Isle of Man    Europe             0         0               87158   \n",
              "10    Cayman Islands  Americas             0         0               86569   \n",
              "\n",
              "    WorldBank_Year  UN_Estimate UN_Year  \n",
              "1             2021       234317    2021  \n",
              "2             2020       169260    2021  \n",
              "3             2021       133745    2021  \n",
              "4             2021       101109    2021  \n",
              "5             2021       112653    2021  \n",
              "6             2021        89242    2021  \n",
              "7             2021        93525    2021  \n",
              "8             2021        66822    2021  \n",
              "9             2019            0       0  \n",
              "10            2021        85250    2021  "
            ],
            "text/html": [
              "\n",
              "  <div id=\"df-8de3acfe-3545-4a35-8580-f8d6e9759809\" class=\"colab-df-container\">\n",
              "    <div>\n",
              "<style scoped>\n",
              "    .dataframe tbody tr th:only-of-type {\n",
              "        vertical-align: middle;\n",
              "    }\n",
              "\n",
              "    .dataframe tbody tr th {\n",
              "        vertical-align: top;\n",
              "    }\n",
              "\n",
              "    .dataframe thead th {\n",
              "        text-align: right;\n",
              "    }\n",
              "</style>\n",
              "<table border=\"1\" class=\"dataframe\">\n",
              "  <thead>\n",
              "    <tr style=\"text-align: right;\">\n",
              "      <th></th>\n",
              "      <th>Country/Territory</th>\n",
              "      <th>UN_Region</th>\n",
              "      <th>IMF_Estimate</th>\n",
              "      <th>IMF_Year</th>\n",
              "      <th>WorldBank_Estimate</th>\n",
              "      <th>WorldBank_Year</th>\n",
              "      <th>UN_Estimate</th>\n",
              "      <th>UN_Year</th>\n",
              "    </tr>\n",
              "  </thead>\n",
              "  <tbody>\n",
              "    <tr>\n",
              "      <th>1</th>\n",
              "      <td>Monaco</td>\n",
              "      <td>Europe</td>\n",
              "      <td>0</td>\n",
              "      <td>0</td>\n",
              "      <td>234316</td>\n",
              "      <td>2021</td>\n",
              "      <td>234317</td>\n",
              "      <td>2021</td>\n",
              "    </tr>\n",
              "    <tr>\n",
              "      <th>2</th>\n",
              "      <td>Liechtenstein</td>\n",
              "      <td>Europe</td>\n",
              "      <td>0</td>\n",
              "      <td>0</td>\n",
              "      <td>157755</td>\n",
              "      <td>2020</td>\n",
              "      <td>169260</td>\n",
              "      <td>2021</td>\n",
              "    </tr>\n",
              "    <tr>\n",
              "      <th>3</th>\n",
              "      <td>Luxembourg</td>\n",
              "      <td>Europe</td>\n",
              "      <td>132372</td>\n",
              "      <td>2023</td>\n",
              "      <td>133590</td>\n",
              "      <td>2021</td>\n",
              "      <td>133745</td>\n",
              "      <td>2021</td>\n",
              "    </tr>\n",
              "    <tr>\n",
              "      <th>4</th>\n",
              "      <td>Ireland</td>\n",
              "      <td>Europe</td>\n",
              "      <td>114581</td>\n",
              "      <td>2023</td>\n",
              "      <td>100172</td>\n",
              "      <td>2021</td>\n",
              "      <td>101109</td>\n",
              "      <td>2021</td>\n",
              "    </tr>\n",
              "    <tr>\n",
              "      <th>5</th>\n",
              "      <td>Bermuda</td>\n",
              "      <td>Americas</td>\n",
              "      <td>0</td>\n",
              "      <td>0</td>\n",
              "      <td>114090</td>\n",
              "      <td>2021</td>\n",
              "      <td>112653</td>\n",
              "      <td>2021</td>\n",
              "    </tr>\n",
              "    <tr>\n",
              "      <th>6</th>\n",
              "      <td>Norway</td>\n",
              "      <td>Europe</td>\n",
              "      <td>101103</td>\n",
              "      <td>2023</td>\n",
              "      <td>89154</td>\n",
              "      <td>2021</td>\n",
              "      <td>89242</td>\n",
              "      <td>2021</td>\n",
              "    </tr>\n",
              "    <tr>\n",
              "      <th>7</th>\n",
              "      <td>Switzerland</td>\n",
              "      <td>Europe</td>\n",
              "      <td>98767</td>\n",
              "      <td>2023</td>\n",
              "      <td>91992</td>\n",
              "      <td>2021</td>\n",
              "      <td>93525</td>\n",
              "      <td>2021</td>\n",
              "    </tr>\n",
              "    <tr>\n",
              "      <th>8</th>\n",
              "      <td>Singapore</td>\n",
              "      <td>Asia</td>\n",
              "      <td>91100</td>\n",
              "      <td>2023</td>\n",
              "      <td>72794</td>\n",
              "      <td>2021</td>\n",
              "      <td>66822</td>\n",
              "      <td>2021</td>\n",
              "    </tr>\n",
              "    <tr>\n",
              "      <th>9</th>\n",
              "      <td>Isle of Man</td>\n",
              "      <td>Europe</td>\n",
              "      <td>0</td>\n",
              "      <td>0</td>\n",
              "      <td>87158</td>\n",
              "      <td>2019</td>\n",
              "      <td>0</td>\n",
              "      <td>0</td>\n",
              "    </tr>\n",
              "    <tr>\n",
              "      <th>10</th>\n",
              "      <td>Cayman Islands</td>\n",
              "      <td>Americas</td>\n",
              "      <td>0</td>\n",
              "      <td>0</td>\n",
              "      <td>86569</td>\n",
              "      <td>2021</td>\n",
              "      <td>85250</td>\n",
              "      <td>2021</td>\n",
              "    </tr>\n",
              "  </tbody>\n",
              "</table>\n",
              "</div>\n",
              "    <div class=\"colab-df-buttons\">\n",
              "\n",
              "  <div class=\"colab-df-container\">\n",
              "    <button class=\"colab-df-convert\" onclick=\"convertToInteractive('df-8de3acfe-3545-4a35-8580-f8d6e9759809')\"\n",
              "            title=\"Convert this dataframe to an interactive table.\"\n",
              "            style=\"display:none;\">\n",
              "\n",
              "  <svg xmlns=\"http://www.w3.org/2000/svg\" height=\"24px\" viewBox=\"0 -960 960 960\">\n",
              "    <path d=\"M120-120v-720h720v720H120Zm60-500h600v-160H180v160Zm220 220h160v-160H400v160Zm0 220h160v-160H400v160ZM180-400h160v-160H180v160Zm440 0h160v-160H620v160ZM180-180h160v-160H180v160Zm440 0h160v-160H620v160Z\"/>\n",
              "  </svg>\n",
              "    </button>\n",
              "\n",
              "  <style>\n",
              "    .colab-df-container {\n",
              "      display:flex;\n",
              "      gap: 12px;\n",
              "    }\n",
              "\n",
              "    .colab-df-convert {\n",
              "      background-color: #E8F0FE;\n",
              "      border: none;\n",
              "      border-radius: 50%;\n",
              "      cursor: pointer;\n",
              "      display: none;\n",
              "      fill: #1967D2;\n",
              "      height: 32px;\n",
              "      padding: 0 0 0 0;\n",
              "      width: 32px;\n",
              "    }\n",
              "\n",
              "    .colab-df-convert:hover {\n",
              "      background-color: #E2EBFA;\n",
              "      box-shadow: 0px 1px 2px rgba(60, 64, 67, 0.3), 0px 1px 3px 1px rgba(60, 64, 67, 0.15);\n",
              "      fill: #174EA6;\n",
              "    }\n",
              "\n",
              "    .colab-df-buttons div {\n",
              "      margin-bottom: 4px;\n",
              "    }\n",
              "\n",
              "    [theme=dark] .colab-df-convert {\n",
              "      background-color: #3B4455;\n",
              "      fill: #D2E3FC;\n",
              "    }\n",
              "\n",
              "    [theme=dark] .colab-df-convert:hover {\n",
              "      background-color: #434B5C;\n",
              "      box-shadow: 0px 1px 3px 1px rgba(0, 0, 0, 0.15);\n",
              "      filter: drop-shadow(0px 1px 2px rgba(0, 0, 0, 0.3));\n",
              "      fill: #FFFFFF;\n",
              "    }\n",
              "  </style>\n",
              "\n",
              "    <script>\n",
              "      const buttonEl =\n",
              "        document.querySelector('#df-8de3acfe-3545-4a35-8580-f8d6e9759809 button.colab-df-convert');\n",
              "      buttonEl.style.display =\n",
              "        google.colab.kernel.accessAllowed ? 'block' : 'none';\n",
              "\n",
              "      async function convertToInteractive(key) {\n",
              "        const element = document.querySelector('#df-8de3acfe-3545-4a35-8580-f8d6e9759809');\n",
              "        const dataTable =\n",
              "          await google.colab.kernel.invokeFunction('convertToInteractive',\n",
              "                                                    [key], {});\n",
              "        if (!dataTable) return;\n",
              "\n",
              "        const docLinkHtml = 'Like what you see? Visit the ' +\n",
              "          '<a target=\"_blank\" href=https://colab.research.google.com/notebooks/data_table.ipynb>data table notebook</a>'\n",
              "          + ' to learn more about interactive tables.';\n",
              "        element.innerHTML = '';\n",
              "        dataTable['output_type'] = 'display_data';\n",
              "        await google.colab.output.renderOutput(dataTable, element);\n",
              "        const docLink = document.createElement('div');\n",
              "        docLink.innerHTML = docLinkHtml;\n",
              "        element.appendChild(docLink);\n",
              "      }\n",
              "    </script>\n",
              "  </div>\n",
              "\n",
              "\n",
              "    <div id=\"df-5efb861d-e21c-4d35-869a-717f422d1368\">\n",
              "      <button class=\"colab-df-quickchart\" onclick=\"quickchart('df-5efb861d-e21c-4d35-869a-717f422d1368')\"\n",
              "                title=\"Suggest charts\"\n",
              "                style=\"display:none;\">\n",
              "\n",
              "<svg xmlns=\"http://www.w3.org/2000/svg\" height=\"24px\"viewBox=\"0 0 24 24\"\n",
              "     width=\"24px\">\n",
              "    <g>\n",
              "        <path d=\"M19 3H5c-1.1 0-2 .9-2 2v14c0 1.1.9 2 2 2h14c1.1 0 2-.9 2-2V5c0-1.1-.9-2-2-2zM9 17H7v-7h2v7zm4 0h-2V7h2v10zm4 0h-2v-4h2v4z\"/>\n",
              "    </g>\n",
              "</svg>\n",
              "      </button>\n",
              "\n",
              "<style>\n",
              "  .colab-df-quickchart {\n",
              "      --bg-color: #E8F0FE;\n",
              "      --fill-color: #1967D2;\n",
              "      --hover-bg-color: #E2EBFA;\n",
              "      --hover-fill-color: #174EA6;\n",
              "      --disabled-fill-color: #AAA;\n",
              "      --disabled-bg-color: #DDD;\n",
              "  }\n",
              "\n",
              "  [theme=dark] .colab-df-quickchart {\n",
              "      --bg-color: #3B4455;\n",
              "      --fill-color: #D2E3FC;\n",
              "      --hover-bg-color: #434B5C;\n",
              "      --hover-fill-color: #FFFFFF;\n",
              "      --disabled-bg-color: #3B4455;\n",
              "      --disabled-fill-color: #666;\n",
              "  }\n",
              "\n",
              "  .colab-df-quickchart {\n",
              "    background-color: var(--bg-color);\n",
              "    border: none;\n",
              "    border-radius: 50%;\n",
              "    cursor: pointer;\n",
              "    display: none;\n",
              "    fill: var(--fill-color);\n",
              "    height: 32px;\n",
              "    padding: 0;\n",
              "    width: 32px;\n",
              "  }\n",
              "\n",
              "  .colab-df-quickchart:hover {\n",
              "    background-color: var(--hover-bg-color);\n",
              "    box-shadow: 0 1px 2px rgba(60, 64, 67, 0.3), 0 1px 3px 1px rgba(60, 64, 67, 0.15);\n",
              "    fill: var(--button-hover-fill-color);\n",
              "  }\n",
              "\n",
              "  .colab-df-quickchart-complete:disabled,\n",
              "  .colab-df-quickchart-complete:disabled:hover {\n",
              "    background-color: var(--disabled-bg-color);\n",
              "    fill: var(--disabled-fill-color);\n",
              "    box-shadow: none;\n",
              "  }\n",
              "\n",
              "  .colab-df-spinner {\n",
              "    border: 2px solid var(--fill-color);\n",
              "    border-color: transparent;\n",
              "    border-bottom-color: var(--fill-color);\n",
              "    animation:\n",
              "      spin 1s steps(1) infinite;\n",
              "  }\n",
              "\n",
              "  @keyframes spin {\n",
              "    0% {\n",
              "      border-color: transparent;\n",
              "      border-bottom-color: var(--fill-color);\n",
              "      border-left-color: var(--fill-color);\n",
              "    }\n",
              "    20% {\n",
              "      border-color: transparent;\n",
              "      border-left-color: var(--fill-color);\n",
              "      border-top-color: var(--fill-color);\n",
              "    }\n",
              "    30% {\n",
              "      border-color: transparent;\n",
              "      border-left-color: var(--fill-color);\n",
              "      border-top-color: var(--fill-color);\n",
              "      border-right-color: var(--fill-color);\n",
              "    }\n",
              "    40% {\n",
              "      border-color: transparent;\n",
              "      border-right-color: var(--fill-color);\n",
              "      border-top-color: var(--fill-color);\n",
              "    }\n",
              "    60% {\n",
              "      border-color: transparent;\n",
              "      border-right-color: var(--fill-color);\n",
              "    }\n",
              "    80% {\n",
              "      border-color: transparent;\n",
              "      border-right-color: var(--fill-color);\n",
              "      border-bottom-color: var(--fill-color);\n",
              "    }\n",
              "    90% {\n",
              "      border-color: transparent;\n",
              "      border-bottom-color: var(--fill-color);\n",
              "    }\n",
              "  }\n",
              "</style>\n",
              "\n",
              "      <script>\n",
              "        async function quickchart(key) {\n",
              "          const quickchartButtonEl =\n",
              "            document.querySelector('#' + key + ' button');\n",
              "          quickchartButtonEl.disabled = true;  // To prevent multiple clicks.\n",
              "          quickchartButtonEl.classList.add('colab-df-spinner');\n",
              "          try {\n",
              "            const charts = await google.colab.kernel.invokeFunction(\n",
              "                'suggestCharts', [key], {});\n",
              "          } catch (error) {\n",
              "            console.error('Error during call to suggestCharts:', error);\n",
              "          }\n",
              "          quickchartButtonEl.classList.remove('colab-df-spinner');\n",
              "          quickchartButtonEl.classList.add('colab-df-quickchart-complete');\n",
              "        }\n",
              "        (() => {\n",
              "          let quickchartButtonEl =\n",
              "            document.querySelector('#df-5efb861d-e21c-4d35-869a-717f422d1368 button');\n",
              "          quickchartButtonEl.style.display =\n",
              "            google.colab.kernel.accessAllowed ? 'block' : 'none';\n",
              "        })();\n",
              "      </script>\n",
              "    </div>\n",
              "\n",
              "    </div>\n",
              "  </div>\n"
            ],
            "application/vnd.google.colaboratory.intrinsic+json": {
              "type": "dataframe",
              "variable_name": "df",
              "summary": "{\n  \"name\": \"df\",\n  \"rows\": 223,\n  \"fields\": [\n    {\n      \"column\": \"Country/Territory\",\n      \"properties\": {\n        \"dtype\": \"string\",\n        \"num_unique_values\": 223,\n        \"samples\": [\n          \"Cayman Islands\",\n          \"Montserrat\",\n          \"North Macedonia\"\n        ],\n        \"semantic_type\": \"\",\n        \"description\": \"\"\n      }\n    },\n    {\n      \"column\": \"UN_Region\",\n      \"properties\": {\n        \"dtype\": \"category\",\n        \"num_unique_values\": 6,\n        \"samples\": [\n          \"Europe\",\n          \"Americas\",\n          \"World\"\n        ],\n        \"semantic_type\": \"\",\n        \"description\": \"\"\n      }\n    },\n    {\n      \"column\": \"IMF_Estimate\",\n      \"properties\": {\n        \"dtype\": \"number\",\n        \"std\": 22550,\n        \"min\": 0,\n        \"max\": 132372,\n        \"num_unique_values\": 198,\n        \"samples\": [\n          14893,\n          5308,\n          53377\n        ],\n        \"semantic_type\": \"\",\n        \"description\": \"\"\n      }\n    },\n    {\n      \"column\": \"IMF_Year\",\n      \"properties\": {\n        \"dtype\": \"number\",\n        \"std\": 650,\n        \"min\": 0,\n        \"max\": 2023,\n        \"num_unique_values\": 4,\n        \"samples\": [\n          2023,\n          2022,\n          0\n        ],\n        \"semantic_type\": \"\",\n        \"description\": \"\"\n      }\n    },\n    {\n      \"column\": \"WorldBank_Estimate\",\n      \"properties\": {\n        \"dtype\": \"number\",\n        \"std\": 29103,\n        \"min\": 0,\n        \"max\": 234316,\n        \"num_unique_values\": 216,\n        \"samples\": [\n          676,\n          480,\n          3691\n        ],\n        \"semantic_type\": \"\",\n        \"description\": \"\"\n      }\n    },\n    {\n      \"column\": \"WorldBank_Year\",\n      \"properties\": {\n        \"dtype\": \"number\",\n        \"std\": 353,\n        \"min\": 0,\n        \"max\": 2021,\n        \"num_unique_values\": 9,\n        \"samples\": [\n          2011,\n          2020,\n          2018\n        ],\n        \"semantic_type\": \"\",\n        \"description\": \"\"\n      }\n    },\n    {\n      \"column\": \"UN_Estimate\",\n      \"properties\": {\n        \"dtype\": \"number\",\n        \"std\": 28698,\n        \"min\": 0,\n        \"max\": 234317,\n        \"num_unique_values\": 215,\n        \"samples\": [\n          623,\n          505,\n          3573\n        ],\n        \"semantic_type\": \"\",\n        \"description\": \"\"\n      }\n    },\n    {\n      \"column\": \"UN_Year\",\n      \"properties\": {\n        \"dtype\": \"category\",\n        \"num_unique_values\": 3,\n        \"samples\": [\n          \"2021\",\n          \"0\",\n          \"[n 10]2021\"\n        ],\n        \"semantic_type\": \"\",\n        \"description\": \"\"\n      }\n    }\n  ]\n}"
            }
          },
          "metadata": {},
          "execution_count": 5
        }
      ],
      "source": [
        "#print the first 10 rows\n",
        "df.head(10)"
      ]
    },
    {
      "cell_type": "code",
      "execution_count": 6,
      "id": "125349df",
      "metadata": {
        "colab": {
          "base_uri": "https://localhost:8080/",
          "height": 206
        },
        "id": "125349df",
        "outputId": "935d6396-a720-4d40-a940-321553315c7f"
      },
      "outputs": [
        {
          "output_type": "execute_result",
          "data": {
            "text/plain": [
              "    Country/Territory UN_Region  IMF_Estimate  IMF_Year  WorldBank_Estimate  \\\n",
              "219            Malawi    Africa           496      2023                 635   \n",
              "220       South Sudan    Africa           467      2023                1072   \n",
              "221      Sierra Leone    Africa           415      2023                 480   \n",
              "222       Afghanistan      Asia           611      2020                 369   \n",
              "223           Burundi    Africa           249      2023                 222   \n",
              "\n",
              "     WorldBank_Year  UN_Estimate UN_Year  \n",
              "219            2021          613    2021  \n",
              "220            2015          400    2021  \n",
              "221            2021          505    2021  \n",
              "222            2021          373    2021  \n",
              "223            2021          311    2021  "
            ],
            "text/html": [
              "\n",
              "  <div id=\"df-b5b2f260-a9bb-4a28-9abb-ee961b01e29c\" class=\"colab-df-container\">\n",
              "    <div>\n",
              "<style scoped>\n",
              "    .dataframe tbody tr th:only-of-type {\n",
              "        vertical-align: middle;\n",
              "    }\n",
              "\n",
              "    .dataframe tbody tr th {\n",
              "        vertical-align: top;\n",
              "    }\n",
              "\n",
              "    .dataframe thead th {\n",
              "        text-align: right;\n",
              "    }\n",
              "</style>\n",
              "<table border=\"1\" class=\"dataframe\">\n",
              "  <thead>\n",
              "    <tr style=\"text-align: right;\">\n",
              "      <th></th>\n",
              "      <th>Country/Territory</th>\n",
              "      <th>UN_Region</th>\n",
              "      <th>IMF_Estimate</th>\n",
              "      <th>IMF_Year</th>\n",
              "      <th>WorldBank_Estimate</th>\n",
              "      <th>WorldBank_Year</th>\n",
              "      <th>UN_Estimate</th>\n",
              "      <th>UN_Year</th>\n",
              "    </tr>\n",
              "  </thead>\n",
              "  <tbody>\n",
              "    <tr>\n",
              "      <th>219</th>\n",
              "      <td>Malawi</td>\n",
              "      <td>Africa</td>\n",
              "      <td>496</td>\n",
              "      <td>2023</td>\n",
              "      <td>635</td>\n",
              "      <td>2021</td>\n",
              "      <td>613</td>\n",
              "      <td>2021</td>\n",
              "    </tr>\n",
              "    <tr>\n",
              "      <th>220</th>\n",
              "      <td>South Sudan</td>\n",
              "      <td>Africa</td>\n",
              "      <td>467</td>\n",
              "      <td>2023</td>\n",
              "      <td>1072</td>\n",
              "      <td>2015</td>\n",
              "      <td>400</td>\n",
              "      <td>2021</td>\n",
              "    </tr>\n",
              "    <tr>\n",
              "      <th>221</th>\n",
              "      <td>Sierra Leone</td>\n",
              "      <td>Africa</td>\n",
              "      <td>415</td>\n",
              "      <td>2023</td>\n",
              "      <td>480</td>\n",
              "      <td>2021</td>\n",
              "      <td>505</td>\n",
              "      <td>2021</td>\n",
              "    </tr>\n",
              "    <tr>\n",
              "      <th>222</th>\n",
              "      <td>Afghanistan</td>\n",
              "      <td>Asia</td>\n",
              "      <td>611</td>\n",
              "      <td>2020</td>\n",
              "      <td>369</td>\n",
              "      <td>2021</td>\n",
              "      <td>373</td>\n",
              "      <td>2021</td>\n",
              "    </tr>\n",
              "    <tr>\n",
              "      <th>223</th>\n",
              "      <td>Burundi</td>\n",
              "      <td>Africa</td>\n",
              "      <td>249</td>\n",
              "      <td>2023</td>\n",
              "      <td>222</td>\n",
              "      <td>2021</td>\n",
              "      <td>311</td>\n",
              "      <td>2021</td>\n",
              "    </tr>\n",
              "  </tbody>\n",
              "</table>\n",
              "</div>\n",
              "    <div class=\"colab-df-buttons\">\n",
              "\n",
              "  <div class=\"colab-df-container\">\n",
              "    <button class=\"colab-df-convert\" onclick=\"convertToInteractive('df-b5b2f260-a9bb-4a28-9abb-ee961b01e29c')\"\n",
              "            title=\"Convert this dataframe to an interactive table.\"\n",
              "            style=\"display:none;\">\n",
              "\n",
              "  <svg xmlns=\"http://www.w3.org/2000/svg\" height=\"24px\" viewBox=\"0 -960 960 960\">\n",
              "    <path d=\"M120-120v-720h720v720H120Zm60-500h600v-160H180v160Zm220 220h160v-160H400v160Zm0 220h160v-160H400v160ZM180-400h160v-160H180v160Zm440 0h160v-160H620v160ZM180-180h160v-160H180v160Zm440 0h160v-160H620v160Z\"/>\n",
              "  </svg>\n",
              "    </button>\n",
              "\n",
              "  <style>\n",
              "    .colab-df-container {\n",
              "      display:flex;\n",
              "      gap: 12px;\n",
              "    }\n",
              "\n",
              "    .colab-df-convert {\n",
              "      background-color: #E8F0FE;\n",
              "      border: none;\n",
              "      border-radius: 50%;\n",
              "      cursor: pointer;\n",
              "      display: none;\n",
              "      fill: #1967D2;\n",
              "      height: 32px;\n",
              "      padding: 0 0 0 0;\n",
              "      width: 32px;\n",
              "    }\n",
              "\n",
              "    .colab-df-convert:hover {\n",
              "      background-color: #E2EBFA;\n",
              "      box-shadow: 0px 1px 2px rgba(60, 64, 67, 0.3), 0px 1px 3px 1px rgba(60, 64, 67, 0.15);\n",
              "      fill: #174EA6;\n",
              "    }\n",
              "\n",
              "    .colab-df-buttons div {\n",
              "      margin-bottom: 4px;\n",
              "    }\n",
              "\n",
              "    [theme=dark] .colab-df-convert {\n",
              "      background-color: #3B4455;\n",
              "      fill: #D2E3FC;\n",
              "    }\n",
              "\n",
              "    [theme=dark] .colab-df-convert:hover {\n",
              "      background-color: #434B5C;\n",
              "      box-shadow: 0px 1px 3px 1px rgba(0, 0, 0, 0.15);\n",
              "      filter: drop-shadow(0px 1px 2px rgba(0, 0, 0, 0.3));\n",
              "      fill: #FFFFFF;\n",
              "    }\n",
              "  </style>\n",
              "\n",
              "    <script>\n",
              "      const buttonEl =\n",
              "        document.querySelector('#df-b5b2f260-a9bb-4a28-9abb-ee961b01e29c button.colab-df-convert');\n",
              "      buttonEl.style.display =\n",
              "        google.colab.kernel.accessAllowed ? 'block' : 'none';\n",
              "\n",
              "      async function convertToInteractive(key) {\n",
              "        const element = document.querySelector('#df-b5b2f260-a9bb-4a28-9abb-ee961b01e29c');\n",
              "        const dataTable =\n",
              "          await google.colab.kernel.invokeFunction('convertToInteractive',\n",
              "                                                    [key], {});\n",
              "        if (!dataTable) return;\n",
              "\n",
              "        const docLinkHtml = 'Like what you see? Visit the ' +\n",
              "          '<a target=\"_blank\" href=https://colab.research.google.com/notebooks/data_table.ipynb>data table notebook</a>'\n",
              "          + ' to learn more about interactive tables.';\n",
              "        element.innerHTML = '';\n",
              "        dataTable['output_type'] = 'display_data';\n",
              "        await google.colab.output.renderOutput(dataTable, element);\n",
              "        const docLink = document.createElement('div');\n",
              "        docLink.innerHTML = docLinkHtml;\n",
              "        element.appendChild(docLink);\n",
              "      }\n",
              "    </script>\n",
              "  </div>\n",
              "\n",
              "\n",
              "    <div id=\"df-cff2d898-b93e-4fef-835b-10df444750db\">\n",
              "      <button class=\"colab-df-quickchart\" onclick=\"quickchart('df-cff2d898-b93e-4fef-835b-10df444750db')\"\n",
              "                title=\"Suggest charts\"\n",
              "                style=\"display:none;\">\n",
              "\n",
              "<svg xmlns=\"http://www.w3.org/2000/svg\" height=\"24px\"viewBox=\"0 0 24 24\"\n",
              "     width=\"24px\">\n",
              "    <g>\n",
              "        <path d=\"M19 3H5c-1.1 0-2 .9-2 2v14c0 1.1.9 2 2 2h14c1.1 0 2-.9 2-2V5c0-1.1-.9-2-2-2zM9 17H7v-7h2v7zm4 0h-2V7h2v10zm4 0h-2v-4h2v4z\"/>\n",
              "    </g>\n",
              "</svg>\n",
              "      </button>\n",
              "\n",
              "<style>\n",
              "  .colab-df-quickchart {\n",
              "      --bg-color: #E8F0FE;\n",
              "      --fill-color: #1967D2;\n",
              "      --hover-bg-color: #E2EBFA;\n",
              "      --hover-fill-color: #174EA6;\n",
              "      --disabled-fill-color: #AAA;\n",
              "      --disabled-bg-color: #DDD;\n",
              "  }\n",
              "\n",
              "  [theme=dark] .colab-df-quickchart {\n",
              "      --bg-color: #3B4455;\n",
              "      --fill-color: #D2E3FC;\n",
              "      --hover-bg-color: #434B5C;\n",
              "      --hover-fill-color: #FFFFFF;\n",
              "      --disabled-bg-color: #3B4455;\n",
              "      --disabled-fill-color: #666;\n",
              "  }\n",
              "\n",
              "  .colab-df-quickchart {\n",
              "    background-color: var(--bg-color);\n",
              "    border: none;\n",
              "    border-radius: 50%;\n",
              "    cursor: pointer;\n",
              "    display: none;\n",
              "    fill: var(--fill-color);\n",
              "    height: 32px;\n",
              "    padding: 0;\n",
              "    width: 32px;\n",
              "  }\n",
              "\n",
              "  .colab-df-quickchart:hover {\n",
              "    background-color: var(--hover-bg-color);\n",
              "    box-shadow: 0 1px 2px rgba(60, 64, 67, 0.3), 0 1px 3px 1px rgba(60, 64, 67, 0.15);\n",
              "    fill: var(--button-hover-fill-color);\n",
              "  }\n",
              "\n",
              "  .colab-df-quickchart-complete:disabled,\n",
              "  .colab-df-quickchart-complete:disabled:hover {\n",
              "    background-color: var(--disabled-bg-color);\n",
              "    fill: var(--disabled-fill-color);\n",
              "    box-shadow: none;\n",
              "  }\n",
              "\n",
              "  .colab-df-spinner {\n",
              "    border: 2px solid var(--fill-color);\n",
              "    border-color: transparent;\n",
              "    border-bottom-color: var(--fill-color);\n",
              "    animation:\n",
              "      spin 1s steps(1) infinite;\n",
              "  }\n",
              "\n",
              "  @keyframes spin {\n",
              "    0% {\n",
              "      border-color: transparent;\n",
              "      border-bottom-color: var(--fill-color);\n",
              "      border-left-color: var(--fill-color);\n",
              "    }\n",
              "    20% {\n",
              "      border-color: transparent;\n",
              "      border-left-color: var(--fill-color);\n",
              "      border-top-color: var(--fill-color);\n",
              "    }\n",
              "    30% {\n",
              "      border-color: transparent;\n",
              "      border-left-color: var(--fill-color);\n",
              "      border-top-color: var(--fill-color);\n",
              "      border-right-color: var(--fill-color);\n",
              "    }\n",
              "    40% {\n",
              "      border-color: transparent;\n",
              "      border-right-color: var(--fill-color);\n",
              "      border-top-color: var(--fill-color);\n",
              "    }\n",
              "    60% {\n",
              "      border-color: transparent;\n",
              "      border-right-color: var(--fill-color);\n",
              "    }\n",
              "    80% {\n",
              "      border-color: transparent;\n",
              "      border-right-color: var(--fill-color);\n",
              "      border-bottom-color: var(--fill-color);\n",
              "    }\n",
              "    90% {\n",
              "      border-color: transparent;\n",
              "      border-bottom-color: var(--fill-color);\n",
              "    }\n",
              "  }\n",
              "</style>\n",
              "\n",
              "      <script>\n",
              "        async function quickchart(key) {\n",
              "          const quickchartButtonEl =\n",
              "            document.querySelector('#' + key + ' button');\n",
              "          quickchartButtonEl.disabled = true;  // To prevent multiple clicks.\n",
              "          quickchartButtonEl.classList.add('colab-df-spinner');\n",
              "          try {\n",
              "            const charts = await google.colab.kernel.invokeFunction(\n",
              "                'suggestCharts', [key], {});\n",
              "          } catch (error) {\n",
              "            console.error('Error during call to suggestCharts:', error);\n",
              "          }\n",
              "          quickchartButtonEl.classList.remove('colab-df-spinner');\n",
              "          quickchartButtonEl.classList.add('colab-df-quickchart-complete');\n",
              "        }\n",
              "        (() => {\n",
              "          let quickchartButtonEl =\n",
              "            document.querySelector('#df-cff2d898-b93e-4fef-835b-10df444750db button');\n",
              "          quickchartButtonEl.style.display =\n",
              "            google.colab.kernel.accessAllowed ? 'block' : 'none';\n",
              "        })();\n",
              "      </script>\n",
              "    </div>\n",
              "\n",
              "    </div>\n",
              "  </div>\n"
            ],
            "application/vnd.google.colaboratory.intrinsic+json": {
              "type": "dataframe",
              "repr_error": "0"
            }
          },
          "metadata": {},
          "execution_count": 6
        }
      ],
      "source": [
        "#print the last 5 rows\n",
        "df.tail()"
      ]
    },
    {
      "cell_type": "code",
      "execution_count": 7,
      "id": "5b1cb937-1f1d-47f9-b9a0-de55431f663a",
      "metadata": {
        "colab": {
          "base_uri": "https://localhost:8080/",
          "height": 423
        },
        "id": "5b1cb937-1f1d-47f9-b9a0-de55431f663a",
        "outputId": "06e9ed05-2303-4c8a-fcf1-0b68e0cd8f6e"
      },
      "outputs": [
        {
          "output_type": "execute_result",
          "data": {
            "text/plain": [
              "    Country/Territory UN_Region\n",
              "1              Monaco    Europe\n",
              "2       Liechtenstein    Europe\n",
              "3          Luxembourg    Europe\n",
              "4             Ireland    Europe\n",
              "5             Bermuda  Americas\n",
              "..                ...       ...\n",
              "219            Malawi    Africa\n",
              "220       South Sudan    Africa\n",
              "221      Sierra Leone    Africa\n",
              "222       Afghanistan      Asia\n",
              "223           Burundi    Africa\n",
              "\n",
              "[223 rows x 2 columns]"
            ],
            "text/html": [
              "\n",
              "  <div id=\"df-9593b6fb-8338-41fd-b0b4-e1e25bff9ead\" class=\"colab-df-container\">\n",
              "    <div>\n",
              "<style scoped>\n",
              "    .dataframe tbody tr th:only-of-type {\n",
              "        vertical-align: middle;\n",
              "    }\n",
              "\n",
              "    .dataframe tbody tr th {\n",
              "        vertical-align: top;\n",
              "    }\n",
              "\n",
              "    .dataframe thead th {\n",
              "        text-align: right;\n",
              "    }\n",
              "</style>\n",
              "<table border=\"1\" class=\"dataframe\">\n",
              "  <thead>\n",
              "    <tr style=\"text-align: right;\">\n",
              "      <th></th>\n",
              "      <th>Country/Territory</th>\n",
              "      <th>UN_Region</th>\n",
              "    </tr>\n",
              "  </thead>\n",
              "  <tbody>\n",
              "    <tr>\n",
              "      <th>1</th>\n",
              "      <td>Monaco</td>\n",
              "      <td>Europe</td>\n",
              "    </tr>\n",
              "    <tr>\n",
              "      <th>2</th>\n",
              "      <td>Liechtenstein</td>\n",
              "      <td>Europe</td>\n",
              "    </tr>\n",
              "    <tr>\n",
              "      <th>3</th>\n",
              "      <td>Luxembourg</td>\n",
              "      <td>Europe</td>\n",
              "    </tr>\n",
              "    <tr>\n",
              "      <th>4</th>\n",
              "      <td>Ireland</td>\n",
              "      <td>Europe</td>\n",
              "    </tr>\n",
              "    <tr>\n",
              "      <th>5</th>\n",
              "      <td>Bermuda</td>\n",
              "      <td>Americas</td>\n",
              "    </tr>\n",
              "    <tr>\n",
              "      <th>...</th>\n",
              "      <td>...</td>\n",
              "      <td>...</td>\n",
              "    </tr>\n",
              "    <tr>\n",
              "      <th>219</th>\n",
              "      <td>Malawi</td>\n",
              "      <td>Africa</td>\n",
              "    </tr>\n",
              "    <tr>\n",
              "      <th>220</th>\n",
              "      <td>South Sudan</td>\n",
              "      <td>Africa</td>\n",
              "    </tr>\n",
              "    <tr>\n",
              "      <th>221</th>\n",
              "      <td>Sierra Leone</td>\n",
              "      <td>Africa</td>\n",
              "    </tr>\n",
              "    <tr>\n",
              "      <th>222</th>\n",
              "      <td>Afghanistan</td>\n",
              "      <td>Asia</td>\n",
              "    </tr>\n",
              "    <tr>\n",
              "      <th>223</th>\n",
              "      <td>Burundi</td>\n",
              "      <td>Africa</td>\n",
              "    </tr>\n",
              "  </tbody>\n",
              "</table>\n",
              "<p>223 rows × 2 columns</p>\n",
              "</div>\n",
              "    <div class=\"colab-df-buttons\">\n",
              "\n",
              "  <div class=\"colab-df-container\">\n",
              "    <button class=\"colab-df-convert\" onclick=\"convertToInteractive('df-9593b6fb-8338-41fd-b0b4-e1e25bff9ead')\"\n",
              "            title=\"Convert this dataframe to an interactive table.\"\n",
              "            style=\"display:none;\">\n",
              "\n",
              "  <svg xmlns=\"http://www.w3.org/2000/svg\" height=\"24px\" viewBox=\"0 -960 960 960\">\n",
              "    <path d=\"M120-120v-720h720v720H120Zm60-500h600v-160H180v160Zm220 220h160v-160H400v160Zm0 220h160v-160H400v160ZM180-400h160v-160H180v160Zm440 0h160v-160H620v160ZM180-180h160v-160H180v160Zm440 0h160v-160H620v160Z\"/>\n",
              "  </svg>\n",
              "    </button>\n",
              "\n",
              "  <style>\n",
              "    .colab-df-container {\n",
              "      display:flex;\n",
              "      gap: 12px;\n",
              "    }\n",
              "\n",
              "    .colab-df-convert {\n",
              "      background-color: #E8F0FE;\n",
              "      border: none;\n",
              "      border-radius: 50%;\n",
              "      cursor: pointer;\n",
              "      display: none;\n",
              "      fill: #1967D2;\n",
              "      height: 32px;\n",
              "      padding: 0 0 0 0;\n",
              "      width: 32px;\n",
              "    }\n",
              "\n",
              "    .colab-df-convert:hover {\n",
              "      background-color: #E2EBFA;\n",
              "      box-shadow: 0px 1px 2px rgba(60, 64, 67, 0.3), 0px 1px 3px 1px rgba(60, 64, 67, 0.15);\n",
              "      fill: #174EA6;\n",
              "    }\n",
              "\n",
              "    .colab-df-buttons div {\n",
              "      margin-bottom: 4px;\n",
              "    }\n",
              "\n",
              "    [theme=dark] .colab-df-convert {\n",
              "      background-color: #3B4455;\n",
              "      fill: #D2E3FC;\n",
              "    }\n",
              "\n",
              "    [theme=dark] .colab-df-convert:hover {\n",
              "      background-color: #434B5C;\n",
              "      box-shadow: 0px 1px 3px 1px rgba(0, 0, 0, 0.15);\n",
              "      filter: drop-shadow(0px 1px 2px rgba(0, 0, 0, 0.3));\n",
              "      fill: #FFFFFF;\n",
              "    }\n",
              "  </style>\n",
              "\n",
              "    <script>\n",
              "      const buttonEl =\n",
              "        document.querySelector('#df-9593b6fb-8338-41fd-b0b4-e1e25bff9ead button.colab-df-convert');\n",
              "      buttonEl.style.display =\n",
              "        google.colab.kernel.accessAllowed ? 'block' : 'none';\n",
              "\n",
              "      async function convertToInteractive(key) {\n",
              "        const element = document.querySelector('#df-9593b6fb-8338-41fd-b0b4-e1e25bff9ead');\n",
              "        const dataTable =\n",
              "          await google.colab.kernel.invokeFunction('convertToInteractive',\n",
              "                                                    [key], {});\n",
              "        if (!dataTable) return;\n",
              "\n",
              "        const docLinkHtml = 'Like what you see? Visit the ' +\n",
              "          '<a target=\"_blank\" href=https://colab.research.google.com/notebooks/data_table.ipynb>data table notebook</a>'\n",
              "          + ' to learn more about interactive tables.';\n",
              "        element.innerHTML = '';\n",
              "        dataTable['output_type'] = 'display_data';\n",
              "        await google.colab.output.renderOutput(dataTable, element);\n",
              "        const docLink = document.createElement('div');\n",
              "        docLink.innerHTML = docLinkHtml;\n",
              "        element.appendChild(docLink);\n",
              "      }\n",
              "    </script>\n",
              "  </div>\n",
              "\n",
              "\n",
              "    <div id=\"df-17ded86b-0385-48e0-b3a5-9738d9e911ec\">\n",
              "      <button class=\"colab-df-quickchart\" onclick=\"quickchart('df-17ded86b-0385-48e0-b3a5-9738d9e911ec')\"\n",
              "                title=\"Suggest charts\"\n",
              "                style=\"display:none;\">\n",
              "\n",
              "<svg xmlns=\"http://www.w3.org/2000/svg\" height=\"24px\"viewBox=\"0 0 24 24\"\n",
              "     width=\"24px\">\n",
              "    <g>\n",
              "        <path d=\"M19 3H5c-1.1 0-2 .9-2 2v14c0 1.1.9 2 2 2h14c1.1 0 2-.9 2-2V5c0-1.1-.9-2-2-2zM9 17H7v-7h2v7zm4 0h-2V7h2v10zm4 0h-2v-4h2v4z\"/>\n",
              "    </g>\n",
              "</svg>\n",
              "      </button>\n",
              "\n",
              "<style>\n",
              "  .colab-df-quickchart {\n",
              "      --bg-color: #E8F0FE;\n",
              "      --fill-color: #1967D2;\n",
              "      --hover-bg-color: #E2EBFA;\n",
              "      --hover-fill-color: #174EA6;\n",
              "      --disabled-fill-color: #AAA;\n",
              "      --disabled-bg-color: #DDD;\n",
              "  }\n",
              "\n",
              "  [theme=dark] .colab-df-quickchart {\n",
              "      --bg-color: #3B4455;\n",
              "      --fill-color: #D2E3FC;\n",
              "      --hover-bg-color: #434B5C;\n",
              "      --hover-fill-color: #FFFFFF;\n",
              "      --disabled-bg-color: #3B4455;\n",
              "      --disabled-fill-color: #666;\n",
              "  }\n",
              "\n",
              "  .colab-df-quickchart {\n",
              "    background-color: var(--bg-color);\n",
              "    border: none;\n",
              "    border-radius: 50%;\n",
              "    cursor: pointer;\n",
              "    display: none;\n",
              "    fill: var(--fill-color);\n",
              "    height: 32px;\n",
              "    padding: 0;\n",
              "    width: 32px;\n",
              "  }\n",
              "\n",
              "  .colab-df-quickchart:hover {\n",
              "    background-color: var(--hover-bg-color);\n",
              "    box-shadow: 0 1px 2px rgba(60, 64, 67, 0.3), 0 1px 3px 1px rgba(60, 64, 67, 0.15);\n",
              "    fill: var(--button-hover-fill-color);\n",
              "  }\n",
              "\n",
              "  .colab-df-quickchart-complete:disabled,\n",
              "  .colab-df-quickchart-complete:disabled:hover {\n",
              "    background-color: var(--disabled-bg-color);\n",
              "    fill: var(--disabled-fill-color);\n",
              "    box-shadow: none;\n",
              "  }\n",
              "\n",
              "  .colab-df-spinner {\n",
              "    border: 2px solid var(--fill-color);\n",
              "    border-color: transparent;\n",
              "    border-bottom-color: var(--fill-color);\n",
              "    animation:\n",
              "      spin 1s steps(1) infinite;\n",
              "  }\n",
              "\n",
              "  @keyframes spin {\n",
              "    0% {\n",
              "      border-color: transparent;\n",
              "      border-bottom-color: var(--fill-color);\n",
              "      border-left-color: var(--fill-color);\n",
              "    }\n",
              "    20% {\n",
              "      border-color: transparent;\n",
              "      border-left-color: var(--fill-color);\n",
              "      border-top-color: var(--fill-color);\n",
              "    }\n",
              "    30% {\n",
              "      border-color: transparent;\n",
              "      border-left-color: var(--fill-color);\n",
              "      border-top-color: var(--fill-color);\n",
              "      border-right-color: var(--fill-color);\n",
              "    }\n",
              "    40% {\n",
              "      border-color: transparent;\n",
              "      border-right-color: var(--fill-color);\n",
              "      border-top-color: var(--fill-color);\n",
              "    }\n",
              "    60% {\n",
              "      border-color: transparent;\n",
              "      border-right-color: var(--fill-color);\n",
              "    }\n",
              "    80% {\n",
              "      border-color: transparent;\n",
              "      border-right-color: var(--fill-color);\n",
              "      border-bottom-color: var(--fill-color);\n",
              "    }\n",
              "    90% {\n",
              "      border-color: transparent;\n",
              "      border-bottom-color: var(--fill-color);\n",
              "    }\n",
              "  }\n",
              "</style>\n",
              "\n",
              "      <script>\n",
              "        async function quickchart(key) {\n",
              "          const quickchartButtonEl =\n",
              "            document.querySelector('#' + key + ' button');\n",
              "          quickchartButtonEl.disabled = true;  // To prevent multiple clicks.\n",
              "          quickchartButtonEl.classList.add('colab-df-spinner');\n",
              "          try {\n",
              "            const charts = await google.colab.kernel.invokeFunction(\n",
              "                'suggestCharts', [key], {});\n",
              "          } catch (error) {\n",
              "            console.error('Error during call to suggestCharts:', error);\n",
              "          }\n",
              "          quickchartButtonEl.classList.remove('colab-df-spinner');\n",
              "          quickchartButtonEl.classList.add('colab-df-quickchart-complete');\n",
              "        }\n",
              "        (() => {\n",
              "          let quickchartButtonEl =\n",
              "            document.querySelector('#df-17ded86b-0385-48e0-b3a5-9738d9e911ec button');\n",
              "          quickchartButtonEl.style.display =\n",
              "            google.colab.kernel.accessAllowed ? 'block' : 'none';\n",
              "        })();\n",
              "      </script>\n",
              "    </div>\n",
              "\n",
              "    </div>\n",
              "  </div>\n"
            ],
            "application/vnd.google.colaboratory.intrinsic+json": {
              "type": "dataframe",
              "summary": "{\n  \"name\": \"df[[\\\"Country/Territory\\\", \\\"UN_Region\\\"]]\",\n  \"rows\": 223,\n  \"fields\": [\n    {\n      \"column\": \"Country/Territory\",\n      \"properties\": {\n        \"dtype\": \"string\",\n        \"num_unique_values\": 223,\n        \"samples\": [\n          \"Cayman Islands\",\n          \"Montserrat\",\n          \"North Macedonia\"\n        ],\n        \"semantic_type\": \"\",\n        \"description\": \"\"\n      }\n    },\n    {\n      \"column\": \"UN_Region\",\n      \"properties\": {\n        \"dtype\": \"category\",\n        \"num_unique_values\": 6,\n        \"samples\": [\n          \"Europe\",\n          \"Americas\",\n          \"World\"\n        ],\n        \"semantic_type\": \"\",\n        \"description\": \"\"\n      }\n    }\n  ]\n}"
            }
          },
          "metadata": {},
          "execution_count": 7
        }
      ],
      "source": [
        "#print Country/Territory and UN_Region columns\n",
        "df[[\"Country/Territory\", \"UN_Region\"]]"
      ]
    },
    {
      "cell_type": "code",
      "execution_count": 8,
      "id": "483250d8-486e-4046-9ebe-e73940f0f1f3",
      "metadata": {
        "id": "483250d8-486e-4046-9ebe-e73940f0f1f3"
      },
      "outputs": [],
      "source": [
        "# number of countries per region"
      ]
    },
    {
      "cell_type": "code",
      "execution_count": 9,
      "id": "b8f6f646-6aa8-4fda-863c-db4cfd87f903",
      "metadata": {
        "id": "b8f6f646-6aa8-4fda-863c-db4cfd87f903"
      },
      "outputs": [],
      "source": [
        "#What is European Union[n 1]?"
      ]
    },
    {
      "cell_type": "code",
      "execution_count": 10,
      "id": "ca4a2e48-503d-4401-8d9f-6d5afb9373b5",
      "metadata": {
        "id": "ca4a2e48-503d-4401-8d9f-6d5afb9373b5"
      },
      "outputs": [],
      "source": [
        "# Countries in Europe below avarege"
      ]
    },
    {
      "cell_type": "code",
      "execution_count": 11,
      "id": "4cd0a1c1-8500-4d05-8560-7fa61309dfa7",
      "metadata": {
        "id": "4cd0a1c1-8500-4d05-8560-7fa61309dfa7"
      },
      "outputs": [],
      "source": [
        "## Which countries in Europe has higher GDP than UK?"
      ]
    },
    {
      "cell_type": "markdown",
      "id": "70c23a49-9c48-403c-bfc5-beb46f2f46be",
      "metadata": {
        "jp-MarkdownHeadingCollapsed": true,
        "id": "70c23a49-9c48-403c-bfc5-beb46f2f46be"
      },
      "source": [
        "## groupby()"
      ]
    },
    {
      "cell_type": "markdown",
      "id": "f3b07212-bd06-42f7-85f1-93a301f45977",
      "metadata": {
        "id": "f3b07212-bd06-42f7-85f1-93a301f45977"
      },
      "source": [
        "[Learn more about groupby](https://www.geeksforgeeks.org/pandas-groupby/)"
      ]
    },
    {
      "cell_type": "code",
      "execution_count": 11,
      "id": "ffb84567-3048-4d9d-abd4-99598f3ddbe8",
      "metadata": {
        "id": "ffb84567-3048-4d9d-abd4-99598f3ddbe8"
      },
      "outputs": [],
      "source": []
    },
    {
      "cell_type": "code",
      "execution_count": 11,
      "id": "01213348-9207-457e-b54c-78db0651f047",
      "metadata": {
        "id": "01213348-9207-457e-b54c-78db0651f047"
      },
      "outputs": [],
      "source": []
    },
    {
      "cell_type": "code",
      "execution_count": 11,
      "id": "264795b5-206d-4c19-9978-71fe1a54a475",
      "metadata": {
        "id": "264795b5-206d-4c19-9978-71fe1a54a475"
      },
      "outputs": [],
      "source": []
    },
    {
      "cell_type": "code",
      "execution_count": 11,
      "id": "b606b7f3-bafd-42b0-a153-ccf2975c03a2",
      "metadata": {
        "id": "b606b7f3-bafd-42b0-a153-ccf2975c03a2"
      },
      "outputs": [],
      "source": []
    },
    {
      "cell_type": "code",
      "execution_count": 11,
      "id": "4fc7446d-90cf-4a53-9c39-bc87fc14c5a9",
      "metadata": {
        "id": "4fc7446d-90cf-4a53-9c39-bc87fc14c5a9"
      },
      "outputs": [],
      "source": []
    },
    {
      "cell_type": "code",
      "execution_count": 11,
      "id": "dfda8a27-1fb1-4be6-9714-bfd81ee35c2d",
      "metadata": {
        "id": "dfda8a27-1fb1-4be6-9714-bfd81ee35c2d"
      },
      "outputs": [],
      "source": []
    },
    {
      "cell_type": "code",
      "execution_count": 11,
      "id": "591e50f7-6610-4ae1-a1ab-277d7e0b0e1a",
      "metadata": {
        "id": "591e50f7-6610-4ae1-a1ab-277d7e0b0e1a"
      },
      "outputs": [],
      "source": []
    },
    {
      "cell_type": "code",
      "execution_count": 11,
      "id": "1b9e117a-3cb0-4f64-9a8b-234af009b2fd",
      "metadata": {
        "id": "1b9e117a-3cb0-4f64-9a8b-234af009b2fd"
      },
      "outputs": [],
      "source": []
    },
    {
      "cell_type": "code",
      "execution_count": 11,
      "id": "48b36bd9-c48d-4a1c-aee4-e3fe111c68bd",
      "metadata": {
        "id": "48b36bd9-c48d-4a1c-aee4-e3fe111c68bd"
      },
      "outputs": [],
      "source": []
    },
    {
      "cell_type": "code",
      "execution_count": 11,
      "id": "5c1f57dc-5a02-4aa0-889a-d2d96fec9a32",
      "metadata": {
        "id": "5c1f57dc-5a02-4aa0-889a-d2d96fec9a32"
      },
      "outputs": [],
      "source": []
    },
    {
      "cell_type": "code",
      "execution_count": 11,
      "id": "bd78440d-61aa-40e9-a10b-cbd9c3b13847",
      "metadata": {
        "id": "bd78440d-61aa-40e9-a10b-cbd9c3b13847"
      },
      "outputs": [],
      "source": []
    },
    {
      "cell_type": "markdown",
      "id": "a7368ecd",
      "metadata": {
        "jp-MarkdownHeadingCollapsed": true,
        "id": "a7368ecd"
      },
      "source": [
        "## Which countries below average by IMF world estimate?"
      ]
    },
    {
      "cell_type": "code",
      "execution_count": 11,
      "id": "4ae0e278-675f-45f2-aea5-905eea7d2e66",
      "metadata": {
        "id": "4ae0e278-675f-45f2-aea5-905eea7d2e66"
      },
      "outputs": [],
      "source": []
    },
    {
      "cell_type": "code",
      "execution_count": 11,
      "id": "24e8eb91",
      "metadata": {
        "id": "24e8eb91"
      },
      "outputs": [],
      "source": []
    },
    {
      "cell_type": "code",
      "execution_count": 11,
      "id": "c9145b83-65f2-412d-b790-818d6b764a54",
      "metadata": {
        "id": "c9145b83-65f2-412d-b790-818d6b764a54"
      },
      "outputs": [],
      "source": []
    },
    {
      "cell_type": "markdown",
      "id": "71573d1b",
      "metadata": {
        "jp-MarkdownHeadingCollapsed": true,
        "id": "71573d1b"
      },
      "source": [
        "### IMF estimate 0 values"
      ]
    },
    {
      "cell_type": "code",
      "execution_count": 11,
      "id": "b1ee3245",
      "metadata": {
        "scrolled": true,
        "id": "b1ee3245"
      },
      "outputs": [],
      "source": []
    },
    {
      "cell_type": "code",
      "execution_count": 11,
      "id": "a2396463",
      "metadata": {
        "id": "a2396463"
      },
      "outputs": [],
      "source": []
    },
    {
      "cell_type": "code",
      "execution_count": 11,
      "id": "8cea99fa-1961-4dc4-8a1c-5bb51ca5f628",
      "metadata": {
        "id": "8cea99fa-1961-4dc4-8a1c-5bb51ca5f628"
      },
      "outputs": [],
      "source": []
    },
    {
      "cell_type": "code",
      "execution_count": 11,
      "id": "6fa2a1f9-67cf-4c69-b642-250fdbdc3076",
      "metadata": {
        "id": "6fa2a1f9-67cf-4c69-b642-250fdbdc3076"
      },
      "outputs": [],
      "source": []
    },
    {
      "cell_type": "markdown",
      "id": "2228dc87",
      "metadata": {
        "jp-MarkdownHeadingCollapsed": true,
        "id": "2228dc87"
      },
      "source": [
        "## Which country has highest UN Estimate?"
      ]
    },
    {
      "cell_type": "code",
      "execution_count": 11,
      "id": "8205397d",
      "metadata": {
        "id": "8205397d"
      },
      "outputs": [],
      "source": []
    },
    {
      "cell_type": "code",
      "execution_count": 11,
      "id": "89e559d9-bdff-4113-950b-fddfc90f4356",
      "metadata": {
        "id": "89e559d9-bdff-4113-950b-fddfc90f4356"
      },
      "outputs": [],
      "source": []
    },
    {
      "cell_type": "markdown",
      "id": "3a1d3c89",
      "metadata": {
        "jp-MarkdownHeadingCollapsed": true,
        "id": "3a1d3c89"
      },
      "source": [
        "## Which country has highest Worlbank Estimate?"
      ]
    },
    {
      "cell_type": "code",
      "execution_count": 11,
      "id": "4dbc124d",
      "metadata": {
        "id": "4dbc124d"
      },
      "outputs": [],
      "source": []
    },
    {
      "cell_type": "code",
      "execution_count": 11,
      "id": "67105620",
      "metadata": {
        "id": "67105620"
      },
      "outputs": [],
      "source": []
    },
    {
      "cell_type": "markdown",
      "id": "7efaadc8",
      "metadata": {
        "jp-MarkdownHeadingCollapsed": true,
        "id": "7efaadc8"
      },
      "source": [
        "## Which country has highest IMF Estimate?"
      ]
    },
    {
      "cell_type": "code",
      "execution_count": 11,
      "id": "9f3dbffc",
      "metadata": {
        "id": "9f3dbffc"
      },
      "outputs": [],
      "source": []
    },
    {
      "cell_type": "code",
      "execution_count": 11,
      "id": "d0dec303",
      "metadata": {
        "id": "d0dec303"
      },
      "outputs": [],
      "source": []
    },
    {
      "cell_type": "code",
      "execution_count": 11,
      "id": "24deac00",
      "metadata": {
        "id": "24deac00"
      },
      "outputs": [],
      "source": []
    },
    {
      "cell_type": "markdown",
      "id": "4b4f060e-3352-4e53-8f07-42131e363ed5",
      "metadata": {
        "jp-MarkdownHeadingCollapsed": true,
        "id": "4b4f060e-3352-4e53-8f07-42131e363ed5"
      },
      "source": [
        "## Filling 0 Values by average"
      ]
    },
    {
      "cell_type": "code",
      "execution_count": 12,
      "id": "66070730-be45-4c5b-b508-92113f9ab826",
      "metadata": {
        "id": "66070730-be45-4c5b-b508-92113f9ab826"
      },
      "outputs": [],
      "source": [
        "import numpy as np"
      ]
    },
    {
      "cell_type": "code",
      "execution_count": 13,
      "id": "48b3f09e-8c51-43d5-ac74-4c33042a2300",
      "metadata": {
        "id": "48b3f09e-8c51-43d5-ac74-4c33042a2300"
      },
      "outputs": [],
      "source": [
        "# replace 0 with null values"
      ]
    },
    {
      "cell_type": "code",
      "execution_count": 13,
      "id": "ba1c29d1-9c58-4bf1-8c7d-deab42fbb998",
      "metadata": {
        "id": "ba1c29d1-9c58-4bf1-8c7d-deab42fbb998"
      },
      "outputs": [],
      "source": []
    },
    {
      "cell_type": "code",
      "execution_count": 14,
      "id": "a5deaf5e-d69d-40ce-a6d7-e7205c29f006",
      "metadata": {
        "id": "a5deaf5e-d69d-40ce-a6d7-e7205c29f006"
      },
      "outputs": [],
      "source": [
        "# Calculate the average of 'Worldbank_Estimate' and 'UN_Estimate' columns\n"
      ]
    },
    {
      "cell_type": "code",
      "execution_count": 15,
      "id": "e6204448-c58b-413d-8015-36a7727c2ef5",
      "metadata": {
        "id": "e6204448-c58b-413d-8015-36a7727c2ef5"
      },
      "outputs": [],
      "source": [
        "# Fill the null values in 'imf' column with the calculated average\n"
      ]
    },
    {
      "cell_type": "code",
      "execution_count": 15,
      "id": "31f244cc-98cf-4836-ab6d-dd03f4d89863",
      "metadata": {
        "id": "31f244cc-98cf-4836-ab6d-dd03f4d89863"
      },
      "outputs": [],
      "source": []
    },
    {
      "cell_type": "code",
      "execution_count": 16,
      "id": "cd6c1dc9-caa5-4489-a607-671526727dd6",
      "metadata": {
        "id": "cd6c1dc9-caa5-4489-a607-671526727dd6"
      },
      "outputs": [],
      "source": [
        "# Drop the temporary 'avg_worldbank_un' column if not needed\n"
      ]
    },
    {
      "cell_type": "code",
      "execution_count": 16,
      "id": "813e7182-de55-41a3-aab9-de2423f3eaab",
      "metadata": {
        "id": "813e7182-de55-41a3-aab9-de2423f3eaab"
      },
      "outputs": [],
      "source": []
    },
    {
      "cell_type": "markdown",
      "id": "162be68a-dee1-478a-80b6-ac8e8537bcf7",
      "metadata": {
        "id": "162be68a-dee1-478a-80b6-ac8e8537bcf7"
      },
      "source": [
        "[Visit this link to learn more about ffill](https://www.w3schools.com/python/pandas/ref_df_ffill.asp)"
      ]
    },
    {
      "cell_type": "markdown",
      "id": "56061f24-0128-4773-a177-37b33640c9a9",
      "metadata": {
        "id": "56061f24-0128-4773-a177-37b33640c9a9"
      },
      "source": [
        "[Visit this link to learn more about bfill](https://www.w3schools.com/python/pandas/ref_df_bfill.asp)"
      ]
    },
    {
      "cell_type": "markdown",
      "id": "3432bd13",
      "metadata": {
        "jp-MarkdownHeadingCollapsed": true,
        "id": "3432bd13"
      },
      "source": [
        "## Checking Missing Values"
      ]
    },
    {
      "cell_type": "code",
      "execution_count": 16,
      "id": "48996ae2",
      "metadata": {
        "id": "48996ae2"
      },
      "outputs": [],
      "source": []
    },
    {
      "cell_type": "code",
      "execution_count": 16,
      "id": "102175a5",
      "metadata": {
        "id": "102175a5"
      },
      "outputs": [],
      "source": []
    },
    {
      "cell_type": "code",
      "execution_count": 16,
      "id": "194f30f0",
      "metadata": {
        "id": "194f30f0"
      },
      "outputs": [],
      "source": []
    },
    {
      "cell_type": "code",
      "execution_count": 16,
      "id": "a08c53e0",
      "metadata": {
        "id": "a08c53e0"
      },
      "outputs": [],
      "source": []
    },
    {
      "cell_type": "markdown",
      "id": "84e9d86b",
      "metadata": {
        "jp-MarkdownHeadingCollapsed": true,
        "id": "84e9d86b"
      },
      "source": [
        "## Visualization"
      ]
    },
    {
      "cell_type": "code",
      "execution_count": 17,
      "id": "bf0b0c79",
      "metadata": {
        "id": "bf0b0c79"
      },
      "outputs": [],
      "source": [
        "import matplotlib.pyplot as plt\n",
        "import seaborn as sns"
      ]
    },
    {
      "cell_type": "markdown",
      "id": "4a4da1d7",
      "metadata": {
        "id": "4a4da1d7"
      },
      "source": [
        "### Histogram"
      ]
    },
    {
      "cell_type": "code",
      "execution_count": 18,
      "id": "a924b0ee",
      "metadata": {
        "id": "a924b0ee",
        "colab": {
          "base_uri": "https://localhost:8080/",
          "height": 699
        },
        "outputId": "ddd6145f-5ac8-4bdf-8f96-ab24f94684b5"
      },
      "outputs": [
        {
          "output_type": "display_data",
          "data": {
            "text/plain": [
              "<Figure size 1000x800 with 6 Axes>"
            ],
            "image/png": "[encoded data removed]"
          },
          "metadata": {}
        }
      ],
      "source": [
        "df.hist(figsize=(10,8))\n",
        "plt.show()"
      ]
    },
    {
      "cell_type": "code",
      "execution_count": 19,
      "id": "45fc4edf",
      "metadata": {
        "id": "45fc4edf",
        "colab": {
          "base_uri": "https://localhost:8080/",
          "height": 776
        },
        "outputId": "1c97ae2c-549e-4bfc-e606-494b8f993e07"
      },
      "outputs": [
        {
          "output_type": "display_data",
          "data": {
            "text/plain": [
              "<Figure size 1200x900 with 4 Axes>"
            ],
            "image/png": "[encoded data removed]"
          },
          "metadata": {}
        }
      ],
      "source": [
        "df[[\"IMF_Estimate\", \"UN_Estimate\", \"WorldBank_Estimate\"]].hist(figsize=(12,9))\n",
        "\n",
        "plt.show()"
      ]
    },
    {
      "cell_type": "code",
      "execution_count": 20,
      "id": "765a97e0",
      "metadata": {
        "id": "765a97e0",
        "colab": {
          "base_uri": "https://localhost:8080/",
          "height": 776
        },
        "outputId": "c2a9aa25-0ba0-4ff6-d622-726d607f55ff"
      },
      "outputs": [
        {
          "output_type": "display_data",
          "data": {
            "text/plain": [
              "<Figure size 1200x900 with 4 Axes>"
            ],
            "image/png": "[encoded data removed]"
          },
          "metadata": {}
        }
      ],
      "source": [
        "df[[\"IMF_Estimate\", \"UN_Estimate\", \"WorldBank_Estimate\"]].hist(bins=5, figsize=(12,9))\n",
        "\n",
        "plt.show()"
      ]
    },
    {
      "cell_type": "code",
      "execution_count": 21,
      "id": "1f89e26d",
      "metadata": {
        "id": "1f89e26d",
        "colab": {
          "base_uri": "https://localhost:8080/",
          "height": 147
        },
        "outputId": "3007cae4-9b92-4792-b481-f5cf14923e0f"
      },
      "outputs": [
        {
          "output_type": "execute_result",
          "data": {
            "text/plain": [
              "min         0\n",
              "max    234316\n",
              "Name: WorldBank_Estimate, dtype: int64"
            ],
            "text/html": [
              "<div>\n",
              "<style scoped>\n",
              "    .dataframe tbody tr th:only-of-type {\n",
              "        vertical-align: middle;\n",
              "    }\n",
              "\n",
              "    .dataframe tbody tr th {\n",
              "        vertical-align: top;\n",
              "    }\n",
              "\n",
              "    .dataframe thead th {\n",
              "        text-align: right;\n",
              "    }\n",
              "</style>\n",
              "<table border=\"1\" class=\"dataframe\">\n",
              "  <thead>\n",
              "    <tr style=\"text-align: right;\">\n",
              "      <th></th>\n",
              "      <th>WorldBank_Estimate</th>\n",
              "    </tr>\n",
              "  </thead>\n",
              "  <tbody>\n",
              "    <tr>\n",
              "      <th>min</th>\n",
              "      <td>0</td>\n",
              "    </tr>\n",
              "    <tr>\n",
              "      <th>max</th>\n",
              "      <td>234316</td>\n",
              "    </tr>\n",
              "  </tbody>\n",
              "</table>\n",
              "</div><br><label><b>dtype:</b> int64</label>"
            ]
          },
          "metadata": {},
          "execution_count": 21
        }
      ],
      "source": [
        "df[\"WorldBank_Estimate\"].agg([\"min\",\"max\"])"
      ]
    },
    {
      "cell_type": "code",
      "execution_count": 22,
      "id": "623ac797",
      "metadata": {
        "id": "623ac797",
        "colab": {
          "base_uri": "https://localhost:8080/"
        },
        "outputId": "e391d132-cf45-4c89-976a-58f9a3f47a29"
      },
      "outputs": [
        {
          "output_type": "execute_result",
          "data": {
            "text/plain": [
              "46863.2"
            ]
          },
          "metadata": {},
          "execution_count": 22
        }
      ],
      "source": [
        "234316/5\n",
        "#1 bin size if bins=5"
      ]
    },
    {
      "cell_type": "code",
      "execution_count": 23,
      "id": "58c05fdf-ab62-4f74-9c3d-b4dbf8f9dc55",
      "metadata": {
        "id": "58c05fdf-ab62-4f74-9c3d-b4dbf8f9dc55",
        "colab": {
          "base_uri": "https://localhost:8080/"
        },
        "outputId": "f695bf02-2e2d-4e5a-f52a-2bbf6c1a9635"
      },
      "outputs": [
        {
          "output_type": "execute_result",
          "data": {
            "text/plain": [
              "np.int64(195)"
            ]
          },
          "metadata": {},
          "execution_count": 23
        }
      ],
      "source": [
        "df[df[\"WorldBank_Estimate\"]<=46863.2][\"WorldBank_Estimate\"].count()"
      ]
    },
    {
      "cell_type": "code",
      "execution_count": 24,
      "id": "a36546fa",
      "metadata": {
        "id": "a36546fa",
        "colab": {
          "base_uri": "https://localhost:8080/"
        },
        "outputId": "ca810434-c2ad-47f6-fef7-5b81b5229c57"
      },
      "outputs": [
        {
          "output_type": "execute_result",
          "data": {
            "text/plain": [
              "23431.6"
            ]
          },
          "metadata": {},
          "execution_count": 24
        }
      ],
      "source": [
        "234316/10\n",
        "#1 bin size if bins not given any number"
      ]
    },
    {
      "cell_type": "code",
      "execution_count": 25,
      "id": "79c3d1e5",
      "metadata": {
        "id": "79c3d1e5",
        "colab": {
          "base_uri": "https://localhost:8080/",
          "height": 776
        },
        "outputId": "36c14b91-0332-4b6e-9b3b-b4e3670315a2"
      },
      "outputs": [
        {
          "output_type": "display_data",
          "data": {
            "text/plain": [
              "<Figure size 1200x900 with 4 Axes>"
            ],
            "image/png": "[encoded data removed]"
          },
          "metadata": {}
        }
      ],
      "source": [
        "df[[\"IMF_Estimate\", \"UN_Estimate\", \"WorldBank_Estimate\"]].hist(bins=3, figsize=(12,9))\n",
        "\n",
        "plt.show()"
      ]
    },
    {
      "cell_type": "code",
      "execution_count": 26,
      "id": "05e7fd91",
      "metadata": {
        "id": "05e7fd91",
        "colab": {
          "base_uri": "https://localhost:8080/",
          "height": 921
        },
        "outputId": "e6c3c5e4-f92d-4079-b59f-0e77f3320fec"
      },
      "outputs": [
        {
          "output_type": "display_data",
          "data": {
            "text/plain": [
              "<Figure size 1500x1200 with 4 Axes>"
            ],
            "image/png": "[encoded data removed]"
          },
          "metadata": {}
        }
      ],
      "source": [
        "df[[\"IMF_Estimate\", \"UN_Estimate\", \"WorldBank_Estimate\"]].hist(bins=15, figsize=(15,12))\n",
        "\n",
        "#23400/15 = 15300\n",
        "plt.show()"
      ]
    },
    {
      "cell_type": "markdown",
      "id": "e70fb08b",
      "metadata": {
        "id": "e70fb08b"
      },
      "source": [
        "### Correlation Heatmap"
      ]
    },
    {
      "cell_type": "code",
      "execution_count": 27,
      "id": "e9ddd23e",
      "metadata": {
        "id": "e9ddd23e",
        "colab": {
          "base_uri": "https://localhost:8080/",
          "height": 143
        },
        "outputId": "f19ce7b9-9945-4906-87e6-f85641574ed4"
      },
      "outputs": [
        {
          "output_type": "execute_result",
          "data": {
            "text/plain": [
              "                    IMF_Estimate  UN_Estimate  WorldBank_Estimate\n",
              "IMF_Estimate            1.000000     0.626513            0.587988\n",
              "UN_Estimate             0.626513     1.000000            0.930331\n",
              "WorldBank_Estimate      0.587988     0.930331            1.000000"
            ],
            "text/html": [
              "\n",
              "  <div id=\"df-6e1c9203-ddb4-4db9-97b5-ece2012ea09a\" class=\"colab-df-container\">\n",
              "    <div>\n",
              "<style scoped>\n",
              "    .dataframe tbody tr th:only-of-type {\n",
              "        vertical-align: middle;\n",
              "    }\n",
              "\n",
              "    .dataframe tbody tr th {\n",
              "        vertical-align: top;\n",
              "    }\n",
              "\n",
              "    .dataframe thead th {\n",
              "        text-align: right;\n",
              "    }\n",
              "</style>\n",
              "<table border=\"1\" class=\"dataframe\">\n",
              "  <thead>\n",
              "    <tr style=\"text-align: right;\">\n",
              "      <th></th>\n",
              "      <th>IMF_Estimate</th>\n",
              "      <th>UN_Estimate</th>\n",
              "      <th>WorldBank_Estimate</th>\n",
              "    </tr>\n",
              "  </thead>\n",
              "  <tbody>\n",
              "    <tr>\n",
              "      <th>IMF_Estimate</th>\n",
              "      <td>1.000000</td>\n",
              "      <td>0.626513</td>\n",
              "      <td>0.587988</td>\n",
              "    </tr>\n",
              "    <tr>\n",
              "      <th>UN_Estimate</th>\n",
              "      <td>0.626513</td>\n",
              "      <td>1.000000</td>\n",
              "      <td>0.930331</td>\n",
              "    </tr>\n",
              "    <tr>\n",
              "      <th>WorldBank_Estimate</th>\n",
              "      <td>0.587988</td>\n",
              "      <td>0.930331</td>\n",
              "      <td>1.000000</td>\n",
              "    </tr>\n",
              "  </tbody>\n",
              "</table>\n",
              "</div>\n",
              "    <div class=\"colab-df-buttons\">\n",
              "\n",
              "  <div class=\"colab-df-container\">\n",
              "    <button class=\"colab-df-convert\" onclick=\"convertToInteractive('df-6e1c9203-ddb4-4db9-97b5-ece2012ea09a')\"\n",
              "            title=\"Convert this dataframe to an interactive table.\"\n",
              "            style=\"display:none;\">\n",
              "\n",
              "  <svg xmlns=\"http://www.w3.org/2000/svg\" height=\"24px\" viewBox=\"0 -960 960 960\">\n",
              "    <path d=\"M120-120v-720h720v720H120Zm60-500h600v-160H180v160Zm220 220h160v-160H400v160Zm0 220h160v-160H400v160ZM180-400h160v-160H180v160Zm440 0h160v-160H620v160ZM180-180h160v-160H180v160Zm440 0h160v-160H620v160Z\"/>\n",
              "  </svg>\n",
              "    </button>\n",
              "\n",
              "  <style>\n",
              "    .colab-df-container {\n",
              "      display:flex;\n",
              "      gap: 12px;\n",
              "    }\n",
              "\n",
              "    .colab-df-convert {\n",
              "      background-color: #E8F0FE;\n",
              "      border: none;\n",
              "      border-radius: 50%;\n",
              "      cursor: pointer;\n",
              "      display: none;\n",
              "      fill: #1967D2;\n",
              "      height: 32px;\n",
              "      padding: 0 0 0 0;\n",
              "      width: 32px;\n",
              "    }\n",
              "\n",
              "    .colab-df-convert:hover {\n",
              "      background-color: #E2EBFA;\n",
              "      box-shadow: 0px 1px 2px rgba(60, 64, 67, 0.3), 0px 1px 3px 1px rgba(60, 64, 67, 0.15);\n",
              "      fill: #174EA6;\n",
              "    }\n",
              "\n",
              "    .colab-df-buttons div {\n",
              "      margin-bottom: 4px;\n",
              "    }\n",
              "\n",
              "    [theme=dark] .colab-df-convert {\n",
              "      background-color: #3B4455;\n",
              "      fill: #D2E3FC;\n",
              "    }\n",
              "\n",
              "    [theme=dark] .colab-df-convert:hover {\n",
              "      background-color: #434B5C;\n",
              "      box-shadow: 0px 1px 3px 1px rgba(0, 0, 0, 0.15);\n",
              "      filter: drop-shadow(0px 1px 2px rgba(0, 0, 0, 0.3));\n",
              "      fill: #FFFFFF;\n",
              "    }\n",
              "  </style>\n",
              "\n",
              "    <script>\n",
              "      const buttonEl =\n",
              "        document.querySelector('#df-6e1c9203-ddb4-4db9-97b5-ece2012ea09a button.colab-df-convert');\n",
              "      buttonEl.style.display =\n",
              "        google.colab.kernel.accessAllowed ? 'block' : 'none';\n",
              "\n",
              "      async function convertToInteractive(key) {\n",
              "        const element = document.querySelector('#df-6e1c9203-ddb4-4db9-97b5-ece2012ea09a');\n",
              "        const dataTable =\n",
              "          await google.colab.kernel.invokeFunction('convertToInteractive',\n",
              "                                                    [key], {});\n",
              "        if (!dataTable) return;\n",
              "\n",
              "        const docLinkHtml = 'Like what you see? Visit the ' +\n",
              "          '<a target=\"_blank\" href=https://colab.research.google.com/notebooks/data_table.ipynb>data table notebook</a>'\n",
              "          + ' to learn more about interactive tables.';\n",
              "        element.innerHTML = '';\n",
              "        dataTable['output_type'] = 'display_data';\n",
              "        await google.colab.output.renderOutput(dataTable, element);\n",
              "        const docLink = document.createElement('div');\n",
              "        docLink.innerHTML = docLinkHtml;\n",
              "        element.appendChild(docLink);\n",
              "      }\n",
              "    </script>\n",
              "  </div>\n",
              "\n",
              "\n",
              "    <div id=\"df-8bbcd287-aaad-44f9-94a3-117609d2ca77\">\n",
              "      <button class=\"colab-df-quickchart\" onclick=\"quickchart('df-8bbcd287-aaad-44f9-94a3-117609d2ca77')\"\n",
              "                title=\"Suggest charts\"\n",
              "                style=\"display:none;\">\n",
              "\n",
              "<svg xmlns=\"http://www.w3.org/2000/svg\" height=\"24px\"viewBox=\"0 0 24 24\"\n",
              "     width=\"24px\">\n",
              "    <g>\n",
              "        <path d=\"M19 3H5c-1.1 0-2 .9-2 2v14c0 1.1.9 2 2 2h14c1.1 0 2-.9 2-2V5c0-1.1-.9-2-2-2zM9 17H7v-7h2v7zm4 0h-2V7h2v10zm4 0h-2v-4h2v4z\"/>\n",
              "    </g>\n",
              "</svg>\n",
              "      </button>\n",
              "\n",
              "<style>\n",
              "  .colab-df-quickchart {\n",
              "      --bg-color: #E8F0FE;\n",
              "      --fill-color: #1967D2;\n",
              "      --hover-bg-color: #E2EBFA;\n",
              "      --hover-fill-color: #174EA6;\n",
              "      --disabled-fill-color: #AAA;\n",
              "      --disabled-bg-color: #DDD;\n",
              "  }\n",
              "\n",
              "  [theme=dark] .colab-df-quickchart {\n",
              "      --bg-color: #3B4455;\n",
              "      --fill-color: #D2E3FC;\n",
              "      --hover-bg-color: #434B5C;\n",
              "      --hover-fill-color: #FFFFFF;\n",
              "      --disabled-bg-color: #3B4455;\n",
              "      --disabled-fill-color: #666;\n",
              "  }\n",
              "\n",
              "  .colab-df-quickchart {\n",
              "    background-color: var(--bg-color);\n",
              "    border: none;\n",
              "    border-radius: 50%;\n",
              "    cursor: pointer;\n",
              "    display: none;\n",
              "    fill: var(--fill-color);\n",
              "    height: 32px;\n",
              "    padding: 0;\n",
              "    width: 32px;\n",
              "  }\n",
              "\n",
              "  .colab-df-quickchart:hover {\n",
              "    background-color: var(--hover-bg-color);\n",
              "    box-shadow: 0 1px 2px rgba(60, 64, 67, 0.3), 0 1px 3px 1px rgba(60, 64, 67, 0.15);\n",
              "    fill: var(--button-hover-fill-color);\n",
              "  }\n",
              "\n",
              "  .colab-df-quickchart-complete:disabled,\n",
              "  .colab-df-quickchart-complete:disabled:hover {\n",
              "    background-color: var(--disabled-bg-color);\n",
              "    fill: var(--disabled-fill-color);\n",
              "    box-shadow: none;\n",
              "  }\n",
              "\n",
              "  .colab-df-spinner {\n",
              "    border: 2px solid var(--fill-color);\n",
              "    border-color: transparent;\n",
              "    border-bottom-color: var(--fill-color);\n",
              "    animation:\n",
              "      spin 1s steps(1) infinite;\n",
              "  }\n",
              "\n",
              "  @keyframes spin {\n",
              "    0% {\n",
              "      border-color: transparent;\n",
              "      border-bottom-color: var(--fill-color);\n",
              "      border-left-color: var(--fill-color);\n",
              "    }\n",
              "    20% {\n",
              "      border-color: transparent;\n",
              "      border-left-color: var(--fill-color);\n",
              "      border-top-color: var(--fill-color);\n",
              "    }\n",
              "    30% {\n",
              "      border-color: transparent;\n",
              "      border-left-color: var(--fill-color);\n",
              "      border-top-color: var(--fill-color);\n",
              "      border-right-color: var(--fill-color);\n",
              "    }\n",
              "    40% {\n",
              "      border-color: transparent;\n",
              "      border-right-color: var(--fill-color);\n",
              "      border-top-color: var(--fill-color);\n",
              "    }\n",
              "    60% {\n",
              "      border-color: transparent;\n",
              "      border-right-color: var(--fill-color);\n",
              "    }\n",
              "    80% {\n",
              "      border-color: transparent;\n",
              "      border-right-color: var(--fill-color);\n",
              "      border-bottom-color: var(--fill-color);\n",
              "    }\n",
              "    90% {\n",
              "      border-color: transparent;\n",
              "      border-bottom-color: var(--fill-color);\n",
              "    }\n",
              "  }\n",
              "</style>\n",
              "\n",
              "      <script>\n",
              "        async function quickchart(key) {\n",
              "          const quickchartButtonEl =\n",
              "            document.querySelector('#' + key + ' button');\n",
              "          quickchartButtonEl.disabled = true;  // To prevent multiple clicks.\n",
              "          quickchartButtonEl.classList.add('colab-df-spinner');\n",
              "          try {\n",
              "            const charts = await google.colab.kernel.invokeFunction(\n",
              "                'suggestCharts', [key], {});\n",
              "          } catch (error) {\n",
              "            console.error('Error during call to suggestCharts:', error);\n",
              "          }\n",
              "          quickchartButtonEl.classList.remove('colab-df-spinner');\n",
              "          quickchartButtonEl.classList.add('colab-df-quickchart-complete');\n",
              "        }\n",
              "        (() => {\n",
              "          let quickchartButtonEl =\n",
              "            document.querySelector('#df-8bbcd287-aaad-44f9-94a3-117609d2ca77 button');\n",
              "          quickchartButtonEl.style.display =\n",
              "            google.colab.kernel.accessAllowed ? 'block' : 'none';\n",
              "        })();\n",
              "      </script>\n",
              "    </div>\n",
              "\n",
              "    </div>\n",
              "  </div>\n"
            ],
            "application/vnd.google.colaboratory.intrinsic+json": {
              "type": "dataframe",
              "summary": "{\n  \"name\": \"df[[\\\"IMF_Estimate\\\", \\\"UN_Estimate\\\", \\\"WorldBank_Estimate\\\"]]\",\n  \"rows\": 3,\n  \"fields\": [\n    {\n      \"column\": \"IMF_Estimate\",\n      \"properties\": {\n        \"dtype\": \"number\",\n        \"std\": 0.22757064710496486,\n        \"min\": 0.5879883052203012,\n        \"max\": 1.0,\n        \"num_unique_values\": 3,\n        \"samples\": [\n          1.0,\n          0.626512897554883,\n          0.5879883052203012\n        ],\n        \"semantic_type\": \"\",\n        \"description\": \"\"\n      }\n    },\n    {\n      \"column\": \"UN_Estimate\",\n      \"properties\": {\n        \"dtype\": \"number\",\n        \"std\": 0.19859997967155268,\n        \"min\": 0.626512897554883,\n        \"max\": 1.0,\n        \"num_unique_values\": 3,\n        \"samples\": [\n          0.626512897554883,\n          1.0,\n          0.9303307585425922\n        ],\n        \"semantic_type\": \"\",\n        \"description\": \"\"\n      }\n    },\n    {\n      \"column\": \"WorldBank_Estimate\",\n      \"properties\": {\n        \"dtype\": \"number\",\n        \"std\": 0.22053185529049812,\n        \"min\": 0.5879883052203012,\n        \"max\": 1.0,\n        \"num_unique_values\": 3,\n        \"samples\": [\n          0.5879883052203012,\n          0.9303307585425922,\n          1.0\n        ],\n        \"semantic_type\": \"\",\n        \"description\": \"\"\n      }\n    }\n  ]\n}"
            }
          },
          "metadata": {},
          "execution_count": 27
        }
      ],
      "source": [
        "df[[\"IMF_Estimate\", \"UN_Estimate\", \"WorldBank_Estimate\"]].corr()"
      ]
    },
    {
      "cell_type": "code",
      "execution_count": 28,
      "id": "f6dbc603",
      "metadata": {
        "id": "f6dbc603",
        "colab": {
          "base_uri": "https://localhost:8080/",
          "height": 528
        },
        "outputId": "7672d69b-7a43-423b-b4b1-1d4995308ff8"
      },
      "outputs": [
        {
          "output_type": "display_data",
          "data": {
            "text/plain": [
              "<Figure size 900x600 with 2 Axes>"
            ],
            "image/png": "[encoded data removed]"
          },
          "metadata": {}
        }
      ],
      "source": [
        "corr = df[[\"IMF_Estimate\", \"UN_Estimate\", \"WorldBank_Estimate\"]].corr()\n",
        "\n",
        "plt.figure(figsize=(9,6))\n",
        "sns.heatmap(corr)\n",
        "\n",
        "plt.show()"
      ]
    },
    {
      "cell_type": "code",
      "execution_count": 29,
      "id": "0ea2c2c6",
      "metadata": {
        "id": "0ea2c2c6",
        "colab": {
          "base_uri": "https://localhost:8080/",
          "height": 528
        },
        "outputId": "81426a24-ef30-4579-a6c2-00e54b520805"
      },
      "outputs": [
        {
          "output_type": "display_data",
          "data": {
            "text/plain": [
              "<Figure size 900x600 with 2 Axes>"
            ],
            "image/png": "[encoded data removed]"
          },
          "metadata": {}
        }
      ],
      "source": [
        "corr = df[[\"IMF_Estimate\", \"UN_Estimate\", \"WorldBank_Estimate\"]].corr()\n",
        "\n",
        "plt.figure(figsize=(9,6))\n",
        "\n",
        "sns.heatmap(corr, annot=True)\n",
        "\n",
        "plt.show()"
      ]
    },
    {
      "cell_type": "code",
      "execution_count": 30,
      "id": "ec56839b",
      "metadata": {
        "id": "ec56839b",
        "colab": {
          "base_uri": "https://localhost:8080/",
          "height": 528
        },
        "outputId": "cc8d25a9-12d3-4d83-cb89-f79a39586f35"
      },
      "outputs": [
        {
          "output_type": "display_data",
          "data": {
            "text/plain": [
              "<Figure size 900x600 with 2 Axes>"
            ],
            "image/png": "[encoded data removed]"
          },
          "metadata": {}
        }
      ],
      "source": [
        "corr = df[[\"IMF_Estimate\", \"UN_Estimate\", \"WorldBank_Estimate\"]].corr()\n",
        "\n",
        "plt.figure(figsize=(9,6))\n",
        "\n",
        "sns.heatmap(corr, annot=True, fmt=\".2f\", cmap = 'GnBu', annot_kws={\"size\": 12})\n",
        "\n",
        "plt.show()"
      ]
    },
    {
      "cell_type": "code",
      "execution_count": 31,
      "id": "a4688e18",
      "metadata": {
        "id": "a4688e18",
        "colab": {
          "base_uri": "https://localhost:8080/",
          "height": 545
        },
        "outputId": "61fdb01c-f1ed-474e-967e-0696a0503925"
      },
      "outputs": [
        {
          "output_type": "display_data",
          "data": {
            "text/plain": [
              "<Figure size 900x600 with 2 Axes>"
            ],
            "image/png": "[encoded data removed]"
          },
          "metadata": {}
        }
      ],
      "source": [
        "corr = df[[\"IMF_Estimate\", \"UN_Estimate\", \"WorldBank_Estimate\"]].corr()\n",
        "\n",
        "plt.figure(figsize=(9,6))\n",
        "\n",
        "sns.heatmap(corr, annot=True, cmap = 'Purples')\n",
        "\n",
        "plt.title(\"Correlation Map\")\n",
        "\n",
        "\n",
        "plt.show()"
      ]
    },
    {
      "cell_type": "code",
      "execution_count": 32,
      "id": "acba3c9a-0a72-40a0-80f7-be19ec50d5e0",
      "metadata": {
        "id": "acba3c9a-0a72-40a0-80f7-be19ec50d5e0",
        "colab": {
          "base_uri": "https://localhost:8080/",
          "height": 657
        },
        "outputId": "8fe57f59-62e5-479e-e71c-745796254553"
      },
      "outputs": [
        {
          "output_type": "display_data",
          "data": {
            "text/plain": [
              "<Figure size 900x600 with 2 Axes>"
            ],
            "image/png": "[encoded data removed]"
          },
          "metadata": {}
        }
      ],
      "source": [
        "corr = df.select_dtypes(include=[int, float]).corr()\n",
        "\n",
        "plt.figure(figsize=(9,6))\n",
        "\n",
        "sns.heatmap(corr, annot=True, cmap = 'Purples')\n",
        "\n",
        "plt.show()"
      ]
    },
    {
      "cell_type": "markdown",
      "id": "8ee4dc00",
      "metadata": {
        "jp-MarkdownHeadingCollapsed": true,
        "id": "8ee4dc00"
      },
      "source": [
        "### Bar plot"
      ]
    },
    {
      "cell_type": "code",
      "execution_count": 33,
      "id": "4ca42efd",
      "metadata": {
        "id": "4ca42efd",
        "colab": {
          "base_uri": "https://localhost:8080/",
          "height": 206
        },
        "outputId": "60eeb2d7-e106-4de9-9357-f60c298bd043"
      },
      "outputs": [
        {
          "output_type": "execute_result",
          "data": {
            "text/plain": [
              "  Country/Territory UN_Region  IMF_Estimate  IMF_Year  WorldBank_Estimate  \\\n",
              "1            Monaco    Europe             0         0              234316   \n",
              "2     Liechtenstein    Europe             0         0              157755   \n",
              "3        Luxembourg    Europe        132372      2023              133590   \n",
              "4           Ireland    Europe        114581      2023              100172   \n",
              "5           Bermuda  Americas             0         0              114090   \n",
              "\n",
              "   WorldBank_Year  UN_Estimate UN_Year  \n",
              "1            2021       234317    2021  \n",
              "2            2020       169260    2021  \n",
              "3            2021       133745    2021  \n",
              "4            2021       101109    2021  \n",
              "5            2021       112653    2021  "
            ],
            "text/html": [
              "\n",
              "  <div id=\"df-972d1b7f-7f59-4a55-9ec2-c75966f87f52\" class=\"colab-df-container\">\n",
              "    <div>\n",
              "<style scoped>\n",
              "    .dataframe tbody tr th:only-of-type {\n",
              "        vertical-align: middle;\n",
              "    }\n",
              "\n",
              "    .dataframe tbody tr th {\n",
              "        vertical-align: top;\n",
              "    }\n",
              "\n",
              "    .dataframe thead th {\n",
              "        text-align: right;\n",
              "    }\n",
              "</style>\n",
              "<table border=\"1\" class=\"dataframe\">\n",
              "  <thead>\n",
              "    <tr style=\"text-align: right;\">\n",
              "      <th></th>\n",
              "      <th>Country/Territory</th>\n",
              "      <th>UN_Region</th>\n",
              "      <th>IMF_Estimate</th>\n",
              "      <th>IMF_Year</th>\n",
              "      <th>WorldBank_Estimate</th>\n",
              "      <th>WorldBank_Year</th>\n",
              "      <th>UN_Estimate</th>\n",
              "      <th>UN_Year</th>\n",
              "    </tr>\n",
              "  </thead>\n",
              "  <tbody>\n",
              "    <tr>\n",
              "      <th>1</th>\n",
              "      <td>Monaco</td>\n",
              "      <td>Europe</td>\n",
              "      <td>0</td>\n",
              "      <td>0</td>\n",
              "      <td>234316</td>\n",
              "      <td>2021</td>\n",
              "      <td>234317</td>\n",
              "      <td>2021</td>\n",
              "    </tr>\n",
              "    <tr>\n",
              "      <th>2</th>\n",
              "      <td>Liechtenstein</td>\n",
              "      <td>Europe</td>\n",
              "      <td>0</td>\n",
              "      <td>0</td>\n",
              "      <td>157755</td>\n",
              "      <td>2020</td>\n",
              "      <td>169260</td>\n",
              "      <td>2021</td>\n",
              "    </tr>\n",
              "    <tr>\n",
              "      <th>3</th>\n",
              "      <td>Luxembourg</td>\n",
              "      <td>Europe</td>\n",
              "      <td>132372</td>\n",
              "      <td>2023</td>\n",
              "      <td>133590</td>\n",
              "      <td>2021</td>\n",
              "      <td>133745</td>\n",
              "      <td>2021</td>\n",
              "    </tr>\n",
              "    <tr>\n",
              "      <th>4</th>\n",
              "      <td>Ireland</td>\n",
              "      <td>Europe</td>\n",
              "      <td>114581</td>\n",
              "      <td>2023</td>\n",
              "      <td>100172</td>\n",
              "      <td>2021</td>\n",
              "      <td>101109</td>\n",
              "      <td>2021</td>\n",
              "    </tr>\n",
              "    <tr>\n",
              "      <th>5</th>\n",
              "      <td>Bermuda</td>\n",
              "      <td>Americas</td>\n",
              "      <td>0</td>\n",
              "      <td>0</td>\n",
              "      <td>114090</td>\n",
              "      <td>2021</td>\n",
              "      <td>112653</td>\n",
              "      <td>2021</td>\n",
              "    </tr>\n",
              "  </tbody>\n",
              "</table>\n",
              "</div>\n",
              "    <div class=\"colab-df-buttons\">\n",
              "\n",
              "  <div class=\"colab-df-container\">\n",
              "    <button class=\"colab-df-convert\" onclick=\"convertToInteractive('df-972d1b7f-7f59-4a55-9ec2-c75966f87f52')\"\n",
              "            title=\"Convert this dataframe to an interactive table.\"\n",
              "            style=\"display:none;\">\n",
              "\n",
              "  <svg xmlns=\"http://www.w3.org/2000/svg\" height=\"24px\" viewBox=\"0 -960 960 960\">\n",
              "    <path d=\"M120-120v-720h720v720H120Zm60-500h600v-160H180v160Zm220 220h160v-160H400v160Zm0 220h160v-160H400v160ZM180-400h160v-160H180v160Zm440 0h160v-160H620v160ZM180-180h160v-160H180v160Zm440 0h160v-160H620v160Z\"/>\n",
              "  </svg>\n",
              "    </button>\n",
              "\n",
              "  <style>\n",
              "    .colab-df-container {\n",
              "      display:flex;\n",
              "      gap: 12px;\n",
              "    }\n",
              "\n",
              "    .colab-df-convert {\n",
              "      background-color: #E8F0FE;\n",
              "      border: none;\n",
              "      border-radius: 50%;\n",
              "      cursor: pointer;\n",
              "      display: none;\n",
              "      fill: #1967D2;\n",
              "      height: 32px;\n",
              "      padding: 0 0 0 0;\n",
              "      width: 32px;\n",
              "    }\n",
              "\n",
              "    .colab-df-convert:hover {\n",
              "      background-color: #E2EBFA;\n",
              "      box-shadow: 0px 1px 2px rgba(60, 64, 67, 0.3), 0px 1px 3px 1px rgba(60, 64, 67, 0.15);\n",
              "      fill: #174EA6;\n",
              "    }\n",
              "\n",
              "    .colab-df-buttons div {\n",
              "      margin-bottom: 4px;\n",
              "    }\n",
              "\n",
              "    [theme=dark] .colab-df-convert {\n",
              "      background-color: #3B4455;\n",
              "      fill: #D2E3FC;\n",
              "    }\n",
              "\n",
              "    [theme=dark] .colab-df-convert:hover {\n",
              "      background-color: #434B5C;\n",
              "      box-shadow: 0px 1px 3px 1px rgba(0, 0, 0, 0.15);\n",
              "      filter: drop-shadow(0px 1px 2px rgba(0, 0, 0, 0.3));\n",
              "      fill: #FFFFFF;\n",
              "    }\n",
              "  </style>\n",
              "\n",
              "    <script>\n",
              "      const buttonEl =\n",
              "        document.querySelector('#df-972d1b7f-7f59-4a55-9ec2-c75966f87f52 button.colab-df-convert');\n",
              "      buttonEl.style.display =\n",
              "        google.colab.kernel.accessAllowed ? 'block' : 'none';\n",
              "\n",
              "      async function convertToInteractive(key) {\n",
              "        const element = document.querySelector('#df-972d1b7f-7f59-4a55-9ec2-c75966f87f52');\n",
              "        const dataTable =\n",
              "          await google.colab.kernel.invokeFunction('convertToInteractive',\n",
              "                                                    [key], {});\n",
              "        if (!dataTable) return;\n",
              "\n",
              "        const docLinkHtml = 'Like what you see? Visit the ' +\n",
              "          '<a target=\"_blank\" href=https://colab.research.google.com/notebooks/data_table.ipynb>data table notebook</a>'\n",
              "          + ' to learn more about interactive tables.';\n",
              "        element.innerHTML = '';\n",
              "        dataTable['output_type'] = 'display_data';\n",
              "        await google.colab.output.renderOutput(dataTable, element);\n",
              "        const docLink = document.createElement('div');\n",
              "        docLink.innerHTML = docLinkHtml;\n",
              "        element.appendChild(docLink);\n",
              "      }\n",
              "    </script>\n",
              "  </div>\n",
              "\n",
              "\n",
              "    <div id=\"df-3a30a336-c042-4fbb-9461-5ee9ff9b3b0f\">\n",
              "      <button class=\"colab-df-quickchart\" onclick=\"quickchart('df-3a30a336-c042-4fbb-9461-5ee9ff9b3b0f')\"\n",
              "                title=\"Suggest charts\"\n",
              "                style=\"display:none;\">\n",
              "\n",
              "<svg xmlns=\"http://www.w3.org/2000/svg\" height=\"24px\"viewBox=\"0 0 24 24\"\n",
              "     width=\"24px\">\n",
              "    <g>\n",
              "        <path d=\"M19 3H5c-1.1 0-2 .9-2 2v14c0 1.1.9 2 2 2h14c1.1 0 2-.9 2-2V5c0-1.1-.9-2-2-2zM9 17H7v-7h2v7zm4 0h-2V7h2v10zm4 0h-2v-4h2v4z\"/>\n",
              "    </g>\n",
              "</svg>\n",
              "      </button>\n",
              "\n",
              "<style>\n",
              "  .colab-df-quickchart {\n",
              "      --bg-color: #E8F0FE;\n",
              "      --fill-color: #1967D2;\n",
              "      --hover-bg-color: #E2EBFA;\n",
              "      --hover-fill-color: #174EA6;\n",
              "      --disabled-fill-color: #AAA;\n",
              "      --disabled-bg-color: #DDD;\n",
              "  }\n",
              "\n",
              "  [theme=dark] .colab-df-quickchart {\n",
              "      --bg-color: #3B4455;\n",
              "      --fill-color: #D2E3FC;\n",
              "      --hover-bg-color: #434B5C;\n",
              "      --hover-fill-color: #FFFFFF;\n",
              "      --disabled-bg-color: #3B4455;\n",
              "      --disabled-fill-color: #666;\n",
              "  }\n",
              "\n",
              "  .colab-df-quickchart {\n",
              "    background-color: var(--bg-color);\n",
              "    border: none;\n",
              "    border-radius: 50%;\n",
              "    cursor: pointer;\n",
              "    display: none;\n",
              "    fill: var(--fill-color);\n",
              "    height: 32px;\n",
              "    padding: 0;\n",
              "    width: 32px;\n",
              "  }\n",
              "\n",
              "  .colab-df-quickchart:hover {\n",
              "    background-color: var(--hover-bg-color);\n",
              "    box-shadow: 0 1px 2px rgba(60, 64, 67, 0.3), 0 1px 3px 1px rgba(60, 64, 67, 0.15);\n",
              "    fill: var(--button-hover-fill-color);\n",
              "  }\n",
              "\n",
              "  .colab-df-quickchart-complete:disabled,\n",
              "  .colab-df-quickchart-complete:disabled:hover {\n",
              "    background-color: var(--disabled-bg-color);\n",
              "    fill: var(--disabled-fill-color);\n",
              "    box-shadow: none;\n",
              "  }\n",
              "\n",
              "  .colab-df-spinner {\n",
              "    border: 2px solid var(--fill-color);\n",
              "    border-color: transparent;\n",
              "    border-bottom-color: var(--fill-color);\n",
              "    animation:\n",
              "      spin 1s steps(1) infinite;\n",
              "  }\n",
              "\n",
              "  @keyframes spin {\n",
              "    0% {\n",
              "      border-color: transparent;\n",
              "      border-bottom-color: var(--fill-color);\n",
              "      border-left-color: var(--fill-color);\n",
              "    }\n",
              "    20% {\n",
              "      border-color: transparent;\n",
              "      border-left-color: var(--fill-color);\n",
              "      border-top-color: var(--fill-color);\n",
              "    }\n",
              "    30% {\n",
              "      border-color: transparent;\n",
              "      border-left-color: var(--fill-color);\n",
              "      border-top-color: var(--fill-color);\n",
              "      border-right-color: var(--fill-color);\n",
              "    }\n",
              "    40% {\n",
              "      border-color: transparent;\n",
              "      border-right-color: var(--fill-color);\n",
              "      border-top-color: var(--fill-color);\n",
              "    }\n",
              "    60% {\n",
              "      border-color: transparent;\n",
              "      border-right-color: var(--fill-color);\n",
              "    }\n",
              "    80% {\n",
              "      border-color: transparent;\n",
              "      border-right-color: var(--fill-color);\n",
              "      border-bottom-color: var(--fill-color);\n",
              "    }\n",
              "    90% {\n",
              "      border-color: transparent;\n",
              "      border-bottom-color: var(--fill-color);\n",
              "    }\n",
              "  }\n",
              "</style>\n",
              "\n",
              "      <script>\n",
              "        async function quickchart(key) {\n",
              "          const quickchartButtonEl =\n",
              "            document.querySelector('#' + key + ' button');\n",
              "          quickchartButtonEl.disabled = true;  // To prevent multiple clicks.\n",
              "          quickchartButtonEl.classList.add('colab-df-spinner');\n",
              "          try {\n",
              "            const charts = await google.colab.kernel.invokeFunction(\n",
              "                'suggestCharts', [key], {});\n",
              "          } catch (error) {\n",
              "            console.error('Error during call to suggestCharts:', error);\n",
              "          }\n",
              "          quickchartButtonEl.classList.remove('colab-df-spinner');\n",
              "          quickchartButtonEl.classList.add('colab-df-quickchart-complete');\n",
              "        }\n",
              "        (() => {\n",
              "          let quickchartButtonEl =\n",
              "            document.querySelector('#df-3a30a336-c042-4fbb-9461-5ee9ff9b3b0f button');\n",
              "          quickchartButtonEl.style.display =\n",
              "            google.colab.kernel.accessAllowed ? 'block' : 'none';\n",
              "        })();\n",
              "      </script>\n",
              "    </div>\n",
              "\n",
              "    </div>\n",
              "  </div>\n"
            ],
            "application/vnd.google.colaboratory.intrinsic+json": {
              "type": "dataframe",
              "variable_name": "df",
              "summary": "{\n  \"name\": \"df\",\n  \"rows\": 223,\n  \"fields\": [\n    {\n      \"column\": \"Country/Territory\",\n      \"properties\": {\n        \"dtype\": \"string\",\n        \"num_unique_values\": 223,\n        \"samples\": [\n          \"Cayman Islands\",\n          \"Montserrat\",\n          \"North Macedonia\"\n        ],\n        \"semantic_type\": \"\",\n        \"description\": \"\"\n      }\n    },\n    {\n      \"column\": \"UN_Region\",\n      \"properties\": {\n        \"dtype\": \"category\",\n        \"num_unique_values\": 6,\n        \"samples\": [\n          \"Europe\",\n          \"Americas\",\n          \"World\"\n        ],\n        \"semantic_type\": \"\",\n        \"description\": \"\"\n      }\n    },\n    {\n      \"column\": \"IMF_Estimate\",\n      \"properties\": {\n        \"dtype\": \"number\",\n        \"std\": 22550,\n        \"min\": 0,\n        \"max\": 132372,\n        \"num_unique_values\": 198,\n        \"samples\": [\n          14893,\n          5308,\n          53377\n        ],\n        \"semantic_type\": \"\",\n        \"description\": \"\"\n      }\n    },\n    {\n      \"column\": \"IMF_Year\",\n      \"properties\": {\n        \"dtype\": \"number\",\n        \"std\": 650,\n        \"min\": 0,\n        \"max\": 2023,\n        \"num_unique_values\": 4,\n        \"samples\": [\n          2023,\n          2022,\n          0\n        ],\n        \"semantic_type\": \"\",\n        \"description\": \"\"\n      }\n    },\n    {\n      \"column\": \"WorldBank_Estimate\",\n      \"properties\": {\n        \"dtype\": \"number\",\n        \"std\": 29103,\n        \"min\": 0,\n        \"max\": 234316,\n        \"num_unique_values\": 216,\n        \"samples\": [\n          676,\n          480,\n          3691\n        ],\n        \"semantic_type\": \"\",\n        \"description\": \"\"\n      }\n    },\n    {\n      \"column\": \"WorldBank_Year\",\n      \"properties\": {\n        \"dtype\": \"number\",\n        \"std\": 353,\n        \"min\": 0,\n        \"max\": 2021,\n        \"num_unique_values\": 9,\n        \"samples\": [\n          2011,\n          2020,\n          2018\n        ],\n        \"semantic_type\": \"\",\n        \"description\": \"\"\n      }\n    },\n    {\n      \"column\": \"UN_Estimate\",\n      \"properties\": {\n        \"dtype\": \"number\",\n        \"std\": 28698,\n        \"min\": 0,\n        \"max\": 234317,\n        \"num_unique_values\": 215,\n        \"samples\": [\n          623,\n          505,\n          3573\n        ],\n        \"semantic_type\": \"\",\n        \"description\": \"\"\n      }\n    },\n    {\n      \"column\": \"UN_Year\",\n      \"properties\": {\n        \"dtype\": \"category\",\n        \"num_unique_values\": 3,\n        \"samples\": [\n          \"2021\",\n          \"0\",\n          \"[n 10]2021\"\n        ],\n        \"semantic_type\": \"\",\n        \"description\": \"\"\n      }\n    }\n  ]\n}"
            }
          },
          "metadata": {},
          "execution_count": 33
        }
      ],
      "source": [
        "df.head()"
      ]
    },
    {
      "cell_type": "code",
      "execution_count": 34,
      "id": "09e70a00",
      "metadata": {
        "id": "09e70a00",
        "colab": {
          "base_uri": "https://localhost:8080/",
          "height": 450
        },
        "outputId": "87f1aaeb-7104-463b-b5fd-d31d45326b7f"
      },
      "outputs": [
        {
          "output_type": "display_data",
          "data": {
            "text/plain": [
              "<Figure size 640x480 with 1 Axes>"
            ],
            "image/png": "[encoded data removed]"
          },
          "metadata": {}
        }
      ],
      "source": [
        "sns.barplot(x=\"UN_Region\", y=\"WorldBank_Estimate\", data=df, errorbar=None)\n",
        "\n",
        "plt.show()"
      ]
    },
    {
      "cell_type": "code",
      "execution_count": 35,
      "id": "6a7c7377",
      "metadata": {
        "id": "6a7c7377",
        "colab": {
          "base_uri": "https://localhost:8080/",
          "height": 450
        },
        "outputId": "5160b40b-ab25-4b74-e4b2-6bc12e437551"
      },
      "outputs": [
        {
          "output_type": "display_data",
          "data": {
            "text/plain": [
              "<Figure size 640x480 with 1 Axes>"
            ],
            "image/png": "[encoded data removed]"
          },
          "metadata": {}
        }
      ],
      "source": [
        "sns.barplot(x=\"WorldBank_Estimate\", y=\"UN_Region\", data=df, errorbar=None)\n",
        "\n",
        "plt.show()"
      ]
    },
    {
      "cell_type": "code",
      "execution_count": 36,
      "id": "f8659907",
      "metadata": {
        "id": "f8659907",
        "colab": {
          "base_uri": "https://localhost:8080/",
          "height": 465
        },
        "outputId": "9423535a-080d-45e5-a860-b1c5fee5836e"
      },
      "outputs": [
        {
          "output_type": "display_data",
          "data": {
            "text/plain": [
              "<Figure size 800x500 with 1 Axes>"
            ],
            "image/png": "[encoded data removed]"
          },
          "metadata": {}
        }
      ],
      "source": [
        "fig = plt.figure(figsize = (8,5))\n",
        "\n",
        "ax = sns.barplot(x = \"IMF_Estimate\",  y = \"UN_Region\",\n",
        "data = df, errorbar = None)\n",
        "\n",
        "ax.bar_label(ax.containers[0])\n",
        "\n",
        "plt.show()"
      ]
    },
    {
      "cell_type": "code",
      "execution_count": 37,
      "id": "9a15bcad",
      "metadata": {
        "id": "9a15bcad",
        "colab": {
          "base_uri": "https://localhost:8080/",
          "height": 487
        },
        "outputId": "77985a64-d2ee-4515-874a-3004902471a7"
      },
      "outputs": [
        {
          "output_type": "display_data",
          "data": {
            "text/plain": [
              "<Figure size 800x500 with 1 Axes>"
            ],
            "image/png": "[encoded data removed]"
          },
          "metadata": {}
        }
      ],
      "source": [
        "fig = plt.figure(figsize = (8,5))\n",
        "ax = sns.barplot(x = \"UN_Region\",  y = \"IMF_Estimate\",\n",
        "                 data = df, errorbar = None)\n",
        "\n",
        "ax.bar_label(ax.containers[0])\n",
        "\n",
        "\n",
        "ax.set_title(\"Regions by IMF Estimate\")\n",
        "plt.show()"
      ]
    },
    {
      "cell_type": "code",
      "execution_count": 37,
      "id": "6e99479a",
      "metadata": {
        "id": "6e99479a"
      },
      "outputs": [],
      "source": []
    },
    {
      "cell_type": "markdown",
      "id": "f1aa35d0",
      "metadata": {
        "jp-MarkdownHeadingCollapsed": true,
        "id": "f1aa35d0"
      },
      "source": [
        "### Scatter Plot"
      ]
    },
    {
      "cell_type": "code",
      "execution_count": 38,
      "id": "d8583563",
      "metadata": {
        "id": "d8583563",
        "colab": {
          "base_uri": "https://localhost:8080/",
          "height": 564
        },
        "outputId": "a1cea99a-b4cb-4d9a-e31d-78b843961bd4"
      },
      "outputs": [
        {
          "output_type": "display_data",
          "data": {
            "text/plain": [
              "<Figure size 1000x600 with 1 Axes>"
            ],
            "image/png": "[encoded data removed]"
          },
          "metadata": {}
        }
      ],
      "source": [
        "df.plot(x='UN_Region', y='UN_Estimate', kind='scatter',\n",
        "        figsize=(10,6),\n",
        "        title=\"Scatter Plot\")\n",
        "\n",
        "plt.show()"
      ]
    },
    {
      "cell_type": "code",
      "execution_count": 38,
      "id": "67dc9155",
      "metadata": {
        "id": "67dc9155"
      },
      "outputs": [],
      "source": []
    },
    {
      "cell_type": "code",
      "execution_count": 38,
      "id": "510f198a",
      "metadata": {
        "id": "510f198a"
      },
      "outputs": [],
      "source": []
    },
    {
      "cell_type": "code",
      "execution_count": 38,
      "id": "14284f4f",
      "metadata": {
        "id": "14284f4f"
      },
      "outputs": [],
      "source": []
    },
    {
      "cell_type": "code",
      "execution_count": 38,
      "id": "f56493b0",
      "metadata": {
        "id": "f56493b0"
      },
      "outputs": [],
      "source": []
    },
    {
      "cell_type": "markdown",
      "id": "08663651",
      "metadata": {
        "id": "08663651"
      },
      "source": [
        "### Boxplot and Outliers"
      ]
    },
    {
      "cell_type": "markdown",
      "id": "fb12e7bd-1553-4cd8-b19d-9cb3d4589107",
      "metadata": {
        "id": "fb12e7bd-1553-4cd8-b19d-9cb3d4589107"
      },
      "source": [
        "![image.png](attachment:da6a7715-3b1c-4165-a2a9-4dc8ca096bd7.png)"
      ]
    },
    {
      "cell_type": "code",
      "execution_count": 39,
      "id": "3ceac0a3",
      "metadata": {
        "id": "3ceac0a3",
        "colab": {
          "base_uri": "https://localhost:8080/",
          "height": 450
        },
        "outputId": "dcee4c9d-bb13-439e-fdc1-b6a131f1d373"
      },
      "outputs": [
        {
          "output_type": "display_data",
          "data": {
            "text/plain": [
              "<Figure size 640x480 with 1 Axes>"
            ],
            "image/png": "[encoded data removed]"
          },
          "metadata": {}
        }
      ],
      "source": [
        "sns.boxplot(x=df[\"UN_Estimate\"])\n",
        "\n",
        "plt.show()"
      ]
    },
    {
      "cell_type": "code",
      "execution_count": 40,
      "id": "7081b2d4",
      "metadata": {
        "id": "7081b2d4",
        "colab": {
          "base_uri": "https://localhost:8080/",
          "height": 206
        },
        "outputId": "52cfb134-06ee-4f4f-8cd5-33ee0b4e9f5d"
      },
      "outputs": [
        {
          "output_type": "execute_result",
          "data": {
            "text/plain": [
              "  Country/Territory UN_Region  IMF_Estimate  IMF_Year  WorldBank_Estimate  \\\n",
              "1            Monaco    Europe             0         0              234316   \n",
              "2     Liechtenstein    Europe             0         0              157755   \n",
              "3        Luxembourg    Europe        132372      2023              133590   \n",
              "4           Ireland    Europe        114581      2023              100172   \n",
              "5           Bermuda  Americas             0         0              114090   \n",
              "\n",
              "   WorldBank_Year  UN_Estimate UN_Year  \n",
              "1            2021       234317    2021  \n",
              "2            2020       169260    2021  \n",
              "3            2021       133745    2021  \n",
              "4            2021       101109    2021  \n",
              "5            2021       112653    2021  "
            ],
            "text/html": [
              "\n",
              "  <div id=\"df-19c94df8-8610-4380-8648-e523186dcdde\" class=\"colab-df-container\">\n",
              "    <div>\n",
              "<style scoped>\n",
              "    .dataframe tbody tr th:only-of-type {\n",
              "        vertical-align: middle;\n",
              "    }\n",
              "\n",
              "    .dataframe tbody tr th {\n",
              "        vertical-align: top;\n",
              "    }\n",
              "\n",
              "    .dataframe thead th {\n",
              "        text-align: right;\n",
              "    }\n",
              "</style>\n",
              "<table border=\"1\" class=\"dataframe\">\n",
              "  <thead>\n",
              "    <tr style=\"text-align: right;\">\n",
              "      <th></th>\n",
              "      <th>Country/Territory</th>\n",
              "      <th>UN_Region</th>\n",
              "      <th>IMF_Estimate</th>\n",
              "      <th>IMF_Year</th>\n",
              "      <th>WorldBank_Estimate</th>\n",
              "      <th>WorldBank_Year</th>\n",
              "      <th>UN_Estimate</th>\n",
              "      <th>UN_Year</th>\n",
              "    </tr>\n",
              "  </thead>\n",
              "  <tbody>\n",
              "    <tr>\n",
              "      <th>1</th>\n",
              "      <td>Monaco</td>\n",
              "      <td>Europe</td>\n",
              "      <td>0</td>\n",
              "      <td>0</td>\n",
              "      <td>234316</td>\n",
              "      <td>2021</td>\n",
              "      <td>234317</td>\n",
              "      <td>2021</td>\n",
              "    </tr>\n",
              "    <tr>\n",
              "      <th>2</th>\n",
              "      <td>Liechtenstein</td>\n",
              "      <td>Europe</td>\n",
              "      <td>0</td>\n",
              "      <td>0</td>\n",
              "      <td>157755</td>\n",
              "      <td>2020</td>\n",
              "      <td>169260</td>\n",
              "      <td>2021</td>\n",
              "    </tr>\n",
              "    <tr>\n",
              "      <th>3</th>\n",
              "      <td>Luxembourg</td>\n",
              "      <td>Europe</td>\n",
              "      <td>132372</td>\n",
              "      <td>2023</td>\n",
              "      <td>133590</td>\n",
              "      <td>2021</td>\n",
              "      <td>133745</td>\n",
              "      <td>2021</td>\n",
              "    </tr>\n",
              "    <tr>\n",
              "      <th>4</th>\n",
              "      <td>Ireland</td>\n",
              "      <td>Europe</td>\n",
              "      <td>114581</td>\n",
              "      <td>2023</td>\n",
              "      <td>100172</td>\n",
              "      <td>2021</td>\n",
              "      <td>101109</td>\n",
              "      <td>2021</td>\n",
              "    </tr>\n",
              "    <tr>\n",
              "      <th>5</th>\n",
              "      <td>Bermuda</td>\n",
              "      <td>Americas</td>\n",
              "      <td>0</td>\n",
              "      <td>0</td>\n",
              "      <td>114090</td>\n",
              "      <td>2021</td>\n",
              "      <td>112653</td>\n",
              "      <td>2021</td>\n",
              "    </tr>\n",
              "  </tbody>\n",
              "</table>\n",
              "</div>\n",
              "    <div class=\"colab-df-buttons\">\n",
              "\n",
              "  <div class=\"colab-df-container\">\n",
              "    <button class=\"colab-df-convert\" onclick=\"convertToInteractive('df-19c94df8-8610-4380-8648-e523186dcdde')\"\n",
              "            title=\"Convert this dataframe to an interactive table.\"\n",
              "            style=\"display:none;\">\n",
              "\n",
              "  <svg xmlns=\"http://www.w3.org/2000/svg\" height=\"24px\" viewBox=\"0 -960 960 960\">\n",
              "    <path d=\"M120-120v-720h720v720H120Zm60-500h600v-160H180v160Zm220 220h160v-160H400v160Zm0 220h160v-160H400v160ZM180-400h160v-160H180v160Zm440 0h160v-160H620v160ZM180-180h160v-160H180v160Zm440 0h160v-160H620v160Z\"/>\n",
              "  </svg>\n",
              "    </button>\n",
              "\n",
              "  <style>\n",
              "    .colab-df-container {\n",
              "      display:flex;\n",
              "      gap: 12px;\n",
              "    }\n",
              "\n",
              "    .colab-df-convert {\n",
              "      background-color: #E8F0FE;\n",
              "      border: none;\n",
              "      border-radius: 50%;\n",
              "      cursor: pointer;\n",
              "      display: none;\n",
              "      fill: #1967D2;\n",
              "      height: 32px;\n",
              "      padding: 0 0 0 0;\n",
              "      width: 32px;\n",
              "    }\n",
              "\n",
              "    .colab-df-convert:hover {\n",
              "      background-color: #E2EBFA;\n",
              "      box-shadow: 0px 1px 2px rgba(60, 64, 67, 0.3), 0px 1px 3px 1px rgba(60, 64, 67, 0.15);\n",
              "      fill: #174EA6;\n",
              "    }\n",
              "\n",
              "    .colab-df-buttons div {\n",
              "      margin-bottom: 4px;\n",
              "    }\n",
              "\n",
              "    [theme=dark] .colab-df-convert {\n",
              "      background-color: #3B4455;\n",
              "      fill: #D2E3FC;\n",
              "    }\n",
              "\n",
              "    [theme=dark] .colab-df-convert:hover {\n",
              "      background-color: #434B5C;\n",
              "      box-shadow: 0px 1px 3px 1px rgba(0, 0, 0, 0.15);\n",
              "      filter: drop-shadow(0px 1px 2px rgba(0, 0, 0, 0.3));\n",
              "      fill: #FFFFFF;\n",
              "    }\n",
              "  </style>\n",
              "\n",
              "    <script>\n",
              "      const buttonEl =\n",
              "        document.querySelector('#df-19c94df8-8610-4380-8648-e523186dcdde button.colab-df-convert');\n",
              "      buttonEl.style.display =\n",
              "        google.colab.kernel.accessAllowed ? 'block' : 'none';\n",
              "\n",
              "      async function convertToInteractive(key) {\n",
              "        const element = document.querySelector('#df-19c94df8-8610-4380-8648-e523186dcdde');\n",
              "        const dataTable =\n",
              "          await google.colab.kernel.invokeFunction('convertToInteractive',\n",
              "                                                    [key], {});\n",
              "        if (!dataTable) return;\n",
              "\n",
              "        const docLinkHtml = 'Like what you see? Visit the ' +\n",
              "          '<a target=\"_blank\" href=https://colab.research.google.com/notebooks/data_table.ipynb>data table notebook</a>'\n",
              "          + ' to learn more about interactive tables.';\n",
              "        element.innerHTML = '';\n",
              "        dataTable['output_type'] = 'display_data';\n",
              "        await google.colab.output.renderOutput(dataTable, element);\n",
              "        const docLink = document.createElement('div');\n",
              "        docLink.innerHTML = docLinkHtml;\n",
              "        element.appendChild(docLink);\n",
              "      }\n",
              "    </script>\n",
              "  </div>\n",
              "\n",
              "\n",
              "    <div id=\"df-4afd1e1d-d921-491f-a3fe-3ee7de6d5946\">\n",
              "      <button class=\"colab-df-quickchart\" onclick=\"quickchart('df-4afd1e1d-d921-491f-a3fe-3ee7de6d5946')\"\n",
              "                title=\"Suggest charts\"\n",
              "                style=\"display:none;\">\n",
              "\n",
              "<svg xmlns=\"http://www.w3.org/2000/svg\" height=\"24px\"viewBox=\"0 0 24 24\"\n",
              "     width=\"24px\">\n",
              "    <g>\n",
              "        <path d=\"M19 3H5c-1.1 0-2 .9-2 2v14c0 1.1.9 2 2 2h14c1.1 0 2-.9 2-2V5c0-1.1-.9-2-2-2zM9 17H7v-7h2v7zm4 0h-2V7h2v10zm4 0h-2v-4h2v4z\"/>\n",
              "    </g>\n",
              "</svg>\n",
              "      </button>\n",
              "\n",
              "<style>\n",
              "  .colab-df-quickchart {\n",
              "      --bg-color: #E8F0FE;\n",
              "      --fill-color: #1967D2;\n",
              "      --hover-bg-color: #E2EBFA;\n",
              "      --hover-fill-color: #174EA6;\n",
              "      --disabled-fill-color: #AAA;\n",
              "      --disabled-bg-color: #DDD;\n",
              "  }\n",
              "\n",
              "  [theme=dark] .colab-df-quickchart {\n",
              "      --bg-color: #3B4455;\n",
              "      --fill-color: #D2E3FC;\n",
              "      --hover-bg-color: #434B5C;\n",
              "      --hover-fill-color: #FFFFFF;\n",
              "      --disabled-bg-color: #3B4455;\n",
              "      --disabled-fill-color: #666;\n",
              "  }\n",
              "\n",
              "  .colab-df-quickchart {\n",
              "    background-color: var(--bg-color);\n",
              "    border: none;\n",
              "    border-radius: 50%;\n",
              "    cursor: pointer;\n",
              "    display: none;\n",
              "    fill: var(--fill-color);\n",
              "    height: 32px;\n",
              "    padding: 0;\n",
              "    width: 32px;\n",
              "  }\n",
              "\n",
              "  .colab-df-quickchart:hover {\n",
              "    background-color: var(--hover-bg-color);\n",
              "    box-shadow: 0 1px 2px rgba(60, 64, 67, 0.3), 0 1px 3px 1px rgba(60, 64, 67, 0.15);\n",
              "    fill: var(--button-hover-fill-color);\n",
              "  }\n",
              "\n",
              "  .colab-df-quickchart-complete:disabled,\n",
              "  .colab-df-quickchart-complete:disabled:hover {\n",
              "    background-color: var(--disabled-bg-color);\n",
              "    fill: var(--disabled-fill-color);\n",
              "    box-shadow: none;\n",
              "  }\n",
              "\n",
              "  .colab-df-spinner {\n",
              "    border: 2px solid var(--fill-color);\n",
              "    border-color: transparent;\n",
              "    border-bottom-color: var(--fill-color);\n",
              "    animation:\n",
              "      spin 1s steps(1) infinite;\n",
              "  }\n",
              "\n",
              "  @keyframes spin {\n",
              "    0% {\n",
              "      border-color: transparent;\n",
              "      border-bottom-color: var(--fill-color);\n",
              "      border-left-color: var(--fill-color);\n",
              "    }\n",
              "    20% {\n",
              "      border-color: transparent;\n",
              "      border-left-color: var(--fill-color);\n",
              "      border-top-color: var(--fill-color);\n",
              "    }\n",
              "    30% {\n",
              "      border-color: transparent;\n",
              "      border-left-color: var(--fill-color);\n",
              "      border-top-color: var(--fill-color);\n",
              "      border-right-color: var(--fill-color);\n",
              "    }\n",
              "    40% {\n",
              "      border-color: transparent;\n",
              "      border-right-color: var(--fill-color);\n",
              "      border-top-color: var(--fill-color);\n",
              "    }\n",
              "    60% {\n",
              "      border-color: transparent;\n",
              "      border-right-color: var(--fill-color);\n",
              "    }\n",
              "    80% {\n",
              "      border-color: transparent;\n",
              "      border-right-color: var(--fill-color);\n",
              "      border-bottom-color: var(--fill-color);\n",
              "    }\n",
              "    90% {\n",
              "      border-color: transparent;\n",
              "      border-bottom-color: var(--fill-color);\n",
              "    }\n",
              "  }\n",
              "</style>\n",
              "\n",
              "      <script>\n",
              "        async function quickchart(key) {\n",
              "          const quickchartButtonEl =\n",
              "            document.querySelector('#' + key + ' button');\n",
              "          quickchartButtonEl.disabled = true;  // To prevent multiple clicks.\n",
              "          quickchartButtonEl.classList.add('colab-df-spinner');\n",
              "          try {\n",
              "            const charts = await google.colab.kernel.invokeFunction(\n",
              "                'suggestCharts', [key], {});\n",
              "          } catch (error) {\n",
              "            console.error('Error during call to suggestCharts:', error);\n",
              "          }\n",
              "          quickchartButtonEl.classList.remove('colab-df-spinner');\n",
              "          quickchartButtonEl.classList.add('colab-df-quickchart-complete');\n",
              "        }\n",
              "        (() => {\n",
              "          let quickchartButtonEl =\n",
              "            document.querySelector('#df-4afd1e1d-d921-491f-a3fe-3ee7de6d5946 button');\n",
              "          quickchartButtonEl.style.display =\n",
              "            google.colab.kernel.accessAllowed ? 'block' : 'none';\n",
              "        })();\n",
              "      </script>\n",
              "    </div>\n",
              "\n",
              "    </div>\n",
              "  </div>\n"
            ],
            "application/vnd.google.colaboratory.intrinsic+json": {
              "type": "dataframe",
              "repr_error": "0"
            }
          },
          "metadata": {},
          "execution_count": 40
        }
      ],
      "source": [
        "df[df[\"UN_Estimate\"]>50000].head()"
      ]
    },
    {
      "cell_type": "code",
      "execution_count": 41,
      "id": "99282133",
      "metadata": {
        "id": "99282133",
        "colab": {
          "base_uri": "https://localhost:8080/",
          "height": 450
        },
        "outputId": "b1459cc7-482b-4b7a-e4f1-a0a0d5b9aabc"
      },
      "outputs": [
        {
          "output_type": "display_data",
          "data": {
            "text/plain": [
              "<Figure size 640x480 with 1 Axes>"
            ],
            "image/png": "[encoded data removed]"
          },
          "metadata": {}
        }
      ],
      "source": [
        "sns.boxplot(x=df[\"WorldBank_Estimate\"])\n",
        "\n",
        "plt.show()"
      ]
    },
    {
      "cell_type": "code",
      "execution_count": 42,
      "id": "6ba80c49",
      "metadata": {
        "id": "6ba80c49",
        "colab": {
          "base_uri": "https://localhost:8080/",
          "height": 450
        },
        "outputId": "b39c1e1d-e6dd-42d2-856f-0de030f5f50d"
      },
      "outputs": [
        {
          "output_type": "display_data",
          "data": {
            "text/plain": [
              "<Figure size 640x480 with 1 Axes>"
            ],
            "image/png": "[encoded data removed]"
          },
          "metadata": {}
        }
      ],
      "source": [
        "sns.boxplot(x=df[\"IMF_Estimate\"])\n",
        "\n",
        "plt.show()"
      ]
    },
    {
      "cell_type": "code",
      "execution_count": 43,
      "id": "983a04a2",
      "metadata": {
        "id": "983a04a2",
        "colab": {
          "base_uri": "https://localhost:8080/",
          "height": 206
        },
        "outputId": "f6e6adfe-078f-41fd-ef8a-ec1f2e3e84ce"
      },
      "outputs": [
        {
          "output_type": "execute_result",
          "data": {
            "text/plain": [
              "  Country/Territory UN_Region  IMF_Estimate  IMF_Year  WorldBank_Estimate  \\\n",
              "1            Monaco    Europe             0         0              234316   \n",
              "2     Liechtenstein    Europe             0         0              157755   \n",
              "3        Luxembourg    Europe        132372      2023              133590   \n",
              "4           Ireland    Europe        114581      2023              100172   \n",
              "5           Bermuda  Americas             0         0              114090   \n",
              "\n",
              "   WorldBank_Year  UN_Estimate UN_Year  \n",
              "1            2021       234317    2021  \n",
              "2            2020       169260    2021  \n",
              "3            2021       133745    2021  \n",
              "4            2021       101109    2021  \n",
              "5            2021       112653    2021  "
            ],
            "text/html": [
              "\n",
              "  <div id=\"df-2c3d72a0-7f56-4da7-955c-702a85460c4c\" class=\"colab-df-container\">\n",
              "    <div>\n",
              "<style scoped>\n",
              "    .dataframe tbody tr th:only-of-type {\n",
              "        vertical-align: middle;\n",
              "    }\n",
              "\n",
              "    .dataframe tbody tr th {\n",
              "        vertical-align: top;\n",
              "    }\n",
              "\n",
              "    .dataframe thead th {\n",
              "        text-align: right;\n",
              "    }\n",
              "</style>\n",
              "<table border=\"1\" class=\"dataframe\">\n",
              "  <thead>\n",
              "    <tr style=\"text-align: right;\">\n",
              "      <th></th>\n",
              "      <th>Country/Territory</th>\n",
              "      <th>UN_Region</th>\n",
              "      <th>IMF_Estimate</th>\n",
              "      <th>IMF_Year</th>\n",
              "      <th>WorldBank_Estimate</th>\n",
              "      <th>WorldBank_Year</th>\n",
              "      <th>UN_Estimate</th>\n",
              "      <th>UN_Year</th>\n",
              "    </tr>\n",
              "  </thead>\n",
              "  <tbody>\n",
              "    <tr>\n",
              "      <th>1</th>\n",
              "      <td>Monaco</td>\n",
              "      <td>Europe</td>\n",
              "      <td>0</td>\n",
              "      <td>0</td>\n",
              "      <td>234316</td>\n",
              "      <td>2021</td>\n",
              "      <td>234317</td>\n",
              "      <td>2021</td>\n",
              "    </tr>\n",
              "    <tr>\n",
              "      <th>2</th>\n",
              "      <td>Liechtenstein</td>\n",
              "      <td>Europe</td>\n",
              "      <td>0</td>\n",
              "      <td>0</td>\n",
              "      <td>157755</td>\n",
              "      <td>2020</td>\n",
              "      <td>169260</td>\n",
              "      <td>2021</td>\n",
              "    </tr>\n",
              "    <tr>\n",
              "      <th>3</th>\n",
              "      <td>Luxembourg</td>\n",
              "      <td>Europe</td>\n",
              "      <td>132372</td>\n",
              "      <td>2023</td>\n",
              "      <td>133590</td>\n",
              "      <td>2021</td>\n",
              "      <td>133745</td>\n",
              "      <td>2021</td>\n",
              "    </tr>\n",
              "    <tr>\n",
              "      <th>4</th>\n",
              "      <td>Ireland</td>\n",
              "      <td>Europe</td>\n",
              "      <td>114581</td>\n",
              "      <td>2023</td>\n",
              "      <td>100172</td>\n",
              "      <td>2021</td>\n",
              "      <td>101109</td>\n",
              "      <td>2021</td>\n",
              "    </tr>\n",
              "    <tr>\n",
              "      <th>5</th>\n",
              "      <td>Bermuda</td>\n",
              "      <td>Americas</td>\n",
              "      <td>0</td>\n",
              "      <td>0</td>\n",
              "      <td>114090</td>\n",
              "      <td>2021</td>\n",
              "      <td>112653</td>\n",
              "      <td>2021</td>\n",
              "    </tr>\n",
              "  </tbody>\n",
              "</table>\n",
              "</div>\n",
              "    <div class=\"colab-df-buttons\">\n",
              "\n",
              "  <div class=\"colab-df-container\">\n",
              "    <button class=\"colab-df-convert\" onclick=\"convertToInteractive('df-2c3d72a0-7f56-4da7-955c-702a85460c4c')\"\n",
              "            title=\"Convert this dataframe to an interactive table.\"\n",
              "            style=\"display:none;\">\n",
              "\n",
              "  <svg xmlns=\"http://www.w3.org/2000/svg\" height=\"24px\" viewBox=\"0 -960 960 960\">\n",
              "    <path d=\"M120-120v-720h720v720H120Zm60-500h600v-160H180v160Zm220 220h160v-160H400v160Zm0 220h160v-160H400v160ZM180-400h160v-160H180v160Zm440 0h160v-160H620v160ZM180-180h160v-160H180v160Zm440 0h160v-160H620v160Z\"/>\n",
              "  </svg>\n",
              "    </button>\n",
              "\n",
              "  <style>\n",
              "    .colab-df-container {\n",
              "      display:flex;\n",
              "      gap: 12px;\n",
              "    }\n",
              "\n",
              "    .colab-df-convert {\n",
              "      background-color: #E8F0FE;\n",
              "      border: none;\n",
              "      border-radius: 50%;\n",
              "      cursor: pointer;\n",
              "      display: none;\n",
              "      fill: #1967D2;\n",
              "      height: 32px;\n",
              "      padding: 0 0 0 0;\n",
              "      width: 32px;\n",
              "    }\n",
              "\n",
              "    .colab-df-convert:hover {\n",
              "      background-color: #E2EBFA;\n",
              "      box-shadow: 0px 1px 2px rgba(60, 64, 67, 0.3), 0px 1px 3px 1px rgba(60, 64, 67, 0.15);\n",
              "      fill: #174EA6;\n",
              "    }\n",
              "\n",
              "    .colab-df-buttons div {\n",
              "      margin-bottom: 4px;\n",
              "    }\n",
              "\n",
              "    [theme=dark] .colab-df-convert {\n",
              "      background-color: #3B4455;\n",
              "      fill: #D2E3FC;\n",
              "    }\n",
              "\n",
              "    [theme=dark] .colab-df-convert:hover {\n",
              "      background-color: #434B5C;\n",
              "      box-shadow: 0px 1px 3px 1px rgba(0, 0, 0, 0.15);\n",
              "      filter: drop-shadow(0px 1px 2px rgba(0, 0, 0, 0.3));\n",
              "      fill: #FFFFFF;\n",
              "    }\n",
              "  </style>\n",
              "\n",
              "    <script>\n",
              "      const buttonEl =\n",
              "        document.querySelector('#df-2c3d72a0-7f56-4da7-955c-702a85460c4c button.colab-df-convert');\n",
              "      buttonEl.style.display =\n",
              "        google.colab.kernel.accessAllowed ? 'block' : 'none';\n",
              "\n",
              "      async function convertToInteractive(key) {\n",
              "        const element = document.querySelector('#df-2c3d72a0-7f56-4da7-955c-702a85460c4c');\n",
              "        const dataTable =\n",
              "          await google.colab.kernel.invokeFunction('convertToInteractive',\n",
              "                                                    [key], {});\n",
              "        if (!dataTable) return;\n",
              "\n",
              "        const docLinkHtml = 'Like what you see? Visit the ' +\n",
              "          '<a target=\"_blank\" href=https://colab.research.google.com/notebooks/data_table.ipynb>data table notebook</a>'\n",
              "          + ' to learn more about interactive tables.';\n",
              "        element.innerHTML = '';\n",
              "        dataTable['output_type'] = 'display_data';\n",
              "        await google.colab.output.renderOutput(dataTable, element);\n",
              "        const docLink = document.createElement('div');\n",
              "        docLink.innerHTML = docLinkHtml;\n",
              "        element.appendChild(docLink);\n",
              "      }\n",
              "    </script>\n",
              "  </div>\n",
              "\n",
              "\n",
              "    <div id=\"df-53edf0c9-7424-48d1-939e-9fd1a9c3aaff\">\n",
              "      <button class=\"colab-df-quickchart\" onclick=\"quickchart('df-53edf0c9-7424-48d1-939e-9fd1a9c3aaff')\"\n",
              "                title=\"Suggest charts\"\n",
              "                style=\"display:none;\">\n",
              "\n",
              "<svg xmlns=\"http://www.w3.org/2000/svg\" height=\"24px\"viewBox=\"0 0 24 24\"\n",
              "     width=\"24px\">\n",
              "    <g>\n",
              "        <path d=\"M19 3H5c-1.1 0-2 .9-2 2v14c0 1.1.9 2 2 2h14c1.1 0 2-.9 2-2V5c0-1.1-.9-2-2-2zM9 17H7v-7h2v7zm4 0h-2V7h2v10zm4 0h-2v-4h2v4z\"/>\n",
              "    </g>\n",
              "</svg>\n",
              "      </button>\n",
              "\n",
              "<style>\n",
              "  .colab-df-quickchart {\n",
              "      --bg-color: #E8F0FE;\n",
              "      --fill-color: #1967D2;\n",
              "      --hover-bg-color: #E2EBFA;\n",
              "      --hover-fill-color: #174EA6;\n",
              "      --disabled-fill-color: #AAA;\n",
              "      --disabled-bg-color: #DDD;\n",
              "  }\n",
              "\n",
              "  [theme=dark] .colab-df-quickchart {\n",
              "      --bg-color: #3B4455;\n",
              "      --fill-color: #D2E3FC;\n",
              "      --hover-bg-color: #434B5C;\n",
              "      --hover-fill-color: #FFFFFF;\n",
              "      --disabled-bg-color: #3B4455;\n",
              "      --disabled-fill-color: #666;\n",
              "  }\n",
              "\n",
              "  .colab-df-quickchart {\n",
              "    background-color: var(--bg-color);\n",
              "    border: none;\n",
              "    border-radius: 50%;\n",
              "    cursor: pointer;\n",
              "    display: none;\n",
              "    fill: var(--fill-color);\n",
              "    height: 32px;\n",
              "    padding: 0;\n",
              "    width: 32px;\n",
              "  }\n",
              "\n",
              "  .colab-df-quickchart:hover {\n",
              "    background-color: var(--hover-bg-color);\n",
              "    box-shadow: 0 1px 2px rgba(60, 64, 67, 0.3), 0 1px 3px 1px rgba(60, 64, 67, 0.15);\n",
              "    fill: var(--button-hover-fill-color);\n",
              "  }\n",
              "\n",
              "  .colab-df-quickchart-complete:disabled,\n",
              "  .colab-df-quickchart-complete:disabled:hover {\n",
              "    background-color: var(--disabled-bg-color);\n",
              "    fill: var(--disabled-fill-color);\n",
              "    box-shadow: none;\n",
              "  }\n",
              "\n",
              "  .colab-df-spinner {\n",
              "    border: 2px solid var(--fill-color);\n",
              "    border-color: transparent;\n",
              "    border-bottom-color: var(--fill-color);\n",
              "    animation:\n",
              "      spin 1s steps(1) infinite;\n",
              "  }\n",
              "\n",
              "  @keyframes spin {\n",
              "    0% {\n",
              "      border-color: transparent;\n",
              "      border-bottom-color: var(--fill-color);\n",
              "      border-left-color: var(--fill-color);\n",
              "    }\n",
              "    20% {\n",
              "      border-color: transparent;\n",
              "      border-left-color: var(--fill-color);\n",
              "      border-top-color: var(--fill-color);\n",
              "    }\n",
              "    30% {\n",
              "      border-color: transparent;\n",
              "      border-left-color: var(--fill-color);\n",
              "      border-top-color: var(--fill-color);\n",
              "      border-right-color: var(--fill-color);\n",
              "    }\n",
              "    40% {\n",
              "      border-color: transparent;\n",
              "      border-right-color: var(--fill-color);\n",
              "      border-top-color: var(--fill-color);\n",
              "    }\n",
              "    60% {\n",
              "      border-color: transparent;\n",
              "      border-right-color: var(--fill-color);\n",
              "    }\n",
              "    80% {\n",
              "      border-color: transparent;\n",
              "      border-right-color: var(--fill-color);\n",
              "      border-bottom-color: var(--fill-color);\n",
              "    }\n",
              "    90% {\n",
              "      border-color: transparent;\n",
              "      border-bottom-color: var(--fill-color);\n",
              "    }\n",
              "  }\n",
              "</style>\n",
              "\n",
              "      <script>\n",
              "        async function quickchart(key) {\n",
              "          const quickchartButtonEl =\n",
              "            document.querySelector('#' + key + ' button');\n",
              "          quickchartButtonEl.disabled = true;  // To prevent multiple clicks.\n",
              "          quickchartButtonEl.classList.add('colab-df-spinner');\n",
              "          try {\n",
              "            const charts = await google.colab.kernel.invokeFunction(\n",
              "                'suggestCharts', [key], {});\n",
              "          } catch (error) {\n",
              "            console.error('Error during call to suggestCharts:', error);\n",
              "          }\n",
              "          quickchartButtonEl.classList.remove('colab-df-spinner');\n",
              "          quickchartButtonEl.classList.add('colab-df-quickchart-complete');\n",
              "        }\n",
              "        (() => {\n",
              "          let quickchartButtonEl =\n",
              "            document.querySelector('#df-53edf0c9-7424-48d1-939e-9fd1a9c3aaff button');\n",
              "          quickchartButtonEl.style.display =\n",
              "            google.colab.kernel.accessAllowed ? 'block' : 'none';\n",
              "        })();\n",
              "      </script>\n",
              "    </div>\n",
              "\n",
              "    </div>\n",
              "  </div>\n"
            ],
            "application/vnd.google.colaboratory.intrinsic+json": {
              "type": "dataframe",
              "repr_error": "0"
            }
          },
          "metadata": {},
          "execution_count": 43
        }
      ],
      "source": [
        "df[df[\"UN_Estimate\"]>100000]"
      ]
    },
    {
      "cell_type": "code",
      "execution_count": 44,
      "id": "91b0c382",
      "metadata": {
        "id": "91b0c382",
        "colab": {
          "base_uri": "https://localhost:8080/"
        },
        "outputId": "e543c7cc-ec05-4b46-b95a-b4f09efdd1af"
      },
      "outputs": [
        {
          "output_type": "execute_result",
          "data": {
            "text/plain": [
              "np.float64(17767.304932735427)"
            ]
          },
          "metadata": {},
          "execution_count": 44
        }
      ],
      "source": [
        "df.UN_Estimate.mean()"
      ]
    },
    {
      "cell_type": "code",
      "execution_count": 45,
      "id": "bad9872e",
      "metadata": {
        "id": "bad9872e",
        "colab": {
          "base_uri": "https://localhost:8080/"
        },
        "outputId": "8a25bffc-b1df-4d45-dab5-64cbc02ab0b8"
      },
      "outputs": [
        {
          "output_type": "execute_result",
          "data": {
            "text/plain": [
              "(223, 8)"
            ]
          },
          "metadata": {},
          "execution_count": 45
        }
      ],
      "source": [
        "df.shape"
      ]
    },
    {
      "cell_type": "code",
      "execution_count": 45,
      "id": "78b3c8ef",
      "metadata": {
        "id": "78b3c8ef"
      },
      "outputs": [],
      "source": []
    },
    {
      "cell_type": "markdown",
      "id": "080decce",
      "metadata": {
        "jp-MarkdownHeadingCollapsed": true,
        "id": "080decce"
      },
      "source": [
        "## Create another dataframe called data excluding  5 countries with highest UN estimate"
      ]
    },
    {
      "cell_type": "code",
      "execution_count": 46,
      "id": "1c0b325d",
      "metadata": {
        "id": "1c0b325d"
      },
      "outputs": [],
      "source": [
        "data = df[-(df[\"UN_Estimate\"]>100000)]"
      ]
    },
    {
      "cell_type": "code",
      "execution_count": 47,
      "id": "65788d80",
      "metadata": {
        "id": "65788d80",
        "colab": {
          "base_uri": "https://localhost:8080/",
          "height": 206
        },
        "outputId": "3643af3f-3cd0-4762-d86d-c0dfba4fb59e"
      },
      "outputs": [
        {
          "output_type": "execute_result",
          "data": {
            "text/plain": [
              "   Country/Territory UN_Region  IMF_Estimate  IMF_Year  WorldBank_Estimate  \\\n",
              "6             Norway    Europe        101103      2023               89154   \n",
              "7        Switzerland    Europe         98767      2023               91992   \n",
              "8          Singapore      Asia         91100      2023               72794   \n",
              "9        Isle of Man    Europe             0         0               87158   \n",
              "10    Cayman Islands  Americas             0         0               86569   \n",
              "\n",
              "    WorldBank_Year  UN_Estimate UN_Year  \n",
              "6             2021        89242    2021  \n",
              "7             2021        93525    2021  \n",
              "8             2021        66822    2021  \n",
              "9             2019            0       0  \n",
              "10            2021        85250    2021  "
            ],
            "text/html": [
              "\n",
              "  <div id=\"df-7ae74ea6-7e05-433e-b140-4c6ea51c39ae\" class=\"colab-df-container\">\n",
              "    <div>\n",
              "<style scoped>\n",
              "    .dataframe tbody tr th:only-of-type {\n",
              "        vertical-align: middle;\n",
              "    }\n",
              "\n",
              "    .dataframe tbody tr th {\n",
              "        vertical-align: top;\n",
              "    }\n",
              "\n",
              "    .dataframe thead th {\n",
              "        text-align: right;\n",
              "    }\n",
              "</style>\n",
              "<table border=\"1\" class=\"dataframe\">\n",
              "  <thead>\n",
              "    <tr style=\"text-align: right;\">\n",
              "      <th></th>\n",
              "      <th>Country/Territory</th>\n",
              "      <th>UN_Region</th>\n",
              "      <th>IMF_Estimate</th>\n",
              "      <th>IMF_Year</th>\n",
              "      <th>WorldBank_Estimate</th>\n",
              "      <th>WorldBank_Year</th>\n",
              "      <th>UN_Estimate</th>\n",
              "      <th>UN_Year</th>\n",
              "    </tr>\n",
              "  </thead>\n",
              "  <tbody>\n",
              "    <tr>\n",
              "      <th>6</th>\n",
              "      <td>Norway</td>\n",
              "      <td>Europe</td>\n",
              "      <td>101103</td>\n",
              "      <td>2023</td>\n",
              "      <td>89154</td>\n",
              "      <td>2021</td>\n",
              "      <td>89242</td>\n",
              "      <td>2021</td>\n",
              "    </tr>\n",
              "    <tr>\n",
              "      <th>7</th>\n",
              "      <td>Switzerland</td>\n",
              "      <td>Europe</td>\n",
              "      <td>98767</td>\n",
              "      <td>2023</td>\n",
              "      <td>91992</td>\n",
              "      <td>2021</td>\n",
              "      <td>93525</td>\n",
              "      <td>2021</td>\n",
              "    </tr>\n",
              "    <tr>\n",
              "      <th>8</th>\n",
              "      <td>Singapore</td>\n",
              "      <td>Asia</td>\n",
              "      <td>91100</td>\n",
              "      <td>2023</td>\n",
              "      <td>72794</td>\n",
              "      <td>2021</td>\n",
              "      <td>66822</td>\n",
              "      <td>2021</td>\n",
              "    </tr>\n",
              "    <tr>\n",
              "      <th>9</th>\n",
              "      <td>Isle of Man</td>\n",
              "      <td>Europe</td>\n",
              "      <td>0</td>\n",
              "      <td>0</td>\n",
              "      <td>87158</td>\n",
              "      <td>2019</td>\n",
              "      <td>0</td>\n",
              "      <td>0</td>\n",
              "    </tr>\n",
              "    <tr>\n",
              "      <th>10</th>\n",
              "      <td>Cayman Islands</td>\n",
              "      <td>Americas</td>\n",
              "      <td>0</td>\n",
              "      <td>0</td>\n",
              "      <td>86569</td>\n",
              "      <td>2021</td>\n",
              "      <td>85250</td>\n",
              "      <td>2021</td>\n",
              "    </tr>\n",
              "  </tbody>\n",
              "</table>\n",
              "</div>\n",
              "    <div class=\"colab-df-buttons\">\n",
              "\n",
              "  <div class=\"colab-df-container\">\n",
              "    <button class=\"colab-df-convert\" onclick=\"convertToInteractive('df-7ae74ea6-7e05-433e-b140-4c6ea51c39ae')\"\n",
              "            title=\"Convert this dataframe to an interactive table.\"\n",
              "            style=\"display:none;\">\n",
              "\n",
              "  <svg xmlns=\"http://www.w3.org/2000/svg\" height=\"24px\" viewBox=\"0 -960 960 960\">\n",
              "    <path d=\"M120-120v-720h720v720H120Zm60-500h600v-160H180v160Zm220 220h160v-160H400v160Zm0 220h160v-160H400v160ZM180-400h160v-160H180v160Zm440 0h160v-160H620v160ZM180-180h160v-160H180v160Zm440 0h160v-160H620v160Z\"/>\n",
              "  </svg>\n",
              "    </button>\n",
              "\n",
              "  <style>\n",
              "    .colab-df-container {\n",
              "      display:flex;\n",
              "      gap: 12px;\n",
              "    }\n",
              "\n",
              "    .colab-df-convert {\n",
              "      background-color: #E8F0FE;\n",
              "      border: none;\n",
              "      border-radius: 50%;\n",
              "      cursor: pointer;\n",
              "      display: none;\n",
              "      fill: #1967D2;\n",
              "      height: 32px;\n",
              "      padding: 0 0 0 0;\n",
              "      width: 32px;\n",
              "    }\n",
              "\n",
              "    .colab-df-convert:hover {\n",
              "      background-color: #E2EBFA;\n",
              "      box-shadow: 0px 1px 2px rgba(60, 64, 67, 0.3), 0px 1px 3px 1px rgba(60, 64, 67, 0.15);\n",
              "      fill: #174EA6;\n",
              "    }\n",
              "\n",
              "    .colab-df-buttons div {\n",
              "      margin-bottom: 4px;\n",
              "    }\n",
              "\n",
              "    [theme=dark] .colab-df-convert {\n",
              "      background-color: #3B4455;\n",
              "      fill: #D2E3FC;\n",
              "    }\n",
              "\n",
              "    [theme=dark] .colab-df-convert:hover {\n",
              "      background-color: #434B5C;\n",
              "      box-shadow: 0px 1px 3px 1px rgba(0, 0, 0, 0.15);\n",
              "      filter: drop-shadow(0px 1px 2px rgba(0, 0, 0, 0.3));\n",
              "      fill: #FFFFFF;\n",
              "    }\n",
              "  </style>\n",
              "\n",
              "    <script>\n",
              "      const buttonEl =\n",
              "        document.querySelector('#df-7ae74ea6-7e05-433e-b140-4c6ea51c39ae button.colab-df-convert');\n",
              "      buttonEl.style.display =\n",
              "        google.colab.kernel.accessAllowed ? 'block' : 'none';\n",
              "\n",
              "      async function convertToInteractive(key) {\n",
              "        const element = document.querySelector('#df-7ae74ea6-7e05-433e-b140-4c6ea51c39ae');\n",
              "        const dataTable =\n",
              "          await google.colab.kernel.invokeFunction('convertToInteractive',\n",
              "                                                    [key], {});\n",
              "        if (!dataTable) return;\n",
              "\n",
              "        const docLinkHtml = 'Like what you see? Visit the ' +\n",
              "          '<a target=\"_blank\" href=https://colab.research.google.com/notebooks/data_table.ipynb>data table notebook</a>'\n",
              "          + ' to learn more about interactive tables.';\n",
              "        element.innerHTML = '';\n",
              "        dataTable['output_type'] = 'display_data';\n",
              "        await google.colab.output.renderOutput(dataTable, element);\n",
              "        const docLink = document.createElement('div');\n",
              "        docLink.innerHTML = docLinkHtml;\n",
              "        element.appendChild(docLink);\n",
              "      }\n",
              "    </script>\n",
              "  </div>\n",
              "\n",
              "\n",
              "    <div id=\"df-3a16459c-a529-480a-949d-639bf0ff631d\">\n",
              "      <button class=\"colab-df-quickchart\" onclick=\"quickchart('df-3a16459c-a529-480a-949d-639bf0ff631d')\"\n",
              "                title=\"Suggest charts\"\n",
              "                style=\"display:none;\">\n",
              "\n",
              "<svg xmlns=\"http://www.w3.org/2000/svg\" height=\"24px\"viewBox=\"0 0 24 24\"\n",
              "     width=\"24px\">\n",
              "    <g>\n",
              "        <path d=\"M19 3H5c-1.1 0-2 .9-2 2v14c0 1.1.9 2 2 2h14c1.1 0 2-.9 2-2V5c0-1.1-.9-2-2-2zM9 17H7v-7h2v7zm4 0h-2V7h2v10zm4 0h-2v-4h2v4z\"/>\n",
              "    </g>\n",
              "</svg>\n",
              "      </button>\n",
              "\n",
              "<style>\n",
              "  .colab-df-quickchart {\n",
              "      --bg-color: #E8F0FE;\n",
              "      --fill-color: #1967D2;\n",
              "      --hover-bg-color: #E2EBFA;\n",
              "      --hover-fill-color: #174EA6;\n",
              "      --disabled-fill-color: #AAA;\n",
              "      --disabled-bg-color: #DDD;\n",
              "  }\n",
              "\n",
              "  [theme=dark] .colab-df-quickchart {\n",
              "      --bg-color: #3B4455;\n",
              "      --fill-color: #D2E3FC;\n",
              "      --hover-bg-color: #434B5C;\n",
              "      --hover-fill-color: #FFFFFF;\n",
              "      --disabled-bg-color: #3B4455;\n",
              "      --disabled-fill-color: #666;\n",
              "  }\n",
              "\n",
              "  .colab-df-quickchart {\n",
              "    background-color: var(--bg-color);\n",
              "    border: none;\n",
              "    border-radius: 50%;\n",
              "    cursor: pointer;\n",
              "    display: none;\n",
              "    fill: var(--fill-color);\n",
              "    height: 32px;\n",
              "    padding: 0;\n",
              "    width: 32px;\n",
              "  }\n",
              "\n",
              "  .colab-df-quickchart:hover {\n",
              "    background-color: var(--hover-bg-color);\n",
              "    box-shadow: 0 1px 2px rgba(60, 64, 67, 0.3), 0 1px 3px 1px rgba(60, 64, 67, 0.15);\n",
              "    fill: var(--button-hover-fill-color);\n",
              "  }\n",
              "\n",
              "  .colab-df-quickchart-complete:disabled,\n",
              "  .colab-df-quickchart-complete:disabled:hover {\n",
              "    background-color: var(--disabled-bg-color);\n",
              "    fill: var(--disabled-fill-color);\n",
              "    box-shadow: none;\n",
              "  }\n",
              "\n",
              "  .colab-df-spinner {\n",
              "    border: 2px solid var(--fill-color);\n",
              "    border-color: transparent;\n",
              "    border-bottom-color: var(--fill-color);\n",
              "    animation:\n",
              "      spin 1s steps(1) infinite;\n",
              "  }\n",
              "\n",
              "  @keyframes spin {\n",
              "    0% {\n",
              "      border-color: transparent;\n",
              "      border-bottom-color: var(--fill-color);\n",
              "      border-left-color: var(--fill-color);\n",
              "    }\n",
              "    20% {\n",
              "      border-color: transparent;\n",
              "      border-left-color: var(--fill-color);\n",
              "      border-top-color: var(--fill-color);\n",
              "    }\n",
              "    30% {\n",
              "      border-color: transparent;\n",
              "      border-left-color: var(--fill-color);\n",
              "      border-top-color: var(--fill-color);\n",
              "      border-right-color: var(--fill-color);\n",
              "    }\n",
              "    40% {\n",
              "      border-color: transparent;\n",
              "      border-right-color: var(--fill-color);\n",
              "      border-top-color: var(--fill-color);\n",
              "    }\n",
              "    60% {\n",
              "      border-color: transparent;\n",
              "      border-right-color: var(--fill-color);\n",
              "    }\n",
              "    80% {\n",
              "      border-color: transparent;\n",
              "      border-right-color: var(--fill-color);\n",
              "      border-bottom-color: var(--fill-color);\n",
              "    }\n",
              "    90% {\n",
              "      border-color: transparent;\n",
              "      border-bottom-color: var(--fill-color);\n",
              "    }\n",
              "  }\n",
              "</style>\n",
              "\n",
              "      <script>\n",
              "        async function quickchart(key) {\n",
              "          const quickchartButtonEl =\n",
              "            document.querySelector('#' + key + ' button');\n",
              "          quickchartButtonEl.disabled = true;  // To prevent multiple clicks.\n",
              "          quickchartButtonEl.classList.add('colab-df-spinner');\n",
              "          try {\n",
              "            const charts = await google.colab.kernel.invokeFunction(\n",
              "                'suggestCharts', [key], {});\n",
              "          } catch (error) {\n",
              "            console.error('Error during call to suggestCharts:', error);\n",
              "          }\n",
              "          quickchartButtonEl.classList.remove('colab-df-spinner');\n",
              "          quickchartButtonEl.classList.add('colab-df-quickchart-complete');\n",
              "        }\n",
              "        (() => {\n",
              "          let quickchartButtonEl =\n",
              "            document.querySelector('#df-3a16459c-a529-480a-949d-639bf0ff631d button');\n",
              "          quickchartButtonEl.style.display =\n",
              "            google.colab.kernel.accessAllowed ? 'block' : 'none';\n",
              "        })();\n",
              "      </script>\n",
              "    </div>\n",
              "\n",
              "    </div>\n",
              "  </div>\n"
            ],
            "application/vnd.google.colaboratory.intrinsic+json": {
              "type": "dataframe",
              "variable_name": "data",
              "summary": "{\n  \"name\": \"data\",\n  \"rows\": 218,\n  \"fields\": [\n    {\n      \"column\": \"Country/Territory\",\n      \"properties\": {\n        \"dtype\": \"string\",\n        \"num_unique_values\": 218,\n        \"samples\": [\n          \"Serbia\",\n          \"Sierra Leone\",\n          \"Vietnam\"\n        ],\n        \"semantic_type\": \"\",\n        \"description\": \"\"\n      }\n    },\n    {\n      \"column\": \"UN_Region\",\n      \"properties\": {\n        \"dtype\": \"category\",\n        \"num_unique_values\": 6,\n        \"samples\": [\n          \"Europe\",\n          \"Asia\",\n          \"World\"\n        ],\n        \"semantic_type\": \"\",\n        \"description\": \"\"\n      }\n    },\n    {\n      \"column\": \"IMF_Estimate\",\n      \"properties\": {\n        \"dtype\": \"number\",\n        \"std\": 20196,\n        \"min\": 0,\n        \"max\": 101103,\n        \"num_unique_values\": 196,\n        \"samples\": [\n          3204,\n          5164,\n          52722\n        ],\n        \"semantic_type\": \"\",\n        \"description\": \"\"\n      }\n    },\n    {\n      \"column\": \"IMF_Year\",\n      \"properties\": {\n        \"dtype\": \"number\",\n        \"std\": 622,\n        \"min\": 0,\n        \"max\": 2023,\n        \"num_unique_values\": 4,\n        \"samples\": [\n          0,\n          2022,\n          2023\n        ],\n        \"semantic_type\": \"\",\n        \"description\": \"\"\n      }\n    },\n    {\n      \"column\": \"WorldBank_Estimate\",\n      \"properties\": {\n        \"dtype\": \"number\",\n        \"std\": 20552,\n        \"min\": 0,\n        \"max\": 91992,\n        \"num_unique_values\": 211,\n        \"samples\": [\n          38411,\n          1637,\n          4136\n        ],\n        \"semantic_type\": \"\",\n        \"description\": \"\"\n      }\n    },\n    {\n      \"column\": \"WorldBank_Year\",\n      \"properties\": {\n        \"dtype\": \"number\",\n        \"std\": 357,\n        \"min\": 0,\n        \"max\": 2021,\n        \"num_unique_values\": 9,\n        \"samples\": [\n          2011,\n          2019,\n          2018\n        ],\n        \"semantic_type\": \"\",\n        \"description\": \"\"\n      }\n    },\n    {\n      \"column\": \"UN_Estimate\",\n      \"properties\": {\n        \"dtype\": \"number\",\n        \"std\": 19389,\n        \"min\": 0,\n        \"max\": 93525,\n        \"num_unique_values\": 210,\n        \"samples\": [\n          34994,\n          1480,\n          9824\n        ],\n        \"semantic_type\": \"\",\n        \"description\": \"\"\n      }\n    },\n    {\n      \"column\": \"UN_Year\",\n      \"properties\": {\n        \"dtype\": \"category\",\n        \"num_unique_values\": 3,\n        \"samples\": [\n          \"2021\",\n          \"0\",\n          \"[n 10]2021\"\n        ],\n        \"semantic_type\": \"\",\n        \"description\": \"\"\n      }\n    }\n  ]\n}"
            }
          },
          "metadata": {},
          "execution_count": 47
        }
      ],
      "source": [
        "data.head()"
      ]
    },
    {
      "cell_type": "code",
      "execution_count": 48,
      "id": "4690f065",
      "metadata": {
        "id": "4690f065",
        "colab": {
          "base_uri": "https://localhost:8080/"
        },
        "outputId": "320f3d52-588d-40e0-8221-c920c8d50b2e"
      },
      "outputs": [
        {
          "output_type": "execute_result",
          "data": {
            "text/plain": [
              "(218, 8)"
            ]
          },
          "metadata": {},
          "execution_count": 48
        }
      ],
      "source": [
        "data.shape"
      ]
    },
    {
      "cell_type": "code",
      "execution_count": 49,
      "id": "273c9a10",
      "metadata": {
        "id": "273c9a10",
        "colab": {
          "base_uri": "https://localhost:8080/"
        },
        "outputId": "68a903ef-208d-4a4c-964c-d69a4469337d"
      },
      "outputs": [
        {
          "output_type": "execute_result",
          "data": {
            "text/plain": [
              "np.float64(14729.47247706422)"
            ]
          },
          "metadata": {},
          "execution_count": 49
        }
      ],
      "source": [
        "data.UN_Estimate.mean()"
      ]
    },
    {
      "cell_type": "code",
      "execution_count": 50,
      "id": "1ca86f8a-0ced-4e5b-990d-b16b8fa3377a",
      "metadata": {
        "id": "1ca86f8a-0ced-4e5b-990d-b16b8fa3377a",
        "colab": {
          "base_uri": "https://localhost:8080/"
        },
        "outputId": "c0d666db-50a3-40cd-c34b-0a2266bbaec3"
      },
      "outputs": [
        {
          "output_type": "execute_result",
          "data": {
            "text/plain": [
              "np.float64(17767.304932735427)"
            ]
          },
          "metadata": {},
          "execution_count": 50
        }
      ],
      "source": [
        "df.UN_Estimate.mean()"
      ]
    },
    {
      "cell_type": "markdown",
      "id": "f5e3f021",
      "metadata": {
        "id": "f5e3f021"
      },
      "source": [
        "![image.png](attachment:image.png)"
      ]
    },
    {
      "cell_type": "code",
      "execution_count": 51,
      "id": "860f66c6",
      "metadata": {
        "id": "860f66c6",
        "colab": {
          "base_uri": "https://localhost:8080/",
          "height": 450
        },
        "outputId": "1387ede0-7ff7-4bad-e072-c099418bd09a"
      },
      "outputs": [
        {
          "output_type": "display_data",
          "data": {
            "text/plain": [
              "<Figure size 640x480 with 1 Axes>"
            ],
            "image/png": "[encoded data removed]"
          },
          "metadata": {}
        }
      ],
      "source": [
        "sns.boxplot(x=data[\"UN_Estimate\"])\n",
        "plt.show()"
      ]
    },
    {
      "cell_type": "markdown",
      "id": "d47b00f3",
      "metadata": {
        "id": "d47b00f3"
      },
      "source": [
        "## Removing outliers"
      ]
    },
    {
      "cell_type": "markdown",
      "id": "113a0eab-5238-4ec2-9acc-c2200a73ae85",
      "metadata": {
        "id": "113a0eab-5238-4ec2-9acc-c2200a73ae85"
      },
      "source": [
        "![image.png](attachment:da6a7715-3b1c-4165-a2a9-4dc8ca096bd7.png)"
      ]
    },
    {
      "cell_type": "markdown",
      "id": "3f18db3e-dbbe-4455-83b6-b4c25453dce7",
      "metadata": {
        "id": "3f18db3e-dbbe-4455-83b6-b4c25453dce7"
      },
      "source": [
        "![image.png](attachment:image.png)"
      ]
    },
    {
      "cell_type": "code",
      "execution_count": 52,
      "id": "81b2a144",
      "metadata": {
        "id": "81b2a144",
        "colab": {
          "base_uri": "https://localhost:8080/"
        },
        "outputId": "3a39448e-663a-4b37-e281-d3e281c616bf"
      },
      "outputs": [
        {
          "output_type": "execute_result",
          "data": {
            "text/plain": [
              "np.float64(2039.0)"
            ]
          },
          "metadata": {},
          "execution_count": 52
        }
      ],
      "source": [
        "lower_q = df[\"UN_Estimate\"].quantile(0.25)\n",
        "lower_q"
      ]
    },
    {
      "cell_type": "code",
      "execution_count": 53,
      "id": "4d2d9908",
      "metadata": {
        "id": "4d2d9908",
        "colab": {
          "base_uri": "https://localhost:8080/"
        },
        "outputId": "c1bdda86-6956-4ad9-af14-bc1bca7931a8"
      },
      "outputs": [
        {
          "output_type": "execute_result",
          "data": {
            "text/plain": [
              "np.float64(20740.0)"
            ]
          },
          "metadata": {},
          "execution_count": 53
        }
      ],
      "source": [
        "higher_q = df[\"UN_Estimate\"].quantile(0.75)\n",
        "higher_q"
      ]
    },
    {
      "cell_type": "code",
      "execution_count": 54,
      "id": "aed82f2e-fa8f-48ab-9cea-3bce39b624c9",
      "metadata": {
        "id": "aed82f2e-fa8f-48ab-9cea-3bce39b624c9",
        "colab": {
          "base_uri": "https://localhost:8080/"
        },
        "outputId": "c2e752bb-af18-4362-97da-7a81408a0269"
      },
      "outputs": [
        {
          "output_type": "execute_result",
          "data": {
            "text/plain": [
              "np.float64(18701.0)"
            ]
          },
          "metadata": {},
          "execution_count": 54
        }
      ],
      "source": [
        "iqr = higher_q - lower_q\n",
        "iqr"
      ]
    },
    {
      "cell_type": "code",
      "execution_count": 55,
      "id": "305e72f9-4175-4f5f-851d-336258aa84f8",
      "metadata": {
        "id": "305e72f9-4175-4f5f-851d-336258aa84f8",
        "colab": {
          "base_uri": "https://localhost:8080/"
        },
        "outputId": "e007e7e7-3053-414e-bb74-d0c5c794cdf0"
      },
      "outputs": [
        {
          "output_type": "execute_result",
          "data": {
            "text/plain": [
              "np.float64(48791.5)"
            ]
          },
          "metadata": {},
          "execution_count": 55
        }
      ],
      "source": [
        "upper_boundary = higher_q + 1.5 * iqr\n",
        "upper_boundary"
      ]
    },
    {
      "cell_type": "code",
      "execution_count": 56,
      "id": "f4c90c62-a405-4c6c-9ec4-b4f8af39c09c",
      "metadata": {
        "id": "f4c90c62-a405-4c6c-9ec4-b4f8af39c09c",
        "colab": {
          "base_uri": "https://localhost:8080/"
        },
        "outputId": "18898454-39f1-49d5-ad5e-38aaa7664b3e"
      },
      "outputs": [
        {
          "output_type": "execute_result",
          "data": {
            "text/plain": [
              "np.float64(-26012.5)"
            ]
          },
          "metadata": {},
          "execution_count": 56
        }
      ],
      "source": [
        "lower_boundary = lower_q - 1.5 * iqr\n",
        "lower_boundary"
      ]
    },
    {
      "cell_type": "code",
      "execution_count": 57,
      "id": "76e66b47",
      "metadata": {
        "id": "76e66b47"
      },
      "outputs": [],
      "source": [
        "df_filtered = df[(df[\"UN_Estimate\"] < upper_boundary) & (df[\"UN_Estimate\"] > lower_boundary)]"
      ]
    },
    {
      "cell_type": "code",
      "execution_count": 58,
      "id": "69e39033",
      "metadata": {
        "id": "69e39033",
        "colab": {
          "base_uri": "https://localhost:8080/",
          "height": 206
        },
        "outputId": "7fb28b33-6ea4-489b-9037-521303e97010"
      },
      "outputs": [
        {
          "output_type": "execute_result",
          "data": {
            "text/plain": [
              "       Country/Territory UN_Region  IMF_Estimate  IMF_Year  \\\n",
              "9            Isle of Man    Europe             0         0   \n",
              "14       Channel Islands    Europe             0         0   \n",
              "15         Faroe Islands    Europe             0         0   \n",
              "29                 Macau      Asia         50571      2023   \n",
              "30  United Arab Emirates      Asia         49451      2023   \n",
              "\n",
              "    WorldBank_Estimate  WorldBank_Year  UN_Estimate UN_Year  \n",
              "9                87158            2019            0       0  \n",
              "14               75153            2007            0       0  \n",
              "15               69010            2021            0       0  \n",
              "29               43874            2021        43555    2021  \n",
              "30               44316            2021        43295    2021  "
            ],
            "text/html": [
              "\n",
              "  <div id=\"df-81495642-485d-4e82-9d22-e4e888dff8b3\" class=\"colab-df-container\">\n",
              "    <div>\n",
              "<style scoped>\n",
              "    .dataframe tbody tr th:only-of-type {\n",
              "        vertical-align: middle;\n",
              "    }\n",
              "\n",
              "    .dataframe tbody tr th {\n",
              "        vertical-align: top;\n",
              "    }\n",
              "\n",
              "    .dataframe thead th {\n",
              "        text-align: right;\n",
              "    }\n",
              "</style>\n",
              "<table border=\"1\" class=\"dataframe\">\n",
              "  <thead>\n",
              "    <tr style=\"text-align: right;\">\n",
              "      <th></th>\n",
              "      <th>Country/Territory</th>\n",
              "      <th>UN_Region</th>\n",
              "      <th>IMF_Estimate</th>\n",
              "      <th>IMF_Year</th>\n",
              "      <th>WorldBank_Estimate</th>\n",
              "      <th>WorldBank_Year</th>\n",
              "      <th>UN_Estimate</th>\n",
              "      <th>UN_Year</th>\n",
              "    </tr>\n",
              "  </thead>\n",
              "  <tbody>\n",
              "    <tr>\n",
              "      <th>9</th>\n",
              "      <td>Isle of Man</td>\n",
              "      <td>Europe</td>\n",
              "      <td>0</td>\n",
              "      <td>0</td>\n",
              "      <td>87158</td>\n",
              "      <td>2019</td>\n",
              "      <td>0</td>\n",
              "      <td>0</td>\n",
              "    </tr>\n",
              "    <tr>\n",
              "      <th>14</th>\n",
              "      <td>Channel Islands</td>\n",
              "      <td>Europe</td>\n",
              "      <td>0</td>\n",
              "      <td>0</td>\n",
              "      <td>75153</td>\n",
              "      <td>2007</td>\n",
              "      <td>0</td>\n",
              "      <td>0</td>\n",
              "    </tr>\n",
              "    <tr>\n",
              "      <th>15</th>\n",
              "      <td>Faroe Islands</td>\n",
              "      <td>Europe</td>\n",
              "      <td>0</td>\n",
              "      <td>0</td>\n",
              "      <td>69010</td>\n",
              "      <td>2021</td>\n",
              "      <td>0</td>\n",
              "      <td>0</td>\n",
              "    </tr>\n",
              "    <tr>\n",
              "      <th>29</th>\n",
              "      <td>Macau</td>\n",
              "      <td>Asia</td>\n",
              "      <td>50571</td>\n",
              "      <td>2023</td>\n",
              "      <td>43874</td>\n",
              "      <td>2021</td>\n",
              "      <td>43555</td>\n",
              "      <td>2021</td>\n",
              "    </tr>\n",
              "    <tr>\n",
              "      <th>30</th>\n",
              "      <td>United Arab Emirates</td>\n",
              "      <td>Asia</td>\n",
              "      <td>49451</td>\n",
              "      <td>2023</td>\n",
              "      <td>44316</td>\n",
              "      <td>2021</td>\n",
              "      <td>43295</td>\n",
              "      <td>2021</td>\n",
              "    </tr>\n",
              "  </tbody>\n",
              "</table>\n",
              "</div>\n",
              "    <div class=\"colab-df-buttons\">\n",
              "\n",
              "  <div class=\"colab-df-container\">\n",
              "    <button class=\"colab-df-convert\" onclick=\"convertToInteractive('df-81495642-485d-4e82-9d22-e4e888dff8b3')\"\n",
              "            title=\"Convert this dataframe to an interactive table.\"\n",
              "            style=\"display:none;\">\n",
              "\n",
              "  <svg xmlns=\"http://www.w3.org/2000/svg\" height=\"24px\" viewBox=\"0 -960 960 960\">\n",
              "    <path d=\"M120-120v-720h720v720H120Zm60-500h600v-160H180v160Zm220 220h160v-160H400v160Zm0 220h160v-160H400v160ZM180-400h160v-160H180v160Zm440 0h160v-160H620v160ZM180-180h160v-160H180v160Zm440 0h160v-160H620v160Z\"/>\n",
              "  </svg>\n",
              "    </button>\n",
              "\n",
              "  <style>\n",
              "    .colab-df-container {\n",
              "      display:flex;\n",
              "      gap: 12px;\n",
              "    }\n",
              "\n",
              "    .colab-df-convert {\n",
              "      background-color: #E8F0FE;\n",
              "      border: none;\n",
              "      border-radius: 50%;\n",
              "      cursor: pointer;\n",
              "      display: none;\n",
              "      fill: #1967D2;\n",
              "      height: 32px;\n",
              "      padding: 0 0 0 0;\n",
              "      width: 32px;\n",
              "    }\n",
              "\n",
              "    .colab-df-convert:hover {\n",
              "      background-color: #E2EBFA;\n",
              "      box-shadow: 0px 1px 2px rgba(60, 64, 67, 0.3), 0px 1px 3px 1px rgba(60, 64, 67, 0.15);\n",
              "      fill: #174EA6;\n",
              "    }\n",
              "\n",
              "    .colab-df-buttons div {\n",
              "      margin-bottom: 4px;\n",
              "    }\n",
              "\n",
              "    [theme=dark] .colab-df-convert {\n",
              "      background-color: #3B4455;\n",
              "      fill: #D2E3FC;\n",
              "    }\n",
              "\n",
              "    [theme=dark] .colab-df-convert:hover {\n",
              "      background-color: #434B5C;\n",
              "      box-shadow: 0px 1px 3px 1px rgba(0, 0, 0, 0.15);\n",
              "      filter: drop-shadow(0px 1px 2px rgba(0, 0, 0, 0.3));\n",
              "      fill: #FFFFFF;\n",
              "    }\n",
              "  </style>\n",
              "\n",
              "    <script>\n",
              "      const buttonEl =\n",
              "        document.querySelector('#df-81495642-485d-4e82-9d22-e4e888dff8b3 button.colab-df-convert');\n",
              "      buttonEl.style.display =\n",
              "        google.colab.kernel.accessAllowed ? 'block' : 'none';\n",
              "\n",
              "      async function convertToInteractive(key) {\n",
              "        const element = document.querySelector('#df-81495642-485d-4e82-9d22-e4e888dff8b3');\n",
              "        const dataTable =\n",
              "          await google.colab.kernel.invokeFunction('convertToInteractive',\n",
              "                                                    [key], {});\n",
              "        if (!dataTable) return;\n",
              "\n",
              "        const docLinkHtml = 'Like what you see? Visit the ' +\n",
              "          '<a target=\"_blank\" href=https://colab.research.google.com/notebooks/data_table.ipynb>data table notebook</a>'\n",
              "          + ' to learn more about interactive tables.';\n",
              "        element.innerHTML = '';\n",
              "        dataTable['output_type'] = 'display_data';\n",
              "        await google.colab.output.renderOutput(dataTable, element);\n",
              "        const docLink = document.createElement('div');\n",
              "        docLink.innerHTML = docLinkHtml;\n",
              "        element.appendChild(docLink);\n",
              "      }\n",
              "    </script>\n",
              "  </div>\n",
              "\n",
              "\n",
              "    <div id=\"df-7722958a-d454-4dca-9f85-41161ba7eeee\">\n",
              "      <button class=\"colab-df-quickchart\" onclick=\"quickchart('df-7722958a-d454-4dca-9f85-41161ba7eeee')\"\n",
              "                title=\"Suggest charts\"\n",
              "                style=\"display:none;\">\n",
              "\n",
              "<svg xmlns=\"http://www.w3.org/2000/svg\" height=\"24px\"viewBox=\"0 0 24 24\"\n",
              "     width=\"24px\">\n",
              "    <g>\n",
              "        <path d=\"M19 3H5c-1.1 0-2 .9-2 2v14c0 1.1.9 2 2 2h14c1.1 0 2-.9 2-2V5c0-1.1-.9-2-2-2zM9 17H7v-7h2v7zm4 0h-2V7h2v10zm4 0h-2v-4h2v4z\"/>\n",
              "    </g>\n",
              "</svg>\n",
              "      </button>\n",
              "\n",
              "<style>\n",
              "  .colab-df-quickchart {\n",
              "      --bg-color: #E8F0FE;\n",
              "      --fill-color: #1967D2;\n",
              "      --hover-bg-color: #E2EBFA;\n",
              "      --hover-fill-color: #174EA6;\n",
              "      --disabled-fill-color: #AAA;\n",
              "      --disabled-bg-color: #DDD;\n",
              "  }\n",
              "\n",
              "  [theme=dark] .colab-df-quickchart {\n",
              "      --bg-color: #3B4455;\n",
              "      --fill-color: #D2E3FC;\n",
              "      --hover-bg-color: #434B5C;\n",
              "      --hover-fill-color: #FFFFFF;\n",
              "      --disabled-bg-color: #3B4455;\n",
              "      --disabled-fill-color: #666;\n",
              "  }\n",
              "\n",
              "  .colab-df-quickchart {\n",
              "    background-color: var(--bg-color);\n",
              "    border: none;\n",
              "    border-radius: 50%;\n",
              "    cursor: pointer;\n",
              "    display: none;\n",
              "    fill: var(--fill-color);\n",
              "    height: 32px;\n",
              "    padding: 0;\n",
              "    width: 32px;\n",
              "  }\n",
              "\n",
              "  .colab-df-quickchart:hover {\n",
              "    background-color: var(--hover-bg-color);\n",
              "    box-shadow: 0 1px 2px rgba(60, 64, 67, 0.3), 0 1px 3px 1px rgba(60, 64, 67, 0.15);\n",
              "    fill: var(--button-hover-fill-color);\n",
              "  }\n",
              "\n",
              "  .colab-df-quickchart-complete:disabled,\n",
              "  .colab-df-quickchart-complete:disabled:hover {\n",
              "    background-color: var(--disabled-bg-color);\n",
              "    fill: var(--disabled-fill-color);\n",
              "    box-shadow: none;\n",
              "  }\n",
              "\n",
              "  .colab-df-spinner {\n",
              "    border: 2px solid var(--fill-color);\n",
              "    border-color: transparent;\n",
              "    border-bottom-color: var(--fill-color);\n",
              "    animation:\n",
              "      spin 1s steps(1) infinite;\n",
              "  }\n",
              "\n",
              "  @keyframes spin {\n",
              "    0% {\n",
              "      border-color: transparent;\n",
              "      border-bottom-color: var(--fill-color);\n",
              "      border-left-color: var(--fill-color);\n",
              "    }\n",
              "    20% {\n",
              "      border-color: transparent;\n",
              "      border-left-color: var(--fill-color);\n",
              "      border-top-color: var(--fill-color);\n",
              "    }\n",
              "    30% {\n",
              "      border-color: transparent;\n",
              "      border-left-color: var(--fill-color);\n",
              "      border-top-color: var(--fill-color);\n",
              "      border-right-color: var(--fill-color);\n",
              "    }\n",
              "    40% {\n",
              "      border-color: transparent;\n",
              "      border-right-color: var(--fill-color);\n",
              "      border-top-color: var(--fill-color);\n",
              "    }\n",
              "    60% {\n",
              "      border-color: transparent;\n",
              "      border-right-color: var(--fill-color);\n",
              "    }\n",
              "    80% {\n",
              "      border-color: transparent;\n",
              "      border-right-color: var(--fill-color);\n",
              "      border-bottom-color: var(--fill-color);\n",
              "    }\n",
              "    90% {\n",
              "      border-color: transparent;\n",
              "      border-bottom-color: var(--fill-color);\n",
              "    }\n",
              "  }\n",
              "</style>\n",
              "\n",
              "      <script>\n",
              "        async function quickchart(key) {\n",
              "          const quickchartButtonEl =\n",
              "            document.querySelector('#' + key + ' button');\n",
              "          quickchartButtonEl.disabled = true;  // To prevent multiple clicks.\n",
              "          quickchartButtonEl.classList.add('colab-df-spinner');\n",
              "          try {\n",
              "            const charts = await google.colab.kernel.invokeFunction(\n",
              "                'suggestCharts', [key], {});\n",
              "          } catch (error) {\n",
              "            console.error('Error during call to suggestCharts:', error);\n",
              "          }\n",
              "          quickchartButtonEl.classList.remove('colab-df-spinner');\n",
              "          quickchartButtonEl.classList.add('colab-df-quickchart-complete');\n",
              "        }\n",
              "        (() => {\n",
              "          let quickchartButtonEl =\n",
              "            document.querySelector('#df-7722958a-d454-4dca-9f85-41161ba7eeee button');\n",
              "          quickchartButtonEl.style.display =\n",
              "            google.colab.kernel.accessAllowed ? 'block' : 'none';\n",
              "        })();\n",
              "      </script>\n",
              "    </div>\n",
              "\n",
              "    </div>\n",
              "  </div>\n"
            ],
            "application/vnd.google.colaboratory.intrinsic+json": {
              "type": "dataframe",
              "variable_name": "df_filtered",
              "summary": "{\n  \"name\": \"df_filtered\",\n  \"rows\": 196,\n  \"fields\": [\n    {\n      \"column\": \"Country/Territory\",\n      \"properties\": {\n        \"dtype\": \"string\",\n        \"num_unique_values\": 196,\n        \"samples\": [\n          \"Ivory Coast\",\n          \"Indonesia\",\n          \"Japan\"\n        ],\n        \"semantic_type\": \"\",\n        \"description\": \"\"\n      }\n    },\n    {\n      \"column\": \"UN_Region\",\n      \"properties\": {\n        \"dtype\": \"category\",\n        \"num_unique_values\": 6,\n        \"samples\": [\n          \"Europe\",\n          \"Asia\",\n          \"World\"\n        ],\n        \"semantic_type\": \"\",\n        \"description\": \"\"\n      }\n    },\n    {\n      \"column\": \"IMF_Estimate\",\n      \"properties\": {\n        \"dtype\": \"number\",\n        \"std\": 11861,\n        \"min\": 0,\n        \"max\": 50571,\n        \"num_unique_values\": 177,\n        \"samples\": [\n          31368,\n          14804,\n          1736\n        ],\n        \"semantic_type\": \"\",\n        \"description\": \"\"\n      }\n    },\n    {\n      \"column\": \"IMF_Year\",\n      \"properties\": {\n        \"dtype\": \"number\",\n        \"std\": 613,\n        \"min\": 0,\n        \"max\": 2023,\n        \"num_unique_values\": 4,\n        \"samples\": [\n          2023,\n          2022,\n          0\n        ],\n        \"semantic_type\": \"\",\n        \"description\": \"\"\n      }\n    },\n    {\n      \"column\": \"WorldBank_Estimate\",\n      \"properties\": {\n        \"dtype\": \"number\",\n        \"std\": 13980,\n        \"min\": 0,\n        \"max\": 87158,\n        \"num_unique_values\": 190,\n        \"samples\": [\n          676,\n          492,\n          4836\n        ],\n        \"semantic_type\": \"\",\n        \"description\": \"\"\n      }\n    },\n    {\n      \"column\": \"WorldBank_Year\",\n      \"properties\": {\n        \"dtype\": \"number\",\n        \"std\": 348,\n        \"min\": 0,\n        \"max\": 2021,\n        \"num_unique_values\": 9,\n        \"samples\": [\n          2011,\n          2007,\n          2018\n        ],\n        \"semantic_type\": \"\",\n        \"description\": \"\"\n      }\n    },\n    {\n      \"column\": \"UN_Estimate\",\n      \"properties\": {\n        \"dtype\": \"number\",\n        \"std\": 10872,\n        \"min\": 0,\n        \"max\": 46542,\n        \"num_unique_values\": 188,\n        \"samples\": [\n          613,\n          1089,\n          29135\n        ],\n        \"semantic_type\": \"\",\n        \"description\": \"\"\n      }\n    },\n    {\n      \"column\": \"UN_Year\",\n      \"properties\": {\n        \"dtype\": \"category\",\n        \"num_unique_values\": 3,\n        \"samples\": [\n          \"0\",\n          \"2021\",\n          \"[n 10]2021\"\n        ],\n        \"semantic_type\": \"\",\n        \"description\": \"\"\n      }\n    }\n  ]\n}"
            }
          },
          "metadata": {},
          "execution_count": 58
        }
      ],
      "source": [
        "df_filtered.head()"
      ]
    },
    {
      "cell_type": "code",
      "execution_count": 59,
      "id": "182221f6",
      "metadata": {
        "id": "182221f6",
        "colab": {
          "base_uri": "https://localhost:8080/"
        },
        "outputId": "50124f42-b757-4ba2-8343-66928903e1d7"
      },
      "outputs": [
        {
          "output_type": "execute_result",
          "data": {
            "text/plain": [
              "(196, 8)"
            ]
          },
          "metadata": {},
          "execution_count": 59
        }
      ],
      "source": [
        "df_filtered.shape\n",
        "# there were 223 rows - 196 = 27 outliers dropped"
      ]
    },
    {
      "cell_type": "code",
      "execution_count": 60,
      "id": "e1c70288",
      "metadata": {
        "id": "e1c70288",
        "colab": {
          "base_uri": "https://localhost:8080/"
        },
        "outputId": "c75e0d78-4aa8-4a2f-8321-f590db217155"
      },
      "outputs": [
        {
          "output_type": "execute_result",
          "data": {
            "text/plain": [
              "np.float64(9415.168367346938)"
            ]
          },
          "metadata": {},
          "execution_count": 60
        }
      ],
      "source": [
        "df_filtered.UN_Estimate.mean()"
      ]
    },
    {
      "cell_type": "code",
      "execution_count": 61,
      "id": "97b2a6f8-8898-4184-acca-922ca7a303b2",
      "metadata": {
        "id": "97b2a6f8-8898-4184-acca-922ca7a303b2",
        "colab": {
          "base_uri": "https://localhost:8080/"
        },
        "outputId": "1b18b95e-051e-4f0d-902e-d6a33e952d87"
      },
      "outputs": [
        {
          "output_type": "execute_result",
          "data": {
            "text/plain": [
              "np.float64(17767.304932735427)"
            ]
          },
          "metadata": {},
          "execution_count": 61
        }
      ],
      "source": [
        "df.UN_Estimate.mean()"
      ]
    },
    {
      "cell_type": "code",
      "execution_count": 62,
      "id": "1dbffbdf",
      "metadata": {
        "id": "1dbffbdf",
        "colab": {
          "base_uri": "https://localhost:8080/"
        },
        "outputId": "23b39861-e55a-4386-e4c7-1050146d4322"
      },
      "outputs": [
        {
          "output_type": "execute_result",
          "data": {
            "text/plain": [
              "np.float64(11096.647959183674)"
            ]
          },
          "metadata": {},
          "execution_count": 62
        }
      ],
      "source": [
        "#how can we create a table with following\n",
        "df_filtered.WorldBank_Estimate.mean()"
      ]
    },
    {
      "cell_type": "code",
      "execution_count": 63,
      "id": "17da2063-80e6-4530-b3f3-dd8af25402af",
      "metadata": {
        "id": "17da2063-80e6-4530-b3f3-dd8af25402af",
        "colab": {
          "base_uri": "https://localhost:8080/"
        },
        "outputId": "75b258b9-ad73-413b-d45d-0379d49fa8c7"
      },
      "outputs": [
        {
          "output_type": "execute_result",
          "data": {
            "text/plain": [
              "np.float64(18927.417040358745)"
            ]
          },
          "metadata": {},
          "execution_count": 63
        }
      ],
      "source": [
        "df.WorldBank_Estimate.mean()"
      ]
    },
    {
      "cell_type": "code",
      "execution_count": 64,
      "id": "6fee31d1",
      "metadata": {
        "id": "6fee31d1",
        "colab": {
          "base_uri": "https://localhost:8080/"
        },
        "outputId": "a97161f6-1623-4ede-c910-39e03a9c69a6"
      },
      "outputs": [
        {
          "output_type": "execute_result",
          "data": {
            "text/plain": [
              "np.float64(9784.326530612245)"
            ]
          },
          "metadata": {},
          "execution_count": 64
        }
      ],
      "source": [
        "df_filtered.IMF_Estimate.mean()"
      ]
    },
    {
      "cell_type": "code",
      "execution_count": 65,
      "id": "7ed56b48-b1a1-4e70-b9cb-fecc961f2993",
      "metadata": {
        "id": "7ed56b48-b1a1-4e70-b9cb-fecc961f2993",
        "colab": {
          "base_uri": "https://localhost:8080/"
        },
        "outputId": "a8803e20-6098-48de-ee84-c00fb216bd01"
      },
      "outputs": [
        {
          "output_type": "execute_result",
          "data": {
            "text/plain": [
              "np.float64(15351.632286995517)"
            ]
          },
          "metadata": {},
          "execution_count": 65
        }
      ],
      "source": [
        "df.IMF_Estimate.mean()"
      ]
    }
  ],
  "metadata": {
    "kernelspec": {
      "display_name": "Python 3 (ipykernel)",
      "language": "python",
      "name": "python3"
    },
    "language_info": {
      "codemirror_mode": {
        "name": "ipython",
        "version": 3
      },
      "file_extension": ".py",
      "mimetype": "text/x-python",
      "name": "python",
      "nbconvert_exporter": "python",
      "pygments_lexer": "ipython3",
      "version": "3.12.4"
    },
    "colab": {
      "provenance": [],
      "toc_visible": true,
      "include_colab_link": true
    }
  },
  "nbformat": 4,
  "nbformat_minor": 5
}